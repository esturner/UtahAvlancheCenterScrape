{
 "cells": [
  {
   "cell_type": "markdown",
   "id": "3871927b-f3b5-438e-bc49-3f4823e9fef1",
   "metadata": {
    "tags": []
   },
   "source": [
    "# Avalanche Data Project"
   ]
  },
  {
   "cell_type": "markdown",
   "id": "7a67fdcb-b936-4461-af21-f94030ca6725",
   "metadata": {
    "tags": []
   },
   "source": [
    "## Introduction\n",
    "\n",
    "The main idea of this project is to generate a well calibrated avalanche report based on observations of winter conditions typically performed by backcountry skiers and snowboarders. These reports provide very valuable information for not only backcountry users but also highway management in mountainous terrain. Currently the reports are carried out by publically and government support. This avalanche project uses observations from the Utah Avalanche Center (UAC) Website (https://utahavalanchecenter.org) which hosts reports that cover the entire state. This document explains my thought process on  how to make a model for predicting the likelyhood of an avalanche based on previous day observations. "
   ]
  },
  {
   "cell_type": "code",
   "execution_count": 95,
   "id": "2d27fbbd-e623-47a3-a145-97d572b7d93c",
   "metadata": {},
   "outputs": [
    {
     "data": {
      "text/plain": [
       "'1.5.3'"
      ]
     },
     "execution_count": 95,
     "metadata": {},
     "output_type": "execute_result"
    }
   ],
   "source": [
    "import pandas as pd\n",
    "import os\n",
    "import requests\n",
    "import numpy as np\n",
    "import matplotlib.pyplot as plt\n",
    "from bs4 import BeautifulSoup\n",
    "import datetime\n",
    "import re\n",
    "\n",
    "#for the attempt at location data\n",
    "from selenium import webdriver\n",
    "from selenium.webdriver.common.keys import Keys\n",
    "from selenium.webdriver.common.by import By\n",
    "from selenium.webdriver.support.ui import WebDriverWait\n",
    "from selenium.webdriver.support import expected_conditions as EC\n",
    "\n",
    "pd.__version__"
   ]
  },
  {
   "cell_type": "markdown",
   "id": "023825d2-b647-4549-b516-bd6f4cb92b67",
   "metadata": {},
   "source": [
    "I got some good infor on converting html files into pandas dataframes from this article, https://towardsdatascience.com/how-to-get-tables-from-websites-into-pandas-dataframes-e82bd8a0ac59. `"
   ]
  },
  {
   "cell_type": "markdown",
   "id": "90b025d5-f35f-4489-9106-c33095fea1a6",
   "metadata": {},
   "source": [
    "## Collecting Observation Data\n",
    "\n",
    "### Observations List"
   ]
  },
  {
   "cell_type": "markdown",
   "id": "2bb65d18-473b-4efc-9c9f-05c0a00e48ca",
   "metadata": {},
   "source": [
    "First we get a list of observations from the UAC's website before we draw out each avalanche/conditions observation and log that in a table of observations or catalog. Each observation in the catalog holds whatever data that observer reports (weather, tests, descriptions, avalanche, etc). First we need to extract a list of all the observations made on the site's observation site (https://utahavalanchecenter.org/observations)."
   ]
  },
  {
   "cell_type": "code",
   "execution_count": 3,
   "id": "76fde28d-fddd-4d5f-8764-aa041d135881",
   "metadata": {},
   "outputs": [
    {
     "data": {
      "text/html": [
       "<div>\n",
       "<style scoped>\n",
       "    .dataframe tbody tr th:only-of-type {\n",
       "        vertical-align: middle;\n",
       "    }\n",
       "\n",
       "    .dataframe tbody tr th {\n",
       "        vertical-align: top;\n",
       "    }\n",
       "\n",
       "    .dataframe thead th {\n",
       "        text-align: right;\n",
       "    }\n",
       "</style>\n",
       "<table border=\"1\" class=\"dataframe\">\n",
       "  <thead>\n",
       "    <tr style=\"text-align: right;\">\n",
       "      <th></th>\n",
       "      <th>(Date, None)</th>\n",
       "      <th>(Region, None)</th>\n",
       "      <th>(, None)</th>\n",
       "      <th>(Observer, None)</th>\n",
       "    </tr>\n",
       "  </thead>\n",
       "  <tbody>\n",
       "    <tr>\n",
       "      <th>0</th>\n",
       "      <td>(4/1/2023, None)</td>\n",
       "      <td>(Uintas, None)</td>\n",
       "      <td>(Observation: Upper Setting, /observation/77729)</td>\n",
       "      <td>(D Earl, None)</td>\n",
       "    </tr>\n",
       "    <tr>\n",
       "      <th>1</th>\n",
       "      <td>(4/1/2023, None)</td>\n",
       "      <td>(Uintas, None)</td>\n",
       "      <td>(Observation: Whitney Basin, /observation/77747)</td>\n",
       "      <td>(Ted Scroggin, None)</td>\n",
       "    </tr>\n",
       "    <tr>\n",
       "      <th>2</th>\n",
       "      <td>(4/1/2023, None)</td>\n",
       "      <td>(Salt Lake, None)</td>\n",
       "      <td>(Avalanche: Oquirrh Mountains, /avalanche/77751)</td>\n",
       "      <td>(A Sotkin, None)</td>\n",
       "    </tr>\n",
       "    <tr>\n",
       "      <th>3</th>\n",
       "      <td>(4/1/2023, None)</td>\n",
       "      <td>(Salt Lake, None)</td>\n",
       "      <td>(Observation: Yellow Jacket, /observation/77749)</td>\n",
       "      <td>(T Diegel, None)</td>\n",
       "    </tr>\n",
       "    <tr>\n",
       "      <th>4</th>\n",
       "      <td>(4/1/2023, None)</td>\n",
       "      <td>(Provo, None)</td>\n",
       "      <td>(Avalanche: Tibble Fork, /avalanche/77727)</td>\n",
       "      <td>(Chris Maples, None)</td>\n",
       "    </tr>\n",
       "  </tbody>\n",
       "</table>\n",
       "</div>"
      ],
      "text/plain": [
       "       (Date, None)     (Region, None)  \\\n",
       "0  (4/1/2023, None)     (Uintas, None)   \n",
       "1  (4/1/2023, None)     (Uintas, None)   \n",
       "2  (4/1/2023, None)  (Salt Lake, None)   \n",
       "3  (4/1/2023, None)  (Salt Lake, None)   \n",
       "4  (4/1/2023, None)      (Provo, None)   \n",
       "\n",
       "                                           (, None)      (Observer, None)  \n",
       "0  (Observation: Upper Setting, /observation/77729)        (D Earl, None)  \n",
       "1  (Observation: Whitney Basin, /observation/77747)  (Ted Scroggin, None)  \n",
       "2  (Avalanche: Oquirrh Mountains, /avalanche/77751)      (A Sotkin, None)  \n",
       "3  (Observation: Yellow Jacket, /observation/77749)      (T Diegel, None)  \n",
       "4        (Avalanche: Tibble Fork, /avalanche/77727)  (Chris Maples, None)  "
      ]
     },
     "execution_count": 3,
     "metadata": {},
     "output_type": "execute_result"
    }
   ],
   "source": [
    "avy_center_url = 'http://utahavalanchecenter.org'\n",
    "observations_url = avy_center_url + '/observations'\n",
    "page = requests.get(observations_url)\n",
    "soup = BeautifulSoup(page.content, 'html.parser')\n",
    "tbl = soup.find(\"table\")\n",
    "#print(tbl.dtype)\n",
    "page_obs = pd.read_html(str(tbl),extract_links ='all')[0]\n",
    "page_obs.head()"
   ]
  },
  {
   "cell_type": "markdown",
   "id": "6e113840-a65f-41af-ae9d-f6344c903cf3",
   "metadata": {},
   "source": [
    "The main problem with the extract_links is it converts everying into a tuple. We want to eliminate the tuples and rewrite the \"(,None)\" column as \"link_extensions\"."
   ]
  },
  {
   "cell_type": "code",
   "execution_count": 4,
   "id": "0c01b8a2-5ae5-4c57-bb05-038fe9c7f6d5",
   "metadata": {},
   "outputs": [],
   "source": [
    "old_columns = page_obs.columns"
   ]
  },
  {
   "cell_type": "code",
   "execution_count": 5,
   "id": "f64b53cc-c0d3-4efd-a954-3b35556a02e3",
   "metadata": {},
   "outputs": [
    {
     "data": {
      "text/html": [
       "<div>\n",
       "<style scoped>\n",
       "    .dataframe tbody tr th:only-of-type {\n",
       "        vertical-align: middle;\n",
       "    }\n",
       "\n",
       "    .dataframe tbody tr th {\n",
       "        vertical-align: top;\n",
       "    }\n",
       "\n",
       "    .dataframe thead th {\n",
       "        text-align: right;\n",
       "    }\n",
       "</style>\n",
       "<table border=\"1\" class=\"dataframe\">\n",
       "  <thead>\n",
       "    <tr style=\"text-align: right;\">\n",
       "      <th></th>\n",
       "      <th>Date</th>\n",
       "      <th>Region</th>\n",
       "      <th>Observation Title</th>\n",
       "      <th>extension</th>\n",
       "      <th>Observer</th>\n",
       "    </tr>\n",
       "  </thead>\n",
       "  <tbody>\n",
       "    <tr>\n",
       "      <th>0</th>\n",
       "      <td>4/1/2023</td>\n",
       "      <td>Uintas</td>\n",
       "      <td>Observation: Upper Setting</td>\n",
       "      <td>/observation/77729</td>\n",
       "      <td>D Earl</td>\n",
       "    </tr>\n",
       "    <tr>\n",
       "      <th>1</th>\n",
       "      <td>4/1/2023</td>\n",
       "      <td>Uintas</td>\n",
       "      <td>Observation: Whitney Basin</td>\n",
       "      <td>/observation/77747</td>\n",
       "      <td>Ted Scroggin</td>\n",
       "    </tr>\n",
       "    <tr>\n",
       "      <th>2</th>\n",
       "      <td>4/1/2023</td>\n",
       "      <td>Salt Lake</td>\n",
       "      <td>Avalanche: Oquirrh Mountains</td>\n",
       "      <td>/avalanche/77751</td>\n",
       "      <td>A Sotkin</td>\n",
       "    </tr>\n",
       "    <tr>\n",
       "      <th>3</th>\n",
       "      <td>4/1/2023</td>\n",
       "      <td>Salt Lake</td>\n",
       "      <td>Observation: Yellow Jacket</td>\n",
       "      <td>/observation/77749</td>\n",
       "      <td>T Diegel</td>\n",
       "    </tr>\n",
       "    <tr>\n",
       "      <th>4</th>\n",
       "      <td>4/1/2023</td>\n",
       "      <td>Provo</td>\n",
       "      <td>Avalanche: Tibble Fork</td>\n",
       "      <td>/avalanche/77727</td>\n",
       "      <td>Chris Maples</td>\n",
       "    </tr>\n",
       "  </tbody>\n",
       "</table>\n",
       "</div>"
      ],
      "text/plain": [
       "       Date     Region             Observation Title           extension  \\\n",
       "0  4/1/2023     Uintas    Observation: Upper Setting  /observation/77729   \n",
       "1  4/1/2023     Uintas    Observation: Whitney Basin  /observation/77747   \n",
       "2  4/1/2023  Salt Lake  Avalanche: Oquirrh Mountains    /avalanche/77751   \n",
       "3  4/1/2023  Salt Lake    Observation: Yellow Jacket  /observation/77749   \n",
       "4  4/1/2023      Provo        Avalanche: Tibble Fork    /avalanche/77727   \n",
       "\n",
       "       Observer  \n",
       "0        D Earl  \n",
       "1  Ted Scroggin  \n",
       "2      A Sotkin  \n",
       "3      T Diegel  \n",
       "4  Chris Maples  "
      ]
     },
     "execution_count": 5,
     "metadata": {},
     "output_type": "execute_result"
    }
   ],
   "source": [
    "#change names\n",
    "page_obs[['Date', 'a']]= pd.DataFrame(page_obs[old_columns[0]].tolist(), index=page_obs.index)\n",
    "page_obs[['Region', 'b']]= pd.DataFrame(page_obs[old_columns[1]].tolist(), index=page_obs.index) \n",
    "page_obs[['Observation Title', 'extension']]= pd.DataFrame(page_obs[old_columns[2]].tolist(), index=page_obs.index) \n",
    "page_obs[['Observer', 'd']]= pd.DataFrame(page_obs[old_columns[3]].tolist(), index=page_obs.index)\n",
    "\n",
    "#remove old columns & columns with none\n",
    "page_obs=page_obs.drop(old_columns, axis=1)\n",
    "page_obs=page_obs.drop(['a','b','d'], axis=1)\n",
    "page_obs.head()"
   ]
  },
  {
   "cell_type": "markdown",
   "id": "d242a4fe-a6d4-4610-a41f-54c0cf259991",
   "metadata": {},
   "source": [
    "Lets wrap that all into some nice functions."
   ]
  },
  {
   "cell_type": "code",
   "execution_count": 6,
   "id": "958eb8a1-acab-4d72-a4c9-cb470db19aa4",
   "metadata": {},
   "outputs": [
    {
     "data": {
      "text/html": [
       "<div>\n",
       "<style scoped>\n",
       "    .dataframe tbody tr th:only-of-type {\n",
       "        vertical-align: middle;\n",
       "    }\n",
       "\n",
       "    .dataframe tbody tr th {\n",
       "        vertical-align: top;\n",
       "    }\n",
       "\n",
       "    .dataframe thead th {\n",
       "        text-align: right;\n",
       "    }\n",
       "</style>\n",
       "<table border=\"1\" class=\"dataframe\">\n",
       "  <thead>\n",
       "    <tr style=\"text-align: right;\">\n",
       "      <th></th>\n",
       "      <th>Date</th>\n",
       "      <th>Region</th>\n",
       "      <th>Observation Title</th>\n",
       "      <th>extension</th>\n",
       "      <th>Observer</th>\n",
       "    </tr>\n",
       "  </thead>\n",
       "  <tbody>\n",
       "    <tr>\n",
       "      <th>0</th>\n",
       "      <td>4/1/2023</td>\n",
       "      <td>Uintas</td>\n",
       "      <td>Observation: Upper Setting</td>\n",
       "      <td>/observation/77729</td>\n",
       "      <td>D Earl</td>\n",
       "    </tr>\n",
       "    <tr>\n",
       "      <th>1</th>\n",
       "      <td>4/1/2023</td>\n",
       "      <td>Uintas</td>\n",
       "      <td>Observation: Whitney Basin</td>\n",
       "      <td>/observation/77747</td>\n",
       "      <td>Ted Scroggin</td>\n",
       "    </tr>\n",
       "    <tr>\n",
       "      <th>2</th>\n",
       "      <td>4/1/2023</td>\n",
       "      <td>Salt Lake</td>\n",
       "      <td>Avalanche: Oquirrh Mountains</td>\n",
       "      <td>/avalanche/77751</td>\n",
       "      <td>A Sotkin</td>\n",
       "    </tr>\n",
       "    <tr>\n",
       "      <th>3</th>\n",
       "      <td>4/1/2023</td>\n",
       "      <td>Salt Lake</td>\n",
       "      <td>Observation: Yellow Jacket</td>\n",
       "      <td>/observation/77749</td>\n",
       "      <td>T Diegel</td>\n",
       "    </tr>\n",
       "    <tr>\n",
       "      <th>4</th>\n",
       "      <td>4/1/2023</td>\n",
       "      <td>Provo</td>\n",
       "      <td>Avalanche: Tibble Fork</td>\n",
       "      <td>/avalanche/77727</td>\n",
       "      <td>Chris Maples</td>\n",
       "    </tr>\n",
       "  </tbody>\n",
       "</table>\n",
       "</div>"
      ],
      "text/plain": [
       "       Date     Region             Observation Title           extension  \\\n",
       "0  4/1/2023     Uintas    Observation: Upper Setting  /observation/77729   \n",
       "1  4/1/2023     Uintas    Observation: Whitney Basin  /observation/77747   \n",
       "2  4/1/2023  Salt Lake  Avalanche: Oquirrh Mountains    /avalanche/77751   \n",
       "3  4/1/2023  Salt Lake    Observation: Yellow Jacket  /observation/77749   \n",
       "4  4/1/2023      Provo        Avalanche: Tibble Fork    /avalanche/77727   \n",
       "\n",
       "       Observer  \n",
       "0        D Earl  \n",
       "1  Ted Scroggin  \n",
       "2      A Sotkin  \n",
       "3      T Diegel  \n",
       "4  Chris Maples  "
      ]
     },
     "execution_count": 6,
     "metadata": {},
     "output_type": "execute_result"
    }
   ],
   "source": [
    "def get_page_obs(url):\n",
    "    '''returns a dataframe of avalanche observations from url. Data in df\n",
    "    includes Date, Region, Avalanche/Observation, (url) extension, and\n",
    "    observor'''\n",
    "    page = requests.get(url)\n",
    "    soup = BeautifulSoup(page.content, 'html.parser')\n",
    "    tbl=soup.find(\"table\")\n",
    "    page_obs = pd.read_html(str(tbl), extract_links='all')[0]\n",
    "    page_obs = clean_page_obs(page_obs)\n",
    "    return page_obs\n",
    "\n",
    "def clean_page_obs(page_obs):\n",
    "    '''Cleans up the html parser's interpretation of the observation list'''\n",
    "    old_columns = page_obs.columns\n",
    "    #change names \n",
    "    page_obs[['Date', 'a']]= pd.DataFrame(page_obs[old_columns[0]].tolist(), index=page_obs.index)\n",
    "    page_obs[['Region', 'b']]= pd.DataFrame(page_obs[old_columns[1]].tolist(), index=page_obs.index)\n",
    "    page_obs[['Observation Title', 'extension']]= pd.DataFrame(page_obs[old_columns[2]].tolist(), index=page_obs.index)\n",
    "    page_obs[['Observer', 'd']]= pd.DataFrame(page_obs[old_columns[3]].tolist(), index=page_obs.index)\n",
    "    #remove old columns & columns with none\n",
    "    page_obs=page_obs.drop(old_columns, axis=1)\n",
    "    page_obs=page_obs.drop(['a','b','d'], axis=1)\n",
    "    return page_obs\n",
    "\n",
    "page_obs = get_page_obs(observations_url)\n",
    "page_obs.head()\n"
   ]
  },
  {
   "cell_type": "markdown",
   "id": "adabea2a-16d1-46e0-a123-e88a5b7c7dd5",
   "metadata": {},
   "source": [
    "Next lets try iterating through each of the pages. The starting page url is https://utahavalanchecenter.org/observations. When clicked on the next page we get https://utahavalanchecenter.org/observations?page=1. So lets just keep stepping up from there."
   ]
  },
  {
   "cell_type": "code",
   "execution_count": 7,
   "id": "c3299ecb-8ed2-4940-8e3a-021dc188a489",
   "metadata": {},
   "outputs": [
    {
     "name": "stdout",
     "output_type": "stream",
     "text": [
      "Entries started with (0, 0) and ended with (250, 5)\n",
      "Date                                   4/1/2023\n",
      "Region                                   Uintas\n",
      "Observation Title    Observation: Upper Setting\n",
      "extension                    /observation/77729\n",
      "Observer                                 D Earl\n",
      "Name: 0, dtype: object\n",
      "Date                                   3/16/2023\n",
      "Region                                     Provo\n",
      "Observation Title    Avalanche: Mill Canyon Peak\n",
      "extension                       /avalanche/76798\n",
      "Observer                               Ryan Shea\n",
      "Name: 249, dtype: object\n"
     ]
    }
   ],
   "source": [
    "n_pages = 5\n",
    "page_obs = pd.DataFrame()\n",
    "entries_start= page_obs.shape\n",
    "for page in range(n_pages):\n",
    "    url = observations_url\n",
    "    if page != 0:\n",
    "        url = url + f\"?page={page}\"\n",
    "    page_obs_new = get_page_obs(url)\n",
    "    page_obs = pd.concat([page_obs, page_obs_new])\n",
    "page_obs = page_obs.reset_index(drop=True)\n",
    "entries_end = page_obs.shape\n",
    "print('Entries started with', entries_start,'and ended with', entries_end)\n",
    "print(page_obs.iloc[0])\n",
    "print(page_obs.iloc[-1])"
   ]
  },
  {
   "cell_type": "code",
   "execution_count": 8,
   "id": "55126c14-3577-4bfb-8ffd-7f64df5d5eb4",
   "metadata": {},
   "outputs": [
    {
     "data": {
      "text/html": [
       "<div>\n",
       "<style scoped>\n",
       "    .dataframe tbody tr th:only-of-type {\n",
       "        vertical-align: middle;\n",
       "    }\n",
       "\n",
       "    .dataframe tbody tr th {\n",
       "        vertical-align: top;\n",
       "    }\n",
       "\n",
       "    .dataframe thead th {\n",
       "        text-align: right;\n",
       "    }\n",
       "</style>\n",
       "<table border=\"1\" class=\"dataframe\">\n",
       "  <thead>\n",
       "    <tr style=\"text-align: right;\">\n",
       "      <th></th>\n",
       "      <th>Date</th>\n",
       "      <th>Region</th>\n",
       "      <th>Observation Title</th>\n",
       "      <th>extension</th>\n",
       "      <th>Observer</th>\n",
       "    </tr>\n",
       "  </thead>\n",
       "  <tbody>\n",
       "    <tr>\n",
       "      <th>0</th>\n",
       "      <td>4/1/2023</td>\n",
       "      <td>Uintas</td>\n",
       "      <td>Observation: Upper Setting</td>\n",
       "      <td>/observation/77729</td>\n",
       "      <td>D Earl</td>\n",
       "    </tr>\n",
       "    <tr>\n",
       "      <th>1</th>\n",
       "      <td>4/1/2023</td>\n",
       "      <td>Uintas</td>\n",
       "      <td>Observation: Whitney Basin</td>\n",
       "      <td>/observation/77747</td>\n",
       "      <td>Ted Scroggin</td>\n",
       "    </tr>\n",
       "    <tr>\n",
       "      <th>2</th>\n",
       "      <td>4/1/2023</td>\n",
       "      <td>Salt Lake</td>\n",
       "      <td>Avalanche: Oquirrh Mountains</td>\n",
       "      <td>/avalanche/77751</td>\n",
       "      <td>A Sotkin</td>\n",
       "    </tr>\n",
       "    <tr>\n",
       "      <th>3</th>\n",
       "      <td>4/1/2023</td>\n",
       "      <td>Salt Lake</td>\n",
       "      <td>Observation: Yellow Jacket</td>\n",
       "      <td>/observation/77749</td>\n",
       "      <td>T Diegel</td>\n",
       "    </tr>\n",
       "    <tr>\n",
       "      <th>4</th>\n",
       "      <td>4/1/2023</td>\n",
       "      <td>Provo</td>\n",
       "      <td>Avalanche: Tibble Fork</td>\n",
       "      <td>/avalanche/77727</td>\n",
       "      <td>Chris Maples</td>\n",
       "    </tr>\n",
       "    <tr>\n",
       "      <th>...</th>\n",
       "      <td>...</td>\n",
       "      <td>...</td>\n",
       "      <td>...</td>\n",
       "      <td>...</td>\n",
       "      <td>...</td>\n",
       "    </tr>\n",
       "    <tr>\n",
       "      <th>245</th>\n",
       "      <td>3/16/2023</td>\n",
       "      <td>Salt Lake</td>\n",
       "      <td>Avalanche: No Name Baldy</td>\n",
       "      <td>/avalanche/76819</td>\n",
       "      <td>Alex Stoll</td>\n",
       "    </tr>\n",
       "    <tr>\n",
       "      <th>246</th>\n",
       "      <td>3/16/2023</td>\n",
       "      <td>Salt Lake</td>\n",
       "      <td>Avalanche: Cardiff Fork</td>\n",
       "      <td>/avalanche/76815</td>\n",
       "      <td>Hoffman</td>\n",
       "    </tr>\n",
       "    <tr>\n",
       "      <th>247</th>\n",
       "      <td>3/16/2023</td>\n",
       "      <td>Salt Lake</td>\n",
       "      <td>Avalanche: Superior</td>\n",
       "      <td>/avalanche/76801</td>\n",
       "      <td>SB</td>\n",
       "    </tr>\n",
       "    <tr>\n",
       "      <th>248</th>\n",
       "      <td>3/16/2023</td>\n",
       "      <td>Salt Lake</td>\n",
       "      <td>Avalanche: Superior</td>\n",
       "      <td>/avalanche/76796</td>\n",
       "      <td>SD</td>\n",
       "    </tr>\n",
       "    <tr>\n",
       "      <th>249</th>\n",
       "      <td>3/16/2023</td>\n",
       "      <td>Provo</td>\n",
       "      <td>Avalanche: Mill Canyon Peak</td>\n",
       "      <td>/avalanche/76798</td>\n",
       "      <td>Ryan Shea</td>\n",
       "    </tr>\n",
       "  </tbody>\n",
       "</table>\n",
       "<p>250 rows × 5 columns</p>\n",
       "</div>"
      ],
      "text/plain": [
       "          Date     Region             Observation Title           extension  \\\n",
       "0     4/1/2023     Uintas    Observation: Upper Setting  /observation/77729   \n",
       "1     4/1/2023     Uintas    Observation: Whitney Basin  /observation/77747   \n",
       "2     4/1/2023  Salt Lake  Avalanche: Oquirrh Mountains    /avalanche/77751   \n",
       "3     4/1/2023  Salt Lake    Observation: Yellow Jacket  /observation/77749   \n",
       "4     4/1/2023      Provo        Avalanche: Tibble Fork    /avalanche/77727   \n",
       "..         ...        ...                           ...                 ...   \n",
       "245  3/16/2023  Salt Lake      Avalanche: No Name Baldy    /avalanche/76819   \n",
       "246  3/16/2023  Salt Lake       Avalanche: Cardiff Fork    /avalanche/76815   \n",
       "247  3/16/2023  Salt Lake           Avalanche: Superior    /avalanche/76801   \n",
       "248  3/16/2023  Salt Lake           Avalanche: Superior    /avalanche/76796   \n",
       "249  3/16/2023      Provo   Avalanche: Mill Canyon Peak    /avalanche/76798   \n",
       "\n",
       "         Observer  \n",
       "0          D Earl  \n",
       "1    Ted Scroggin  \n",
       "2        A Sotkin  \n",
       "3        T Diegel  \n",
       "4    Chris Maples  \n",
       "..            ...  \n",
       "245    Alex Stoll  \n",
       "246       Hoffman  \n",
       "247            SB  \n",
       "248            SD  \n",
       "249     Ryan Shea  \n",
       "\n",
       "[250 rows x 5 columns]"
      ]
     },
     "execution_count": 8,
     "metadata": {},
     "output_type": "execute_result"
    }
   ],
   "source": [
    "page_obs"
   ]
  },
  {
   "cell_type": "markdown",
   "id": "695a84d2-d3b2-461e-840e-1d89cbe4b671",
   "metadata": {},
   "source": [
    "#### Custom Date Range\n",
    "Utah Avalanche also allows for you to look back into past season's avalanches using the custom date range. Given the range from 01/01/2021 to 12/01/2021 the output url is: https://utahavalanchecenter.org/observations?rid=All&term=All&fodv%5Bmin%5D%5Bdate%5D=01/01/2021&fodv%5Bmax%5D%5Bdate%5D=12/01/2021."
   ]
  },
  {
   "cell_type": "code",
   "execution_count": 9,
   "id": "b71e32cd-2e49-4954-813a-02cb1af4e489",
   "metadata": {},
   "outputs": [
    {
     "name": "stdout",
     "output_type": "stream",
     "text": [
      "365 days, 0:00:00\n",
      "<class 'datetime.datetime'>\n"
     ]
    }
   ],
   "source": [
    "start_date = datetime.datetime(2022, 1, 1)\n",
    "end_date = datetime.datetime(2023, 1, 1)\n",
    "print(end_date-start_date)\n",
    "print(type(start_date))"
   ]
  },
  {
   "cell_type": "code",
   "execution_count": 10,
   "id": "8f7c0ec5-4e0c-49b0-8fd3-6352a49b0da0",
   "metadata": {},
   "outputs": [
    {
     "name": "stdout",
     "output_type": "stream",
     "text": [
      "The urls match: https://utahavalanchecenter.org/observations?rid=All&term=All&fodv%5Bmin%5D%5Bdate%5D=01/01/2021&fodv%5Bmax%5D%5Bdate%5D=12/01/2021\n"
     ]
    }
   ],
   "source": [
    "def generate_url(start_date, end_date):\n",
    "    return f\"https://utahavalanchecenter.org/observations?rid=All&term=All&fodv%5Bmin%5D%5Bdate%5D={start_date.month:02d}/{start_date.day:02d}/{start_date.year}&fodv%5Bmax%5D%5Bdate%5D={end_date.month:02d}/{end_date.day:02d}/{end_date.year}\"\n",
    "    \n",
    "gen_url=generate_url(start_date = datetime.datetime(2021,1,1), end_date = datetime.datetime(2021, 12,1))\n",
    "if gen_url == 'https://utahavalanchecenter.org/observations?rid=All&term=All&fodv%5Bmin%5D%5Bdate%5D=01/01/2021&fodv%5Bmax%5D%5Bdate%5D=12/01/2021':\n",
    "    print('The urls match:', gen_url)\n",
    "else:\n",
    "    print('The urls failed:')\n",
    "    print(gen_url)\n",
    "    print('https://utahavalanchecenter.org/observations?rid=All&term=All&fodv%5Bmin%5D%5Bdate%5D=01/01/2021&fodv%5Bmax%5D%5Bdate%5D=12/01/2021')"
   ]
  },
  {
   "cell_type": "markdown",
   "id": "6532cbcd-1958-4f08-b67f-b6f1ff9b9823",
   "metadata": {},
   "source": [
    "For a large enough range there will be multiple pages and we will need to iterate through those. To step through the pages we just need to add the string '&page=page_num' to the generated url where page_num is the page number."
   ]
  },
  {
   "cell_type": "code",
   "execution_count": 11,
   "id": "87818681-694d-4107-9260-dd91d1c6c9fc",
   "metadata": {},
   "outputs": [
    {
     "data": {
      "text/html": [
       "<div>\n",
       "<style scoped>\n",
       "    .dataframe tbody tr th:only-of-type {\n",
       "        vertical-align: middle;\n",
       "    }\n",
       "\n",
       "    .dataframe tbody tr th {\n",
       "        vertical-align: top;\n",
       "    }\n",
       "\n",
       "    .dataframe thead th {\n",
       "        text-align: right;\n",
       "    }\n",
       "</style>\n",
       "<table border=\"1\" class=\"dataframe\">\n",
       "  <thead>\n",
       "    <tr style=\"text-align: right;\">\n",
       "      <th></th>\n",
       "      <th>Date</th>\n",
       "      <th>Region</th>\n",
       "      <th>Observation Title</th>\n",
       "      <th>extension</th>\n",
       "      <th>Observer</th>\n",
       "    </tr>\n",
       "  </thead>\n",
       "  <tbody>\n",
       "    <tr>\n",
       "      <th>0</th>\n",
       "      <td>12/31/2022</td>\n",
       "      <td>Ogden</td>\n",
       "      <td>Avalanche: Rodeo Ridge</td>\n",
       "      <td>/avalanche/72835</td>\n",
       "      <td>Bill Brandt</td>\n",
       "    </tr>\n",
       "    <tr>\n",
       "      <th>1</th>\n",
       "      <td>12/31/2022</td>\n",
       "      <td>Ogden</td>\n",
       "      <td>Avalanche: Cutler Basin</td>\n",
       "      <td>/avalanche/72774</td>\n",
       "      <td>Joe</td>\n",
       "    </tr>\n",
       "    <tr>\n",
       "      <th>2</th>\n",
       "      <td>12/31/2022</td>\n",
       "      <td>Logan</td>\n",
       "      <td>Observation: Beaver Mountain Backcountry</td>\n",
       "      <td>/observation/72698</td>\n",
       "      <td>weed, pagnucco</td>\n",
       "    </tr>\n",
       "    <tr>\n",
       "      <th>3</th>\n",
       "      <td>12/31/2022</td>\n",
       "      <td>Salt Lake</td>\n",
       "      <td>Avalanche: Willows</td>\n",
       "      <td>/avalanche/72713</td>\n",
       "      <td>McKay</td>\n",
       "    </tr>\n",
       "    <tr>\n",
       "      <th>4</th>\n",
       "      <td>12/31/2022</td>\n",
       "      <td>Provo</td>\n",
       "      <td>Avalanche: North Fork Provo R.</td>\n",
       "      <td>/avalanche/72726</td>\n",
       "      <td></td>\n",
       "    </tr>\n",
       "    <tr>\n",
       "      <th>...</th>\n",
       "      <td>...</td>\n",
       "      <td>...</td>\n",
       "      <td>...</td>\n",
       "      <td>...</td>\n",
       "      <td>...</td>\n",
       "    </tr>\n",
       "    <tr>\n",
       "      <th>519</th>\n",
       "      <td>12/1/2022</td>\n",
       "      <td>Provo</td>\n",
       "      <td>Observation: Provo</td>\n",
       "      <td>/observation/70921</td>\n",
       "      <td>Susan S</td>\n",
       "    </tr>\n",
       "    <tr>\n",
       "      <th>520</th>\n",
       "      <td>12/1/2022</td>\n",
       "      <td>Salt Lake</td>\n",
       "      <td>Observation: Brighton Perimeter</td>\n",
       "      <td>/observation/70924</td>\n",
       "      <td>Talty, Coyne, Gill</td>\n",
       "    </tr>\n",
       "    <tr>\n",
       "      <th>521</th>\n",
       "      <td>12/1/2022</td>\n",
       "      <td>Salt Lake</td>\n",
       "      <td>Observation: West ridge</td>\n",
       "      <td>/observation/70928</td>\n",
       "      <td>Will Ambler, Will Marin</td>\n",
       "    </tr>\n",
       "    <tr>\n",
       "      <th>522</th>\n",
       "      <td>12/1/2022</td>\n",
       "      <td>Salt Lake</td>\n",
       "      <td>Avalanche: Mineral Fork</td>\n",
       "      <td>/avalanche/70931</td>\n",
       "      <td>Julian Kallanian</td>\n",
       "    </tr>\n",
       "    <tr>\n",
       "      <th>523</th>\n",
       "      <td>12/1/2022</td>\n",
       "      <td>Salt Lake</td>\n",
       "      <td>Observation: Willows</td>\n",
       "      <td>/observation/70929</td>\n",
       "      <td>John Lemnotis</td>\n",
       "    </tr>\n",
       "  </tbody>\n",
       "</table>\n",
       "<p>524 rows × 5 columns</p>\n",
       "</div>"
      ],
      "text/plain": [
       "           Date     Region                         Observation Title  \\\n",
       "0    12/31/2022      Ogden                    Avalanche: Rodeo Ridge   \n",
       "1    12/31/2022      Ogden                   Avalanche: Cutler Basin   \n",
       "2    12/31/2022      Logan  Observation: Beaver Mountain Backcountry   \n",
       "3    12/31/2022  Salt Lake                        Avalanche: Willows   \n",
       "4    12/31/2022      Provo            Avalanche: North Fork Provo R.   \n",
       "..          ...        ...                                       ...   \n",
       "519   12/1/2022      Provo                        Observation: Provo   \n",
       "520   12/1/2022  Salt Lake           Observation: Brighton Perimeter   \n",
       "521   12/1/2022  Salt Lake                   Observation: West ridge   \n",
       "522   12/1/2022  Salt Lake                   Avalanche: Mineral Fork   \n",
       "523   12/1/2022  Salt Lake                      Observation: Willows   \n",
       "\n",
       "              extension                 Observer  \n",
       "0      /avalanche/72835              Bill Brandt  \n",
       "1      /avalanche/72774                      Joe  \n",
       "2    /observation/72698           weed, pagnucco  \n",
       "3      /avalanche/72713                    McKay  \n",
       "4      /avalanche/72726                           \n",
       "..                  ...                      ...  \n",
       "519  /observation/70921                  Susan S  \n",
       "520  /observation/70924       Talty, Coyne, Gill  \n",
       "521  /observation/70928  Will Ambler, Will Marin  \n",
       "522    /avalanche/70931         Julian Kallanian  \n",
       "523  /observation/70929            John Lemnotis  \n",
       "\n",
       "[524 rows x 5 columns]"
      ]
     },
     "execution_count": 11,
     "metadata": {},
     "output_type": "execute_result"
    }
   ],
   "source": [
    "#collect the reports from December 2022. \n",
    "start_date = datetime.datetime(2022, 12,1)\n",
    "end_date = datetime.datetime(2022, 12, 31)\n",
    "start_url = generate_url(start_date, end_date)\n",
    "page_num = 0\n",
    "observations = pd.DataFrame()\n",
    "while True:\n",
    "    try:\n",
    "        if page_num != 0:\n",
    "            data_url = start_url + f\"&page={page_num}\"\n",
    "        else:\n",
    "            data_url = start_url\n",
    "        page_obs_new = get_page_obs(data_url)\n",
    "        observations = pd.concat([observations, page_obs_new])\n",
    "        page_num += 1\n",
    "    except:\n",
    "        break\n",
    "observations = observations.reset_index(drop=True)\n",
    "observations"
   ]
  },
  {
   "cell_type": "code",
   "execution_count": 12,
   "id": "2e7291d1-e7b9-4bd9-9643-f64ce29f2a85",
   "metadata": {},
   "outputs": [],
   "source": [
    "#lets put that in a function\n",
    "def get_obs(start_date, end_date):\n",
    "    '''returns a dataframe of the observations on the UAC website. '''\n",
    "    start_url = generate_url(start_date, end_date)\n",
    "    page_num = 0\n",
    "    observations = pd.DataFrame()\n",
    "    while True:\n",
    "        try:\n",
    "            if page_num != 0:\n",
    "                data_url = start_url + f\"&page={page_num}\"\n",
    "            else:\n",
    "                data_url = start_url\n",
    "            page_obs_new = get_page_obs(data_url)\n",
    "            observations = pd.concat([observations, page_obs_new])\n",
    "            page_num += 1\n",
    "        except:\n",
    "            #if the page can't be loaded then we've reached the end of available obs\n",
    "            break\n",
    "    observations = observations.reset_index(drop=True)\n",
    "    #TODO: if no start date or end date give this season's observations\n",
    "    return observations"
   ]
  },
  {
   "cell_type": "markdown",
   "id": "b9f7ca99-e0a2-4bbc-8d0d-a23554768a89",
   "metadata": {},
   "source": [
    "#### Season Data\n",
    "In general a ski season in the Wasatch typically lasts from the late fall (October or November) to mid spring (April or May). Therefore we can define a season easily between the dry months of July and August. If we wanted to collect the data from the current season we need only to look between \"today\" and the beginning of that season. "
   ]
  },
  {
   "cell_type": "code",
   "execution_count": 13,
   "id": "11711afb-21c3-4b7a-87a3-b4f3b9d082cd",
   "metadata": {},
   "outputs": [
    {
     "name": "stdout",
     "output_type": "stream",
     "text": [
      "2023-04-01 <class 'datetime.date'>\n",
      "2022-08-01 00:00:00\n"
     ]
    }
   ],
   "source": [
    "today = datetime.date.today()\n",
    "print(today, type(today))\n",
    "def get_season_start(date):\n",
    "    '''returns the beginning of the season as defined between the last August and the end of July'''\n",
    "    start_day = 1\n",
    "    start_month = 8\n",
    "    end_month = 7\n",
    "    if date.month < 7:\n",
    "        start_year = date.year-1\n",
    "    else:\n",
    "        start_year = date.year\n",
    "    return datetime.datetime(start_year, start_month, start_day)\n",
    "print(get_season_start(today))"
   ]
  },
  {
   "cell_type": "code",
   "execution_count": 14,
   "id": "99b342ea-1cec-4af8-94d2-25b4c016f3cd",
   "metadata": {},
   "outputs": [
    {
     "data": {
      "text/html": [
       "<div>\n",
       "<style scoped>\n",
       "    .dataframe tbody tr th:only-of-type {\n",
       "        vertical-align: middle;\n",
       "    }\n",
       "\n",
       "    .dataframe tbody tr th {\n",
       "        vertical-align: top;\n",
       "    }\n",
       "\n",
       "    .dataframe thead th {\n",
       "        text-align: right;\n",
       "    }\n",
       "</style>\n",
       "<table border=\"1\" class=\"dataframe\">\n",
       "  <thead>\n",
       "    <tr style=\"text-align: right;\">\n",
       "      <th></th>\n",
       "      <th>Date</th>\n",
       "      <th>Region</th>\n",
       "      <th>Observation Title</th>\n",
       "      <th>extension</th>\n",
       "      <th>Observer</th>\n",
       "    </tr>\n",
       "  </thead>\n",
       "  <tbody>\n",
       "    <tr>\n",
       "      <th>0</th>\n",
       "      <td>4/1/2023</td>\n",
       "      <td>Uintas</td>\n",
       "      <td>Observation: Upper Setting</td>\n",
       "      <td>/observation/77729</td>\n",
       "      <td>D Earl</td>\n",
       "    </tr>\n",
       "    <tr>\n",
       "      <th>1</th>\n",
       "      <td>4/1/2023</td>\n",
       "      <td>Uintas</td>\n",
       "      <td>Observation: Whitney Basin</td>\n",
       "      <td>/observation/77747</td>\n",
       "      <td>Ted Scroggin</td>\n",
       "    </tr>\n",
       "    <tr>\n",
       "      <th>2</th>\n",
       "      <td>4/1/2023</td>\n",
       "      <td>Salt Lake</td>\n",
       "      <td>Avalanche: Oquirrh Mountains</td>\n",
       "      <td>/avalanche/77751</td>\n",
       "      <td>A Sotkin</td>\n",
       "    </tr>\n",
       "    <tr>\n",
       "      <th>3</th>\n",
       "      <td>4/1/2023</td>\n",
       "      <td>Salt Lake</td>\n",
       "      <td>Observation: Yellow Jacket</td>\n",
       "      <td>/observation/77749</td>\n",
       "      <td>T Diegel</td>\n",
       "    </tr>\n",
       "    <tr>\n",
       "      <th>4</th>\n",
       "      <td>4/1/2023</td>\n",
       "      <td>Provo</td>\n",
       "      <td>Avalanche: Tibble Fork</td>\n",
       "      <td>/avalanche/77727</td>\n",
       "      <td>Chris Maples</td>\n",
       "    </tr>\n",
       "    <tr>\n",
       "      <th>...</th>\n",
       "      <td>...</td>\n",
       "      <td>...</td>\n",
       "      <td>...</td>\n",
       "      <td>...</td>\n",
       "      <td>...</td>\n",
       "    </tr>\n",
       "    <tr>\n",
       "      <th>2141</th>\n",
       "      <td>10/24/2022</td>\n",
       "      <td>Salt Lake</td>\n",
       "      <td>Observation: Little Cottonwood Canyon</td>\n",
       "      <td>/observation/69799</td>\n",
       "      <td></td>\n",
       "    </tr>\n",
       "    <tr>\n",
       "      <th>2142</th>\n",
       "      <td>10/23/2022</td>\n",
       "      <td>Salt Lake</td>\n",
       "      <td>Avalanche: High Greeley</td>\n",
       "      <td>/avalanche/69798</td>\n",
       "      <td>Nate Fillnow</td>\n",
       "    </tr>\n",
       "    <tr>\n",
       "      <th>2143</th>\n",
       "      <td>10/23/2022</td>\n",
       "      <td>Salt Lake</td>\n",
       "      <td>Avalanche: Cardiac Ridge</td>\n",
       "      <td>/avalanche/69797</td>\n",
       "      <td>UAC Staff</td>\n",
       "    </tr>\n",
       "    <tr>\n",
       "      <th>2144</th>\n",
       "      <td>10/23/2022</td>\n",
       "      <td>Salt Lake</td>\n",
       "      <td>Avalanche: Baldy</td>\n",
       "      <td>/avalanche/69788</td>\n",
       "      <td>UAC Staff - Meisenheimer</td>\n",
       "    </tr>\n",
       "    <tr>\n",
       "      <th>2145</th>\n",
       "      <td>10/22/2022</td>\n",
       "      <td>Salt Lake</td>\n",
       "      <td>Observation: Emma Ridges</td>\n",
       "      <td>/observation/69777</td>\n",
       "      <td>Glew</td>\n",
       "    </tr>\n",
       "  </tbody>\n",
       "</table>\n",
       "<p>2146 rows × 5 columns</p>\n",
       "</div>"
      ],
      "text/plain": [
       "            Date     Region                      Observation Title  \\\n",
       "0       4/1/2023     Uintas             Observation: Upper Setting   \n",
       "1       4/1/2023     Uintas             Observation: Whitney Basin   \n",
       "2       4/1/2023  Salt Lake           Avalanche: Oquirrh Mountains   \n",
       "3       4/1/2023  Salt Lake             Observation: Yellow Jacket   \n",
       "4       4/1/2023      Provo                 Avalanche: Tibble Fork   \n",
       "...          ...        ...                                    ...   \n",
       "2141  10/24/2022  Salt Lake  Observation: Little Cottonwood Canyon   \n",
       "2142  10/23/2022  Salt Lake                Avalanche: High Greeley   \n",
       "2143  10/23/2022  Salt Lake               Avalanche: Cardiac Ridge   \n",
       "2144  10/23/2022  Salt Lake                       Avalanche: Baldy   \n",
       "2145  10/22/2022  Salt Lake               Observation: Emma Ridges   \n",
       "\n",
       "               extension                  Observer  \n",
       "0     /observation/77729                    D Earl  \n",
       "1     /observation/77747              Ted Scroggin  \n",
       "2       /avalanche/77751                  A Sotkin  \n",
       "3     /observation/77749                  T Diegel  \n",
       "4       /avalanche/77727              Chris Maples  \n",
       "...                  ...                       ...  \n",
       "2141  /observation/69799                            \n",
       "2142    /avalanche/69798              Nate Fillnow  \n",
       "2143    /avalanche/69797                 UAC Staff  \n",
       "2144    /avalanche/69788  UAC Staff - Meisenheimer  \n",
       "2145  /observation/69777                      Glew  \n",
       "\n",
       "[2146 rows x 5 columns]"
      ]
     },
     "execution_count": 14,
     "metadata": {},
     "output_type": "execute_result"
    }
   ],
   "source": [
    "def get_season_obs(date = datetime.date.today()):\n",
    "    '''fetches the observations of the season for the date specified'''\n",
    "    season_start = get_season_start(date)\n",
    "    return get_obs(season_start, date)\n",
    "season_obs = get_season_obs()\n",
    "season_obs"
   ]
  },
  {
   "cell_type": "markdown",
   "id": "085ca151-e2e3-4331-9da6-e1330b8e2347",
   "metadata": {},
   "source": [
    "### Sorting Observations\n",
    "Filtering for regions, avalanches vs observations, and others. "
   ]
  },
  {
   "cell_type": "code",
   "execution_count": 15,
   "id": "0eb7edb8-a6ac-4228-b6a9-8489aea64c3e",
   "metadata": {},
   "outputs": [
    {
     "data": {
      "text/plain": [
       "2146"
      ]
     },
     "execution_count": 15,
     "metadata": {},
     "output_type": "execute_result"
    }
   ],
   "source": [
    "season_obs.shape[0]"
   ]
  },
  {
   "cell_type": "markdown",
   "id": "54348dbc-d8a8-4d29-8381-f6111ef3c78b",
   "metadata": {},
   "source": [
    "#### Filter Regions"
   ]
  },
  {
   "cell_type": "code",
   "execution_count": 16,
   "id": "b1325bdb-f1f9-47b0-93f4-101a21409481",
   "metadata": {},
   "outputs": [
    {
     "name": "stdout",
     "output_type": "stream",
     "text": [
      "Salt Lake     1051\n",
      "Logan          315\n",
      "Ogden          201\n",
      "Provo          190\n",
      "Uintas         189\n",
      "Moab           108\n",
      "Skyline         54\n",
      "Southwest       22\n",
      "Abajos          10\n",
      "SE Idaho         5\n",
      "State-wide       1\n",
      "Name: Region, dtype: int64\n"
     ]
    }
   ],
   "source": [
    "#What are the avalanche regions that got avalanches this season?\n",
    "print(season_obs.Region.value_counts())"
   ]
  },
  {
   "cell_type": "code",
   "execution_count": 17,
   "id": "5ef13452-254c-46a4-864a-765e3521294e",
   "metadata": {},
   "outputs": [
    {
     "data": {
      "text/html": [
       "<div>\n",
       "<style scoped>\n",
       "    .dataframe tbody tr th:only-of-type {\n",
       "        vertical-align: middle;\n",
       "    }\n",
       "\n",
       "    .dataframe tbody tr th {\n",
       "        vertical-align: top;\n",
       "    }\n",
       "\n",
       "    .dataframe thead th {\n",
       "        text-align: right;\n",
       "    }\n",
       "</style>\n",
       "<table border=\"1\" class=\"dataframe\">\n",
       "  <thead>\n",
       "    <tr style=\"text-align: right;\">\n",
       "      <th></th>\n",
       "      <th>Date</th>\n",
       "      <th>Region</th>\n",
       "      <th>Observation Title</th>\n",
       "      <th>extension</th>\n",
       "      <th>Observer</th>\n",
       "    </tr>\n",
       "  </thead>\n",
       "  <tbody>\n",
       "    <tr>\n",
       "      <th>2</th>\n",
       "      <td>4/1/2023</td>\n",
       "      <td>Salt Lake</td>\n",
       "      <td>Avalanche: Oquirrh Mountains</td>\n",
       "      <td>/avalanche/77751</td>\n",
       "      <td>A Sotkin</td>\n",
       "    </tr>\n",
       "    <tr>\n",
       "      <th>3</th>\n",
       "      <td>4/1/2023</td>\n",
       "      <td>Salt Lake</td>\n",
       "      <td>Observation: Yellow Jacket</td>\n",
       "      <td>/observation/77749</td>\n",
       "      <td>T Diegel</td>\n",
       "    </tr>\n",
       "    <tr>\n",
       "      <th>8</th>\n",
       "      <td>4/1/2023</td>\n",
       "      <td>Salt Lake</td>\n",
       "      <td>Observation: Parleys Peak, Pass</td>\n",
       "      <td>/observation/77738</td>\n",
       "      <td>Zimmerman-Wall/Matthews</td>\n",
       "    </tr>\n",
       "    <tr>\n",
       "      <th>9</th>\n",
       "      <td>4/1/2023</td>\n",
       "      <td>Salt Lake</td>\n",
       "      <td>Avalanche: Lowe Peak</td>\n",
       "      <td>/avalanche/77730</td>\n",
       "      <td>Clint</td>\n",
       "    </tr>\n",
       "    <tr>\n",
       "      <th>10</th>\n",
       "      <td>4/1/2023</td>\n",
       "      <td>Salt Lake</td>\n",
       "      <td>Avalanche: Squaretop</td>\n",
       "      <td>/avalanche/77736</td>\n",
       "      <td>Jason Bohrer</td>\n",
       "    </tr>\n",
       "    <tr>\n",
       "      <th>...</th>\n",
       "      <td>...</td>\n",
       "      <td>...</td>\n",
       "      <td>...</td>\n",
       "      <td>...</td>\n",
       "      <td>...</td>\n",
       "    </tr>\n",
       "    <tr>\n",
       "      <th>2141</th>\n",
       "      <td>10/24/2022</td>\n",
       "      <td>Salt Lake</td>\n",
       "      <td>Observation: Little Cottonwood Canyon</td>\n",
       "      <td>/observation/69799</td>\n",
       "      <td></td>\n",
       "    </tr>\n",
       "    <tr>\n",
       "      <th>2142</th>\n",
       "      <td>10/23/2022</td>\n",
       "      <td>Salt Lake</td>\n",
       "      <td>Avalanche: High Greeley</td>\n",
       "      <td>/avalanche/69798</td>\n",
       "      <td>Nate Fillnow</td>\n",
       "    </tr>\n",
       "    <tr>\n",
       "      <th>2143</th>\n",
       "      <td>10/23/2022</td>\n",
       "      <td>Salt Lake</td>\n",
       "      <td>Avalanche: Cardiac Ridge</td>\n",
       "      <td>/avalanche/69797</td>\n",
       "      <td>UAC Staff</td>\n",
       "    </tr>\n",
       "    <tr>\n",
       "      <th>2144</th>\n",
       "      <td>10/23/2022</td>\n",
       "      <td>Salt Lake</td>\n",
       "      <td>Avalanche: Baldy</td>\n",
       "      <td>/avalanche/69788</td>\n",
       "      <td>UAC Staff - Meisenheimer</td>\n",
       "    </tr>\n",
       "    <tr>\n",
       "      <th>2145</th>\n",
       "      <td>10/22/2022</td>\n",
       "      <td>Salt Lake</td>\n",
       "      <td>Observation: Emma Ridges</td>\n",
       "      <td>/observation/69777</td>\n",
       "      <td>Glew</td>\n",
       "    </tr>\n",
       "  </tbody>\n",
       "</table>\n",
       "<p>1051 rows × 5 columns</p>\n",
       "</div>"
      ],
      "text/plain": [
       "            Date     Region                      Observation Title  \\\n",
       "2       4/1/2023  Salt Lake           Avalanche: Oquirrh Mountains   \n",
       "3       4/1/2023  Salt Lake             Observation: Yellow Jacket   \n",
       "8       4/1/2023  Salt Lake        Observation: Parleys Peak, Pass   \n",
       "9       4/1/2023  Salt Lake                   Avalanche: Lowe Peak   \n",
       "10      4/1/2023  Salt Lake                   Avalanche: Squaretop   \n",
       "...          ...        ...                                    ...   \n",
       "2141  10/24/2022  Salt Lake  Observation: Little Cottonwood Canyon   \n",
       "2142  10/23/2022  Salt Lake                Avalanche: High Greeley   \n",
       "2143  10/23/2022  Salt Lake               Avalanche: Cardiac Ridge   \n",
       "2144  10/23/2022  Salt Lake                       Avalanche: Baldy   \n",
       "2145  10/22/2022  Salt Lake               Observation: Emma Ridges   \n",
       "\n",
       "               extension                  Observer  \n",
       "2       /avalanche/77751                  A Sotkin  \n",
       "3     /observation/77749                  T Diegel  \n",
       "8     /observation/77738   Zimmerman-Wall/Matthews  \n",
       "9       /avalanche/77730                     Clint  \n",
       "10      /avalanche/77736              Jason Bohrer  \n",
       "...                  ...                       ...  \n",
       "2141  /observation/69799                            \n",
       "2142    /avalanche/69798              Nate Fillnow  \n",
       "2143    /avalanche/69797                 UAC Staff  \n",
       "2144    /avalanche/69788  UAC Staff - Meisenheimer  \n",
       "2145  /observation/69777                      Glew  \n",
       "\n",
       "[1051 rows x 5 columns]"
      ]
     },
     "execution_count": 17,
     "metadata": {},
     "output_type": "execute_result"
    }
   ],
   "source": [
    "#This season I'm generally staying in the Salt Lake region of the Wasatch\n",
    "saltLake_obs = season_obs.loc[season_obs.Region == \"Salt Lake\"]\n",
    "saltLake_obs"
   ]
  },
  {
   "cell_type": "markdown",
   "id": "f79a72b3-a689-46f9-9f4e-ce10e108ba1f",
   "metadata": {},
   "source": [
    "#### Filter Avalanche vs Observation"
   ]
  },
  {
   "cell_type": "code",
   "execution_count": 18,
   "id": "6ca13fec-39f3-4f8e-94b6-fdffe534e02b",
   "metadata": {},
   "outputs": [
    {
     "data": {
      "text/plain": [
       "0       Observation\n",
       "1       Observation\n",
       "2         Avalanche\n",
       "3       Observation\n",
       "4         Avalanche\n",
       "           ...     \n",
       "2141    Observation\n",
       "2142      Avalanche\n",
       "2143      Avalanche\n",
       "2144      Avalanche\n",
       "2145    Observation\n",
       "Name: Observation Title, Length: 2146, dtype: object"
      ]
     },
     "execution_count": 18,
     "metadata": {},
     "output_type": "execute_result"
    }
   ],
   "source": [
    "season_obs['Observation Title'].str.split(':').str[0]"
   ]
  },
  {
   "cell_type": "code",
   "execution_count": 19,
   "id": "75d91b07-505b-4129-9d5e-e7c7b3ff2268",
   "metadata": {},
   "outputs": [
    {
     "name": "stdout",
     "output_type": "stream",
     "text": [
      "            Date     Region                 Observation Title  \\\n",
      "2       4/1/2023  Salt Lake      Avalanche: Oquirrh Mountains   \n",
      "4       4/1/2023      Provo            Avalanche: Tibble Fork   \n",
      "5       4/1/2023      Ogden  Avalanche: Snowbasin Backcountry   \n",
      "6       4/1/2023      Ogden          Avalanche: Thurston Peak   \n",
      "9       4/1/2023  Salt Lake              Avalanche: Lowe Peak   \n",
      "...          ...        ...                               ...   \n",
      "2125   11/2/2022  Salt Lake     Avalanche: Upper Collins area   \n",
      "2137  10/25/2022       Moab       Avalanche: Gravel Pit Lanes   \n",
      "2142  10/23/2022  Salt Lake           Avalanche: High Greeley   \n",
      "2143  10/23/2022  Salt Lake          Avalanche: Cardiac Ridge   \n",
      "2144  10/23/2022  Salt Lake                  Avalanche: Baldy   \n",
      "\n",
      "             extension                  Observer  \n",
      "2     /avalanche/77751                  A Sotkin  \n",
      "4     /avalanche/77727              Chris Maples  \n",
      "5     /avalanche/77746      Snowbasin Ski Patrol  \n",
      "6     /avalanche/77745                 UAC Staff  \n",
      "9     /avalanche/77730                     Clint  \n",
      "...                ...                       ...  \n",
      "2125  /avalanche/69916                  C. Alden  \n",
      "2137  /avalanche/72748                 Trenbeath  \n",
      "2142  /avalanche/69798              Nate Fillnow  \n",
      "2143  /avalanche/69797                 UAC Staff  \n",
      "2144  /avalanche/69788  UAC Staff - Meisenheimer  \n",
      "\n",
      "[1001 rows x 5 columns]\n"
     ]
    }
   ],
   "source": [
    "def filter_avalanche(observations):\n",
    "    '''filters pandas dataframe for just avalanche entries'''\n",
    "    return observations.loc[observations['Observation Title'].str.split(':').str[0] == 'Avalanche']\n",
    "    \n",
    "season_avys = filter_avalanche(season_obs)\n",
    "print(season_avys)"
   ]
  },
  {
   "cell_type": "code",
   "execution_count": 20,
   "id": "4dcd0fbd-5333-4f24-afc2-5b012948e880",
   "metadata": {},
   "outputs": [
    {
     "name": "stdout",
     "output_type": "stream",
     "text": [
      "            Date     Region                      Observation Title  \\\n",
      "0       4/1/2023     Uintas             Observation: Upper Setting   \n",
      "1       4/1/2023     Uintas             Observation: Whitney Basin   \n",
      "3       4/1/2023  Salt Lake             Observation: Yellow Jacket   \n",
      "7       4/1/2023      Ogden              Observation: Cutler Ridge   \n",
      "8       4/1/2023  Salt Lake        Observation: Parleys Peak, Pass   \n",
      "...          ...        ...                                    ...   \n",
      "2138  10/25/2022  Salt Lake            Observation: Peruvian Ridge   \n",
      "2139  10/24/2022  Salt Lake             Observation: Alta Ski Area   \n",
      "2140  10/24/2022       Moab                      Observation: Moab   \n",
      "2141  10/24/2022  Salt Lake  Observation: Little Cottonwood Canyon   \n",
      "2145  10/22/2022  Salt Lake               Observation: Emma Ridges   \n",
      "\n",
      "               extension                 Observer  \n",
      "0     /observation/77729                   D Earl  \n",
      "1     /observation/77747             Ted Scroggin  \n",
      "3     /observation/77749                 T Diegel  \n",
      "7     /observation/77744                  Shane M  \n",
      "8     /observation/77738  Zimmerman-Wall/Matthews  \n",
      "...                  ...                      ...  \n",
      "2138  /observation/69814         Miller and Kelly  \n",
      "2139  /observation/69810                     Josh  \n",
      "2140  /observation/69801             Chris Benson  \n",
      "2141  /observation/69799                           \n",
      "2145  /observation/69777                     Glew  \n",
      "\n",
      "[1136 rows x 5 columns]\n"
     ]
    }
   ],
   "source": [
    "def filter_general_observations(observations):\n",
    "    '''filters pandas dataframe for just general observation entries'''\n",
    "    return observations.loc[observations['Observation Title'].str.split(':').str[0] == 'Observation']\n",
    "    \n",
    "season_genobs = filter_general_observations(season_obs)\n",
    "print(season_genobs)"
   ]
  },
  {
   "cell_type": "markdown",
   "id": "b67ebd1d-dc8d-4b8e-ad05-c2e5fdbdc07e",
   "metadata": {},
   "source": [
    "### Avalanche and Observation Data"
   ]
  },
  {
   "cell_type": "markdown",
   "id": "fb31e811-d519-46c9-97a0-f84baa4f42a6",
   "metadata": {},
   "source": [
    "This looks great! Now let's try inspecting the extension and try extracting information from the observation table. Avalanche and General Observations are useful for tracking avalanches and conditions that could potentially result in avalanches. These observations are stuctured differently on the website, let's look at those differences.\n",
    "\n",
    "#### Avalanche Observations\n",
    "- Name\n",
    "- Email\n",
    "- Obs Date\n",
    "- Avy Date\n",
    "- Location (Region, Name/Route, Lat/Long?)\n",
    "- Elevation\n",
    "- Aspect\n",
    "- Trigger (natural or skier)\n",
    "- Depth\n",
    "- Width\n",
    "- Carried\n",
    "- Snow Profile\n",
    "- Comments\n",
    "\n",
    "There seems to be some similarities and differences. As I parse through the various Reports I will first focus on the avalanche attributes. Lets start with just Observation Title, Observor Name, Observation Date, Location, Observation or Avalanche and Comments."
   ]
  },
  {
   "cell_type": "markdown",
   "id": "b7475431-a38d-4986-ab0c-7528a7b11815",
   "metadata": {},
   "source": [
    "##### Web Scraping"
   ]
  },
  {
   "cell_type": "code",
   "execution_count": 21,
   "id": "ef06e3af-fde5-4c6c-b993-a334fbc5a8b0",
   "metadata": {},
   "outputs": [
    {
     "data": {
      "text/html": [
       "<div>\n",
       "<style scoped>\n",
       "    .dataframe tbody tr th:only-of-type {\n",
       "        vertical-align: middle;\n",
       "    }\n",
       "\n",
       "    .dataframe tbody tr th {\n",
       "        vertical-align: top;\n",
       "    }\n",
       "\n",
       "    .dataframe thead th {\n",
       "        text-align: right;\n",
       "    }\n",
       "</style>\n",
       "<table border=\"1\" class=\"dataframe\">\n",
       "  <thead>\n",
       "    <tr style=\"text-align: right;\">\n",
       "      <th></th>\n",
       "      <th>index</th>\n",
       "      <th>Date</th>\n",
       "      <th>Region</th>\n",
       "      <th>Observation Title</th>\n",
       "      <th>extension</th>\n",
       "      <th>Observer</th>\n",
       "    </tr>\n",
       "  </thead>\n",
       "  <tbody>\n",
       "    <tr>\n",
       "      <th>0</th>\n",
       "      <td>2</td>\n",
       "      <td>4/1/2023</td>\n",
       "      <td>Salt Lake</td>\n",
       "      <td>Avalanche: Oquirrh Mountains</td>\n",
       "      <td>/avalanche/77751</td>\n",
       "      <td>A Sotkin</td>\n",
       "    </tr>\n",
       "    <tr>\n",
       "      <th>1</th>\n",
       "      <td>4</td>\n",
       "      <td>4/1/2023</td>\n",
       "      <td>Provo</td>\n",
       "      <td>Avalanche: Tibble Fork</td>\n",
       "      <td>/avalanche/77727</td>\n",
       "      <td>Chris Maples</td>\n",
       "    </tr>\n",
       "    <tr>\n",
       "      <th>2</th>\n",
       "      <td>5</td>\n",
       "      <td>4/1/2023</td>\n",
       "      <td>Ogden</td>\n",
       "      <td>Avalanche: Snowbasin Backcountry</td>\n",
       "      <td>/avalanche/77746</td>\n",
       "      <td>Snowbasin Ski Patrol</td>\n",
       "    </tr>\n",
       "    <tr>\n",
       "      <th>3</th>\n",
       "      <td>6</td>\n",
       "      <td>4/1/2023</td>\n",
       "      <td>Ogden</td>\n",
       "      <td>Avalanche: Thurston Peak</td>\n",
       "      <td>/avalanche/77745</td>\n",
       "      <td>UAC Staff</td>\n",
       "    </tr>\n",
       "    <tr>\n",
       "      <th>4</th>\n",
       "      <td>9</td>\n",
       "      <td>4/1/2023</td>\n",
       "      <td>Salt Lake</td>\n",
       "      <td>Avalanche: Lowe Peak</td>\n",
       "      <td>/avalanche/77730</td>\n",
       "      <td>Clint</td>\n",
       "    </tr>\n",
       "  </tbody>\n",
       "</table>\n",
       "</div>"
      ],
      "text/plain": [
       "   index      Date     Region                 Observation Title  \\\n",
       "0      2  4/1/2023  Salt Lake      Avalanche: Oquirrh Mountains   \n",
       "1      4  4/1/2023      Provo            Avalanche: Tibble Fork   \n",
       "2      5  4/1/2023      Ogden  Avalanche: Snowbasin Backcountry   \n",
       "3      6  4/1/2023      Ogden          Avalanche: Thurston Peak   \n",
       "4      9  4/1/2023  Salt Lake              Avalanche: Lowe Peak   \n",
       "\n",
       "          extension              Observer  \n",
       "0  /avalanche/77751              A Sotkin  \n",
       "1  /avalanche/77727          Chris Maples  \n",
       "2  /avalanche/77746  Snowbasin Ski Patrol  \n",
       "3  /avalanche/77745             UAC Staff  \n",
       "4  /avalanche/77730                 Clint  "
      ]
     },
     "execution_count": 21,
     "metadata": {},
     "output_type": "execute_result"
    }
   ],
   "source": [
    "page_avys = filter_avalanche(page_obs).reset_index()\n",
    "page_avys.head()"
   ]
  },
  {
   "cell_type": "code",
   "execution_count": 22,
   "id": "129f1b53-393c-4bbc-9e19-033cc744be94",
   "metadata": {},
   "outputs": [
    {
     "name": "stdout",
     "output_type": "stream",
     "text": [
      "http://utahavalanchecenter.org/avalanche/77751\n"
     ]
    }
   ],
   "source": [
    "extension = page_avys.loc[0, 'extension']\n",
    "print(avy_center_url+extension)\n",
    "page = requests.get(avy_center_url + extension)\n",
    "soup = BeautifulSoup(page.content, 'html.parser')"
   ]
  },
  {
   "cell_type": "code",
   "execution_count": 23,
   "id": "550b1736-7102-4620-8ff7-a8fa7bb86f50",
   "metadata": {},
   "outputs": [
    {
     "name": "stdout",
     "output_type": "stream",
     "text": [
      "Observation title is: Avalanche: Oquirrh Mountains\n",
      "Observer Name is: A Sotkin\n",
      "Observation Date is: Saturday, April 1, 2023\n",
      "Region is: Salt Lake » Oquirrh Mountains\n",
      "Location Name or Route is: Lewiston Peak\n",
      "Snow Profile is: None\n",
      "Comments is: None\n"
     ]
    }
   ],
   "source": [
    "title_class='page-title'\n",
    "fields = ['Observer Name', 'Observation Date', 'Region', 'Location Name or Route', 'Snow Profile','Comments']\n",
    "observation_title = soup.find(class_='page-title').string\n",
    "print('Observation title is:', observation_title)\n",
    "\n",
    "for field in fields:\n",
    "    try:\n",
    "        datum = soup.find(string=field).parent.next_sibling.next_sibling.string\n",
    "    except:\n",
    "        datum = None\n",
    "    print(field, 'is:',datum)"
   ]
  },
  {
   "cell_type": "markdown",
   "id": "2ef543d4-255a-40fc-8239-e7c6e4aab62d",
   "metadata": {},
   "source": [
    "Observations generally have more complex data with a Weather section, Red Flags, Avalanche Problem, etc. So lets try and extract all the info we can from an a report ONLY if it's an avalanche report"
   ]
  },
  {
   "cell_type": "markdown",
   "id": "a52a9e83-8a6c-4994-b982-a8c54014fb9d",
   "metadata": {},
   "source": [
    "##### Location Data\n",
    "\n",
    "Now I will collect location data from the avalance observation."
   ]
  },
  {
   "cell_type": "markdown",
   "id": "b0c729ff-6f83-4e9d-9882-8078501d3522",
   "metadata": {},
   "source": [
    "##### Numeric Data\n",
    "Currently all the numerical data is listed as strings where Elevation is for example \"8,500'\" when we really want an elevation category in feet with a numerical value as the entry. To solve this we will use regular expressions."
   ]
  },
  {
   "cell_type": "code",
   "execution_count": 24,
   "id": "311aa38d-ad23-48ba-b342-5b807beede16",
   "metadata": {},
   "outputs": [
    {
     "name": "stdout",
     "output_type": "stream",
     "text": [
      "130000\n"
     ]
    }
   ],
   "source": [
    "r = re.compile(r\"([0-9]*),([0-9]*)'\")\n",
    "m = r.match(\"130,000'\")\n",
    "print(int(m.group(1))*1000+ int(m.group(2)))"
   ]
  },
  {
   "cell_type": "code",
   "execution_count": 25,
   "id": "92999151-9daf-4756-b379-341100206593",
   "metadata": {},
   "outputs": [
    {
     "name": "stdout",
     "output_type": "stream",
     "text": [
      "40.0\n"
     ]
    }
   ],
   "source": [
    "r = re.compile(r\"([0-9]*)\\\"\")\n",
    "m = r.match(\"40\\\"\")\n",
    "print(float(m.group(1)))"
   ]
  },
  {
   "cell_type": "code",
   "execution_count": 92,
   "id": "352fd2cf-592f-46eb-8de0-1df57ccf2f6e",
   "metadata": {},
   "outputs": [
    {
     "name": "stdout",
     "output_type": "stream",
     "text": [
      "Test elevation: 15,567' -> 15567.0\n",
      "Test depth: 18\" -> 18.0\n",
      "Test width: 5' -> 5.0\n"
     ]
    }
   ],
   "source": [
    "#here are all the fields that we have\n",
    "re_fields = {}\n",
    "re_fields['Elevation']=re.compile(r\"([0-9]*),([0-9]*)'\")\n",
    "re_fields['Depth'] = re.compile(r\"([0-9]*)\\\"\")\n",
    "re_fields['Width'] = re.compile(r\"([0-9]*)\\'\")\n",
    "re_fields['Slope Angle'] = re.compile(r\"(0-9]*)°\")\n",
    "\n",
    "def convert_to_numeric(raw_string, field):\n",
    "    r = re_fields[field]\n",
    "    m = r.match(raw_string)\n",
    "    if field == 'Elevation':\n",
    "        return float(m.group(1))*1000 + float(m.group(2))\n",
    "    else:\n",
    "        return float(m.group(1))\n",
    "\n",
    "def test_re():\n",
    "    elevation = \"15,567'\"\n",
    "    depth = \"18\\\"\"\n",
    "    width = \"5'\"\n",
    "    #angle = \"37°\"\n",
    "    num_elevation = convert_to_numeric(elevation, 'Elevation')\n",
    "    num_depth = convert_to_numeric(depth, 'Depth')\n",
    "    num_width = convert_to_numeric(width, 'Width')\n",
    "    #num_angle = convert_to_numeric(angle, 'Slope Angle')\n",
    "    print('Test elevation:', elevation, '->', num_elevation)\n",
    "    print('Test depth:', depth, '->', num_depth)\n",
    "    print('Test width:', width, '->', num_width)\n",
    "    #print('Test angle:', angle, '->', num_angle)\n",
    "    \n",
    "    return\n",
    "\n",
    "test_re()\n",
    "    "
   ]
  },
  {
   "cell_type": "code",
   "execution_count": 27,
   "id": "39c653fe-2e3d-4009-905d-2b0119912e98",
   "metadata": {},
   "outputs": [],
   "source": [
    "def get_avalanche_data(url, verbose = False):\n",
    "    '''Extracts avalanche data from avalanche reports'''\n",
    "    page = requests.get(url)\n",
    "    soup = BeautifulSoup(page.content, 'html.parser')\n",
    "    title_class='page-title'\n",
    "    fields = ['Observer Name', 'Observation Date', 'Region', 'Location Name or Route', 'Snow Profile','Comments']\n",
    "    avy_fields = ['Elevation', 'Aspect', 'Trigger', 'Depth', 'Width', 'Carried']\n",
    "    numeric_fields = ['Elevation', 'Depth', 'Width']\n",
    "    avalanche_data = {}\n",
    "    observation_title = soup.find(class_='page-title').string\n",
    "    if observation_title.split(':')[0] == 'Avalanche':\n",
    "        fields = fields + avy_fields\n",
    "        for field in fields:\n",
    "            try:\n",
    "                datum = soup.find(string=field).parent.next_sibling.next_sibling.string\n",
    "                if field in numeric_fields:\n",
    "                    datum = convert_to_numeric(datum, field)\n",
    "            except:\n",
    "                datum = None\n",
    "            if verbose:\n",
    "                print(field, 'is:',datum)\n",
    "            avalanche_data[field] = datum\n",
    "    return avalanche_data"
   ]
  },
  {
   "cell_type": "code",
   "execution_count": 28,
   "id": "2a706cfa-dd02-4aeb-90ef-b34ef755600e",
   "metadata": {},
   "outputs": [
    {
     "name": "stdout",
     "output_type": "stream",
     "text": [
      "http://utahavalanchecenter.org/avalanche/77751\n",
      "Observer Name is: A Sotkin\n",
      "Observation Date is: Saturday, April 1, 2023\n",
      "Region is: Salt Lake » Oquirrh Mountains\n",
      "Location Name or Route is: Lewiston Peak\n",
      "Snow Profile is: None\n",
      "Comments is: None\n",
      "Elevation is: 10200.0\n",
      "Aspect is: East\n",
      "Trigger is: Natural\n",
      "Depth is: None\n",
      "Width is: 50.0\n",
      "Carried is: None\n"
     ]
    },
    {
     "data": {
      "text/plain": [
       "{'Observer Name': 'A Sotkin',\n",
       " 'Observation Date': 'Saturday, April 1, 2023',\n",
       " 'Region': 'Salt Lake » Oquirrh Mountains',\n",
       " 'Location Name or Route': 'Lewiston Peak',\n",
       " 'Snow Profile': None,\n",
       " 'Comments': None,\n",
       " 'Elevation': 10200.0,\n",
       " 'Aspect': 'East',\n",
       " 'Trigger': 'Natural',\n",
       " 'Depth': None,\n",
       " 'Width': 50.0,\n",
       " 'Carried': None}"
      ]
     },
     "execution_count": 28,
     "metadata": {},
     "output_type": "execute_result"
    }
   ],
   "source": [
    "extension = page_avys.loc[0, 'extension']\n",
    "print(avy_center_url+extension)\n",
    "get_avalanche_data(avy_center_url + extension, verbose=True)"
   ]
  },
  {
   "cell_type": "markdown",
   "id": "58b065eb-d153-478a-af6b-3d8c34e4f30b",
   "metadata": {},
   "source": [
    "##### Compiling Avalanche Data\n",
    "Now we want to compile data from multiple reports. Lets first start by compiling JUST avalanches from this season. We sorted these out earlier. In the end we want to have a data table with each avalanche observation from the list of observations requested. "
   ]
  },
  {
   "cell_type": "code",
   "execution_count": 29,
   "id": "42870232-2ffe-45d5-9a64-87d6661f2e10",
   "metadata": {},
   "outputs": [
    {
     "data": {
      "text/html": [
       "<div>\n",
       "<style scoped>\n",
       "    .dataframe tbody tr th:only-of-type {\n",
       "        vertical-align: middle;\n",
       "    }\n",
       "\n",
       "    .dataframe tbody tr th {\n",
       "        vertical-align: top;\n",
       "    }\n",
       "\n",
       "    .dataframe thead th {\n",
       "        text-align: right;\n",
       "    }\n",
       "</style>\n",
       "<table border=\"1\" class=\"dataframe\">\n",
       "  <thead>\n",
       "    <tr style=\"text-align: right;\">\n",
       "      <th></th>\n",
       "      <th>Date</th>\n",
       "      <th>Region</th>\n",
       "      <th>Observation Title</th>\n",
       "      <th>extension</th>\n",
       "      <th>Observer</th>\n",
       "    </tr>\n",
       "  </thead>\n",
       "  <tbody>\n",
       "    <tr>\n",
       "      <th>0</th>\n",
       "      <td>4/1/2023</td>\n",
       "      <td>Salt Lake</td>\n",
       "      <td>Avalanche: Oquirrh Mountains</td>\n",
       "      <td>/avalanche/77751</td>\n",
       "      <td>A Sotkin</td>\n",
       "    </tr>\n",
       "    <tr>\n",
       "      <th>1</th>\n",
       "      <td>4/1/2023</td>\n",
       "      <td>Provo</td>\n",
       "      <td>Avalanche: Tibble Fork</td>\n",
       "      <td>/avalanche/77727</td>\n",
       "      <td>Chris Maples</td>\n",
       "    </tr>\n",
       "    <tr>\n",
       "      <th>2</th>\n",
       "      <td>4/1/2023</td>\n",
       "      <td>Ogden</td>\n",
       "      <td>Avalanche: Snowbasin Backcountry</td>\n",
       "      <td>/avalanche/77746</td>\n",
       "      <td>Snowbasin Ski Patrol</td>\n",
       "    </tr>\n",
       "    <tr>\n",
       "      <th>3</th>\n",
       "      <td>4/1/2023</td>\n",
       "      <td>Ogden</td>\n",
       "      <td>Avalanche: Thurston Peak</td>\n",
       "      <td>/avalanche/77745</td>\n",
       "      <td>UAC Staff</td>\n",
       "    </tr>\n",
       "    <tr>\n",
       "      <th>4</th>\n",
       "      <td>4/1/2023</td>\n",
       "      <td>Salt Lake</td>\n",
       "      <td>Avalanche: Lowe Peak</td>\n",
       "      <td>/avalanche/77730</td>\n",
       "      <td>Clint</td>\n",
       "    </tr>\n",
       "  </tbody>\n",
       "</table>\n",
       "</div>"
      ],
      "text/plain": [
       "       Date     Region                 Observation Title         extension  \\\n",
       "0  4/1/2023  Salt Lake      Avalanche: Oquirrh Mountains  /avalanche/77751   \n",
       "1  4/1/2023      Provo            Avalanche: Tibble Fork  /avalanche/77727   \n",
       "2  4/1/2023      Ogden  Avalanche: Snowbasin Backcountry  /avalanche/77746   \n",
       "3  4/1/2023      Ogden          Avalanche: Thurston Peak  /avalanche/77745   \n",
       "4  4/1/2023  Salt Lake              Avalanche: Lowe Peak  /avalanche/77730   \n",
       "\n",
       "               Observer  \n",
       "0              A Sotkin  \n",
       "1          Chris Maples  \n",
       "2  Snowbasin Ski Patrol  \n",
       "3             UAC Staff  \n",
       "4                 Clint  "
      ]
     },
     "execution_count": 29,
     "metadata": {},
     "output_type": "execute_result"
    }
   ],
   "source": [
    "season_obs = get_season_obs()\n",
    "season_avys = filter_avalanche(season_obs).reset_index(drop=True)\n",
    "season_avys.head()"
   ]
  },
  {
   "cell_type": "code",
   "execution_count": 30,
   "id": "311775b4-f365-4ab3-b1ac-69c47ee274da",
   "metadata": {
    "tags": []
   },
   "outputs": [
    {
     "name": "stdout",
     "output_type": "stream",
     "text": [
      "[]\n"
     ]
    }
   ],
   "source": [
    "extensions = list(season_avys.extension)\n",
    "data = []\n",
    "err = []\n",
    "for extension in extensions:\n",
    "    try:\n",
    "        new_data = get_avalanche_data(avy_center_url+extension)\n",
    "        data.append(new_data)\n",
    "    except:\n",
    "        err.append(extension)\n",
    "avy_data = pd.DataFrame(data)\n",
    "avy_data.head()\n",
    "print(err)"
   ]
  },
  {
   "cell_type": "code",
   "execution_count": 31,
   "id": "dbe6d402-0482-4301-9456-394a06c6e6ba",
   "metadata": {},
   "outputs": [
    {
     "name": "stdout",
     "output_type": "stream",
     "text": [
      "[]\n"
     ]
    }
   ],
   "source": [
    "print(err)"
   ]
  },
  {
   "cell_type": "markdown",
   "id": "04c7ca71-eb4c-48af-8212-ea9566336244",
   "metadata": {},
   "source": [
    "##### Data Summary\n",
    "Now we can finally look at some stats from this season"
   ]
  },
  {
   "cell_type": "code",
   "execution_count": 32,
   "id": "0a5fcc9f-cbc2-42df-b98c-88007752cdf7",
   "metadata": {
    "tags": []
   },
   "outputs": [
    {
     "data": {
      "text/plain": [
       "Northeast    260\n",
       "East         225\n",
       "North        191\n",
       "Northwest     82\n",
       "Southeast     79\n",
       "South         61\n",
       "West          56\n",
       "Southwest     28\n",
       "Name: Aspect, dtype: int64"
      ]
     },
     "execution_count": 32,
     "metadata": {},
     "output_type": "execute_result"
    }
   ],
   "source": [
    "#which aspects are there more avalanches?\n",
    "avy_data.Aspect.value_counts()"
   ]
  },
  {
   "cell_type": "code",
   "execution_count": 33,
   "id": "6252fc60-a71b-4986-9961-7e9267c8b64e",
   "metadata": {},
   "outputs": [
    {
     "data": {
      "text/plain": [
       "<AxesSubplot:>"
      ]
     },
     "execution_count": 33,
     "metadata": {},
     "output_type": "execute_result"
    },
    {
     "data": {
      "image/png": "[encoded data removed]",
      "text/plain": [
       "<Figure size 432x288 with 1 Axes>"
      ]
     },
     "metadata": {
      "needs_background": "light"
     },
     "output_type": "display_data"
    }
   ],
   "source": [
    "#how does avalanche likelyhood increase with elevation?\n",
    "avy_data.Elevation.hist()"
   ]
  },
  {
   "cell_type": "code",
   "execution_count": 34,
   "id": "7abe9676-f3e3-47df-b831-a7f52e075aac",
   "metadata": {},
   "outputs": [
    {
     "data": {
      "text/plain": [
       "<AxesSubplot:>"
      ]
     },
     "execution_count": 34,
     "metadata": {},
     "output_type": "execute_result"
    },
    {
     "data": {
      "image/png": "[encoded data removed]",
      "text/plain": [
       "<Figure size 432x288 with 1 Axes>"
      ]
     },
     "metadata": {
      "needs_background": "light"
     },
     "output_type": "display_data"
    }
   ],
   "source": [
    "#what is the width of avalanches\n",
    "avy_data.Width.hist()"
   ]
  },
  {
   "cell_type": "code",
   "execution_count": 35,
   "id": "b13a04b7-b669-4e52-9d63-0ce0a3dc0604",
   "metadata": {},
   "outputs": [
    {
     "data": {
      "text/plain": [
       "<AxesSubplot:>"
      ]
     },
     "execution_count": 35,
     "metadata": {},
     "output_type": "execute_result"
    },
    {
     "data": {
      "image/png": "[encoded data removed]",
      "text/plain": [
       "<Figure size 432x288 with 1 Axes>"
      ]
     },
     "metadata": {
      "needs_background": "light"
     },
     "output_type": "display_data"
    }
   ],
   "source": [
    "#what are the depths of avalanches this season\n",
    "avy_data.Depth.hist()"
   ]
  },
  {
   "cell_type": "code",
   "execution_count": 36,
   "id": "d22ab544-4374-41af-b54c-216a923869c6",
   "metadata": {},
   "outputs": [
    {
     "data": {
      "text/plain": [
       "weed                              39\n",
       "Trenbeath                         21\n",
       "Bill Nalli                        16\n",
       "B                                 13\n",
       "Brett Kobernik                    13\n",
       "Toby Weed                         11\n",
       "Weed                               9\n",
       "Torrey                             8\n",
       "Staples et al                      8\n",
       "UAC Staff                          8\n",
       "Chris Benson                       7\n",
       "Bill Brandt                        7\n",
       "Staples                            6\n",
       "Katz                               6\n",
       "Wolford                            6\n",
       "weed, pagnucco                     6\n",
       "CB                                 5\n",
       "Joe                                5\n",
       "Staples/Osbourne/Deutschlander     5\n",
       "UDOT Provo Canyon                  5\n",
       "Name: Observer Name, dtype: int64"
      ]
     },
     "execution_count": 36,
     "metadata": {},
     "output_type": "execute_result"
    }
   ],
   "source": [
    "#who observed the most avalanches\n",
    "avy_data['Observer Name'].value_counts().head(20)"
   ]
  },
  {
   "cell_type": "code",
   "execution_count": 37,
   "id": "6c2ad754-ac12-41f2-985d-c6abdae985e2",
   "metadata": {},
   "outputs": [
    {
     "data": {
      "text/plain": [
       "<AxesSubplot:>"
      ]
     },
     "execution_count": 37,
     "metadata": {},
     "output_type": "execute_result"
    },
    {
     "data": {
      "image/png": "[encoded data removed]",
      "text/plain": [
       "<Figure size 432x288 with 1 Axes>"
      ]
     },
     "metadata": {
      "needs_background": "light"
     },
     "output_type": "display_data"
    }
   ],
   "source": [
    "#What triggered these avalanches\n",
    "avy_data['Trigger'].hist(xrot=45)"
   ]
  },
  {
   "cell_type": "code",
   "execution_count": 38,
   "id": "343c0a7e-6445-43ce-8afa-e5fd0f927e4a",
   "metadata": {},
   "outputs": [
    {
     "data": {
      "text/plain": [
       "<AxesSubplot:>"
      ]
     },
     "execution_count": 38,
     "metadata": {},
     "output_type": "execute_result"
    },
    {
     "data": {
      "image/png": "[encoded data removed]",
      "text/plain": [
       "<Figure size 432x288 with 1 Axes>"
      ]
     },
     "metadata": {
      "needs_background": "light"
     },
     "output_type": "display_data"
    }
   ],
   "source": [
    "#closer look at Skier vs natural avalanches.\n",
    "avy_data[avy_data['Trigger'].isin(['Skier', 'Natural'])]['Trigger'].hist()"
   ]
  },
  {
   "cell_type": "code",
   "execution_count": 39,
   "id": "ed8cd072-ce52-499c-b133-4dbd0fb0d8c6",
   "metadata": {},
   "outputs": [
    {
     "name": "stdout",
     "output_type": "stream",
     "text": [
      "Out of 1001 reported avalanches, there were 57 people caught and carried.\n",
      "Out of 277 skier triggered avalanches, 40 of those skiers were carried by an avalanche.\n"
     ]
    }
   ],
   "source": [
    "# Out of the avalanches how many are carried\n",
    "n_carried = avy_data['Carried'].value_counts().sum()\n",
    "n_avalanches = avy_data.shape[0]\n",
    "print(f\"Out of {n_avalanches} reported avalanches, there were {n_carried} people caught and carried.\")\n",
    "\n",
    "# How many skier triggered avalanches result in a person being carried. \n",
    "skier_triggered = avy_data[avy_data['Trigger'] == 'Skier'].shape[0]\n",
    "skier_triggered_carried = avy_data[avy_data['Trigger'] == 'Skier']['Carried'].value_counts().sum()\n",
    "print(f\"Out of {skier_triggered} skier triggered avalanches, {skier_triggered_carried} of those skiers were carried by an avalanche.\")"
   ]
  },
  {
   "cell_type": "markdown",
   "id": "e38d2d0b-43eb-4c4c-929b-2712a3f99672",
   "metadata": {},
   "source": [
    "#### General Observations\n",
    "- Name\n",
    "- Email\n",
    "- Obs Date\n",
    "- Location\n",
    "- Weather\n",
    "- Red Flags\n",
    "- Avalanche Problem #1\n",
    "- Avalanche Problem #2\n",
    "- Snow Profile\n",
    "- Comments\n",
    "\n",
    "Observations generally have more complex data with a Weather section, Red Flags, Avalanche Problem, etc. So lets try and extract all the info we can from an a report ONLY if it's an avalanche report"
   ]
  },
  {
   "cell_type": "markdown",
   "id": "33baa0a1-34f3-43d0-b86e-76e05c5c95f2",
   "metadata": {},
   "source": [
    "##### Web Scraping"
   ]
  },
  {
   "cell_type": "code",
   "execution_count": 40,
   "id": "b563d1cb-3372-40f2-b517-0cb8994515b9",
   "metadata": {},
   "outputs": [
    {
     "name": "stdout",
     "output_type": "stream",
     "text": [
      "We will look at http://utahavalanchecenter.org/observation/77559\n"
     ]
    }
   ],
   "source": [
    "page_gen_obs = filter_general_observations(page_obs).reset_index()\n",
    "#this observation is a good example since it contains all availible entries\n",
    "extension = '/observation/77559'\n",
    "print('We will look at', avy_center_url+extension)"
   ]
  },
  {
   "cell_type": "markdown",
   "id": "9b8392d2-4c2f-4b46-92a2-ac04b7eb2557",
   "metadata": {},
   "source": [
    "A key difference between the html structure of observations vs avalanches are the various groups of data:\n",
    "- weather\n",
    "- snow characteristics\n",
    "- red flags\n",
    "- avy problems (usually 0-2)\n",
    "- snow profile\n",
    "\n",
    "Aside from these we still have some of the same fields from avalanches\n",
    "- oberver name\n",
    "- observation date\n",
    "- region\n",
    "- location name or route\n",
    "- comments"
   ]
  },
  {
   "cell_type": "code",
   "execution_count": 41,
   "id": "ead2b9cb-69a0-48b7-b850-68e288f1c7a7",
   "metadata": {},
   "outputs": [
    {
     "name": "stdout",
     "output_type": "stream",
     "text": [
      "Observation title is: Observation: Tony Grove Area\n",
      "Observer Name is: Weed\n",
      "Observation Date is: 3/28/2023\n",
      "Region is: Logan » Logan River » Tony Grove Area\n",
      "Location Name or Route is: Tony Grove Lake Area\n",
      "Snow Profile is: None\n",
      "Comments is: There is around 12' of snow on the ground around Tony Grove Lake. Huge and dangerous overhanging cornices are found on the upper elevation ridges. \n"
     ]
    }
   ],
   "source": [
    "page = requests.get(avy_center_url + extension)\n",
    "soup = BeautifulSoup(page.content, 'html.parser')\n",
    "\n",
    "\n",
    "title_class='page-title'\n",
    "fields = ['Observer Name', 'Observation Date', 'Region', 'Location Name or Route', 'Snow Profile','Comments']\n",
    "observation_title = soup.find(class_='page-title').string\n",
    "print('Observation title is:', observation_title)\n",
    "\n",
    "for field in fields:\n",
    "    try:\n",
    "        datum = soup.find(string=field).parent.next_sibling.next_sibling.string\n",
    "    except:\n",
    "        datum = None\n",
    "    print(field, 'is:',datum)"
   ]
  },
  {
   "cell_type": "markdown",
   "id": "7e1db8ed-ffe9-4514-a182-e1c010cd8582",
   "metadata": {},
   "source": [
    "That code works fine! Now lets look at the groups each group contains the same html labels that we used for scraping the avalanche data. Lets make a function to pick apart each group and then nest in the same code we had to scrape the fields and field data."
   ]
  },
  {
   "cell_type": "code",
   "execution_count": 74,
   "id": "a5b2d192-bd33-470e-a047-855b94ecd76e",
   "metadata": {},
   "outputs": [],
   "source": [
    "#First lets make a dictionary with each of the observations \n",
    "fields_dict = {} #group: [list of fields]\n",
    "fields_dict['General'] = ['Observer Name', 'Observation Date', 'Region', 'Location Name or Route','Comments']\n",
    "fields_dict['Weather'] = ['Sky', 'Wind Direction', 'Wind Speed', 'Weather Comments']\n",
    "# \"Snow surface conditions\" may have multiple entries\n",
    "fields_dict['Snow Characteristics'] = ['New Snow Depth', 'New Snow Density', 'Snow Surface Conditions', 'Snow Characteristics Comments'] \n",
    "# \"Red Flags\" may have multiple entries\n",
    "fields_dict['Red Flags']=['Red Flags', 'Red Flags Comments']\n",
    "fields_dict['Avalanche Problem #1'] = ['Problem', 'Trend', 'Problem #1 Comments']\n",
    "fields_dict['Avalanche Problem #2'] = ['Problem', 'Trend', 'Problem #2 Comments']\n",
    "#containts image\n",
    "fields_dict['Snow Profile'] = ['Aspect', 'Elevation', 'Slope Angle']\n",
    "\n",
    "multi_entry_fields = ['Red Flags', 'Snow Surface Conditions']"
   ]
  },
  {
   "cell_type": "markdown",
   "id": "d58b677b-b81a-4b8e-b098-7031ef6a00ab",
   "metadata": {},
   "source": [
    "As we can see there are a few fields with potential multiple entries. For these we will need to keep checking and also there is an image of a snow profile which is stored on a url. It might be useful to scrape that too."
   ]
  },
  {
   "cell_type": "code",
   "execution_count": 106,
   "id": "d3bc51fd-a5bd-4174-a964-4a72a87b9087",
   "metadata": {
    "tags": []
   },
   "outputs": [
    {
     "name": "stdout",
     "output_type": "stream",
     "text": [
      "\n",
      " General Group:\n",
      "Observer Name : Weed\n",
      "Observation Date : 3/28/2023\n",
      "Region : Logan » Logan River » Tony Grove Area\n",
      "Location Name or Route : Tony Grove Lake Area\n",
      "Comments : There is around 12' of snow on the ground around Tony Grove Lake. Huge and dangerous overhanging cornices are found on the upper elevation ridges. \n",
      "\n",
      " Weather Group:\n",
      "Sky : Few\n",
      "Wind Direction : South\n",
      "Wind Speed : Strong\n",
      "Weather Comments : A nice warm day....windy in exposed terrain\n",
      "\n",
      " Snow Characteristics Group:\n",
      "New Snow Depth : 2.5'\n",
      "New Snow Density : Medium\n",
      "Snow Surface Conditions : ['Powder', 'Melt-Freeze Crust']\n",
      "Snow Characteristics Comments : Nice powder conditions, especially in shady terrain. Wind affected in exposed terrain and sun affected on slopes facing south half of compass \n",
      "\n",
      " Red Flags Group:\n",
      "Red Flags : ['Wind Loading']\n",
      "Red Flags Comments : No sign of recent activity (since the weekend storm) except a few small cornice falls and some dry sluffs.\n",
      "\n",
      " Avalanche Problem #1 Group:\n",
      "Problem : Cornice\n",
      "Trend : Increasing Danger\n",
      "Problem #1 Comments : We stayed out from under and well away from the huge building cornices on Cornice Ridge and Naomi Peak.\n",
      "\n",
      " Avalanche Problem #2 Group:\n",
      "Problem : Cornice\n",
      "Trend : Increasing Danger\n",
      "Problem #2 Comments : None\n",
      "\n",
      " Snow Profile Group:\n",
      "Aspect : Southeast\n",
      "Elevation : 7500.0\n"
     ]
    },
    {
     "ename": "AttributeError",
     "evalue": "'NoneType' object has no attribute 'group'",
     "output_type": "error",
     "traceback": [
      "\u001b[0;31m---------------------------------------------------------------------------\u001b[0m",
      "\u001b[0;31mAttributeError\u001b[0m                            Traceback (most recent call last)",
      "Input \u001b[0;32mIn [106]\u001b[0m, in \u001b[0;36m<module>\u001b[0;34m\u001b[0m\n\u001b[1;32m     59\u001b[0m             observation_data[field] \u001b[38;5;241m=\u001b[39m entry\n\u001b[1;32m     60\u001b[0m     \u001b[38;5;28;01mreturn\u001b[39;00m observation_data\n\u001b[0;32m---> 62\u001b[0m gen_obs_data \u001b[38;5;241m=\u001b[39m \u001b[43mread_general_observation\u001b[49m\u001b[43m(\u001b[49m\u001b[43mavy_center_url\u001b[49m\u001b[43m \u001b[49m\u001b[38;5;241;43m+\u001b[39;49m\u001b[43m \u001b[49m\u001b[43mextension\u001b[49m\u001b[43m,\u001b[49m\u001b[43m \u001b[49m\u001b[43mverbose\u001b[49m\u001b[38;5;241;43m=\u001b[39;49m\u001b[38;5;28;43;01mTrue\u001b[39;49;00m\u001b[43m)\u001b[49m\n\u001b[1;32m     63\u001b[0m \u001b[38;5;28mprint\u001b[39m(\u001b[38;5;124m'\u001b[39m\u001b[38;5;130;01m\\n\u001b[39;00m\u001b[38;5;124m'\u001b[39m,gen_obs_data)\n",
      "Input \u001b[0;32mIn [106]\u001b[0m, in \u001b[0;36mread_general_observation\u001b[0;34m(url, verbose)\u001b[0m\n\u001b[1;32m     53\u001b[0m     entry \u001b[38;5;241m=\u001b[39m read_multiple_entries(field, soup)\n\u001b[1;32m     54\u001b[0m \u001b[38;5;66;03m#TODO: extract image url from snow profile\u001b[39;00m\n\u001b[1;32m     55\u001b[0m \u001b[38;5;28;01melse\u001b[39;00m:\n\u001b[0;32m---> 56\u001b[0m     entry \u001b[38;5;241m=\u001b[39m \u001b[43mread_field_entry\u001b[49m\u001b[43m(\u001b[49m\u001b[43mfield\u001b[49m\u001b[43m,\u001b[49m\u001b[43m \u001b[49m\u001b[43msoup\u001b[49m\u001b[43m)\u001b[49m\n\u001b[1;32m     57\u001b[0m \u001b[38;5;28;01mif\u001b[39;00m verbose:\n\u001b[1;32m     58\u001b[0m         \u001b[38;5;28mprint\u001b[39m(field, \u001b[38;5;124m'\u001b[39m\u001b[38;5;124m:\u001b[39m\u001b[38;5;124m'\u001b[39m,entry)\n",
      "Input \u001b[0;32mIn [106]\u001b[0m, in \u001b[0;36mread_field_entry\u001b[0;34m(field, soup)\u001b[0m\n\u001b[1;32m     27\u001b[0m     \u001b[38;5;66;03m#print(\"Error at field:\", field)\u001b[39;00m\n\u001b[1;32m     28\u001b[0m \u001b[38;5;28;01mif\u001b[39;00m field \u001b[38;5;129;01min\u001b[39;00m numeric_fields:\n\u001b[0;32m---> 29\u001b[0m         field_entry \u001b[38;5;241m=\u001b[39m \u001b[43mconvert_to_numeric\u001b[49m\u001b[43m(\u001b[49m\u001b[43mfield_entry\u001b[49m\u001b[43m,\u001b[49m\u001b[43m \u001b[49m\u001b[43mfield\u001b[49m\u001b[43m)\u001b[49m\n\u001b[1;32m     30\u001b[0m         \u001b[38;5;66;03m#TODO:fix slope angle\u001b[39;00m\n\u001b[1;32m     31\u001b[0m \u001b[38;5;28;01mreturn\u001b[39;00m field_entry\n",
      "Input \u001b[0;32mIn [92]\u001b[0m, in \u001b[0;36mconvert_to_numeric\u001b[0;34m(raw_string, field)\u001b[0m\n\u001b[1;32m     12\u001b[0m     \u001b[38;5;28;01mreturn\u001b[39;00m \u001b[38;5;28mfloat\u001b[39m(m\u001b[38;5;241m.\u001b[39mgroup(\u001b[38;5;241m1\u001b[39m))\u001b[38;5;241m*\u001b[39m\u001b[38;5;241m1000\u001b[39m \u001b[38;5;241m+\u001b[39m \u001b[38;5;28mfloat\u001b[39m(m\u001b[38;5;241m.\u001b[39mgroup(\u001b[38;5;241m2\u001b[39m))\n\u001b[1;32m     13\u001b[0m \u001b[38;5;28;01melse\u001b[39;00m:\n\u001b[0;32m---> 14\u001b[0m     \u001b[38;5;28;01mreturn\u001b[39;00m \u001b[38;5;28mfloat\u001b[39m(\u001b[43mm\u001b[49m\u001b[38;5;241;43m.\u001b[39;49m\u001b[43mgroup\u001b[49m(\u001b[38;5;241m1\u001b[39m))\n",
      "\u001b[0;31mAttributeError\u001b[0m: 'NoneType' object has no attribute 'group'"
     ]
    }
   ],
   "source": [
    "#a useful function\n",
    "def read_multiple_entries(field, soup):\n",
    "    '''returns a list of field of entries for a multi-entry field such as Red Flags and Snow Surface Conditions'''\n",
    "    if field == 'Red Flags':\n",
    "        parent_soup = soup.find_all(string=field)[1].parent\n",
    "    else:\n",
    "        parent_soup = soup.find(string=field).parent\n",
    "    current_entry = parent_soup.next_sibling.next_sibling\n",
    "    \n",
    "    field_entries = []\n",
    "    read_entries = True\n",
    "    while read_entries:\n",
    "        #print(current_entry)\n",
    "        field_entries.append(current_entry.string)\n",
    "        current_entry = current_entry.next_sibling.next_sibling\n",
    "        #check to see if we ran into comments commonly found below a field\n",
    "        if len(current_entry.string) > 20:\n",
    "            read_entries = False\n",
    "    return field_entries\n",
    "\n",
    "def read_field_entry(field, soup):\n",
    "    '''read the field entry for the given observation soup'''\n",
    "    try:\n",
    "        field_entry = soup.find(string=field).parent.next_sibling.next_sibling.string\n",
    "    except:\n",
    "        field_entry = None\n",
    "        #print(\"Error at field:\", field)\n",
    "    #if field in numeric_fields:\n",
    "            #field_entry = convert_to_numeric(field_entry, field)\n",
    "            #TODO:fix slope angle and numeric fields\n",
    "    return field_entry\n",
    "\n",
    "def read_general_observation(url, verbose = False):\n",
    "    '''Extracts avalanche data from avalanche reports'''\n",
    "    page = requests.get(url)\n",
    "    soup = BeautifulSoup(page.content, 'html.parser')\n",
    "    \n",
    "    numeric_fields = ['Elevation', 'Slope Angle']\n",
    "    multi_entry_fields = ['Red Flags', 'Snow Surface Conditions']\n",
    "    \n",
    "    observation_data = {}\n",
    "    #get observation title\n",
    "    title_class='page-title'\n",
    "    observation_title = soup.find(class_='page-title').string\n",
    "    \n",
    "\n",
    "    field_groups = list(fields_dict.keys())\n",
    "    for group in field_groups:\n",
    "        if verbose:\n",
    "            print('\\n',group,'Group:')\n",
    "        for field in fields_dict[group]:\n",
    "            if field in multi_entry_fields:\n",
    "                entry = read_multiple_entries(field, soup)\n",
    "            #TODO: extract image url from snow profile\n",
    "            else:\n",
    "                entry = read_field_entry(field, soup)\n",
    "            if verbose:\n",
    "                    print(field, ':',entry)\n",
    "            observation_data[field] = entry\n",
    "    return observation_data\n",
    "\n",
    "gen_obs_data = read_general_observation(avy_center_url + extension, verbose=True)\n",
    "print('\\n',gen_obs_data)"
   ]
  },
  {
   "cell_type": "markdown",
   "id": "4bdcabb1-624a-4b00-8bcc-817b57708b56",
   "metadata": {},
   "source": [
    "##### Compiling General Observation Data"
   ]
  },
  {
   "cell_type": "code",
   "execution_count": 104,
   "id": "6291ee99-13fb-4862-a88a-69d314278f1c",
   "metadata": {},
   "outputs": [
    {
     "data": {
      "text/html": [
       "<div>\n",
       "<style scoped>\n",
       "    .dataframe tbody tr th:only-of-type {\n",
       "        vertical-align: middle;\n",
       "    }\n",
       "\n",
       "    .dataframe tbody tr th {\n",
       "        vertical-align: top;\n",
       "    }\n",
       "\n",
       "    .dataframe thead th {\n",
       "        text-align: right;\n",
       "    }\n",
       "</style>\n",
       "<table border=\"1\" class=\"dataframe\">\n",
       "  <thead>\n",
       "    <tr style=\"text-align: right;\">\n",
       "      <th></th>\n",
       "      <th>Date</th>\n",
       "      <th>Region</th>\n",
       "      <th>Observation Title</th>\n",
       "      <th>extension</th>\n",
       "      <th>Observer</th>\n",
       "    </tr>\n",
       "  </thead>\n",
       "  <tbody>\n",
       "    <tr>\n",
       "      <th>0</th>\n",
       "      <td>4/1/2023</td>\n",
       "      <td>Uintas</td>\n",
       "      <td>Observation: Upper Setting</td>\n",
       "      <td>/observation/77729</td>\n",
       "      <td>D Earl</td>\n",
       "    </tr>\n",
       "    <tr>\n",
       "      <th>1</th>\n",
       "      <td>4/1/2023</td>\n",
       "      <td>Uintas</td>\n",
       "      <td>Observation: Whitney Basin</td>\n",
       "      <td>/observation/77747</td>\n",
       "      <td>Ted Scroggin</td>\n",
       "    </tr>\n",
       "    <tr>\n",
       "      <th>2</th>\n",
       "      <td>4/1/2023</td>\n",
       "      <td>Salt Lake</td>\n",
       "      <td>Avalanche: Oquirrh Mountains</td>\n",
       "      <td>/avalanche/77751</td>\n",
       "      <td>A Sotkin</td>\n",
       "    </tr>\n",
       "    <tr>\n",
       "      <th>3</th>\n",
       "      <td>4/1/2023</td>\n",
       "      <td>Salt Lake</td>\n",
       "      <td>Observation: Yellow Jacket</td>\n",
       "      <td>/observation/77749</td>\n",
       "      <td>T Diegel</td>\n",
       "    </tr>\n",
       "    <tr>\n",
       "      <th>4</th>\n",
       "      <td>4/1/2023</td>\n",
       "      <td>Provo</td>\n",
       "      <td>Avalanche: Tibble Fork</td>\n",
       "      <td>/avalanche/77727</td>\n",
       "      <td>Chris Maples</td>\n",
       "    </tr>\n",
       "  </tbody>\n",
       "</table>\n",
       "</div>"
      ],
      "text/plain": [
       "       Date     Region             Observation Title           extension  \\\n",
       "0  4/1/2023     Uintas    Observation: Upper Setting  /observation/77729   \n",
       "1  4/1/2023     Uintas    Observation: Whitney Basin  /observation/77747   \n",
       "2  4/1/2023  Salt Lake  Avalanche: Oquirrh Mountains    /avalanche/77751   \n",
       "3  4/1/2023  Salt Lake    Observation: Yellow Jacket  /observation/77749   \n",
       "4  4/1/2023      Provo        Avalanche: Tibble Fork    /avalanche/77727   \n",
       "\n",
       "       Observer  \n",
       "0        D Earl  \n",
       "1  Ted Scroggin  \n",
       "2      A Sotkin  \n",
       "3      T Diegel  \n",
       "4  Chris Maples  "
      ]
     },
     "execution_count": 104,
     "metadata": {},
     "output_type": "execute_result"
    }
   ],
   "source": [
    "season_obs.head()"
   ]
  },
  {
   "cell_type": "code",
   "execution_count": 105,
   "id": "168f6c56-bd09-424f-8786-fc7e648d56c4",
   "metadata": {
    "tags": []
   },
   "outputs": [
    {
     "name": "stdout",
     "output_type": "stream",
     "text": [
      "Gathering Data from 1136 general observations...\n"
     ]
    },
    {
     "data": {
      "text/html": [
       "<div>\n",
       "<style scoped>\n",
       "    .dataframe tbody tr th:only-of-type {\n",
       "        vertical-align: middle;\n",
       "    }\n",
       "\n",
       "    .dataframe tbody tr th {\n",
       "        vertical-align: top;\n",
       "    }\n",
       "\n",
       "    .dataframe thead th {\n",
       "        text-align: right;\n",
       "    }\n",
       "</style>\n",
       "<table border=\"1\" class=\"dataframe\">\n",
       "  <thead>\n",
       "    <tr style=\"text-align: right;\">\n",
       "      <th></th>\n",
       "      <th>Observer Name</th>\n",
       "      <th>Observation Date</th>\n",
       "      <th>Region</th>\n",
       "      <th>Location Name or Route</th>\n",
       "      <th>Comments</th>\n",
       "      <th>Sky</th>\n",
       "      <th>Wind Direction</th>\n",
       "      <th>Wind Speed</th>\n",
       "      <th>Weather Comments</th>\n",
       "      <th>New Snow Depth</th>\n",
       "      <th>...</th>\n",
       "      <th>Snow Characteristics Comments</th>\n",
       "      <th>Red Flags</th>\n",
       "      <th>Red Flags Comments</th>\n",
       "      <th>Problem</th>\n",
       "      <th>Trend</th>\n",
       "      <th>Problem #1 Comments</th>\n",
       "      <th>Problem #2 Comments</th>\n",
       "      <th>Aspect</th>\n",
       "      <th>Elevation</th>\n",
       "      <th>Slope Angle</th>\n",
       "    </tr>\n",
       "  </thead>\n",
       "  <tbody>\n",
       "    <tr>\n",
       "      <th>0</th>\n",
       "      <td>Ted  Scroggin</td>\n",
       "      <td>4/1/2023</td>\n",
       "      <td>Uintas » Whitney Basin</td>\n",
       "      <td>Whitney Basin</td>\n",
       "      <td>A few photos of some of the natural activity a...</td>\n",
       "      <td>Few</td>\n",
       "      <td>South</td>\n",
       "      <td>Moderate</td>\n",
       "      <td>Mostly sunny this morning and temperatures wer...</td>\n",
       "      <td>2'</td>\n",
       "      <td>...</td>\n",
       "      <td>Man it has been snowing and blowing in the hig...</td>\n",
       "      <td>[Recent Avalanches, Wind Loading]</td>\n",
       "      <td>Looking around the Whitney area it was pretty ...</td>\n",
       "      <td>Wind Drifted Snow</td>\n",
       "      <td>Same</td>\n",
       "      <td>The winds are the big red flag with so much ne...</td>\n",
       "      <td>I think the new snow has settled out some give...</td>\n",
       "      <td>None</td>\n",
       "      <td>NaN</td>\n",
       "      <td>None</td>\n",
       "    </tr>\n",
       "    <tr>\n",
       "      <th>1</th>\n",
       "      <td>Zimmerman-Wall/Matthews</td>\n",
       "      <td>4/1/2023</td>\n",
       "      <td>Salt Lake » Parleys Canyon » Parleys Peak, Pass</td>\n",
       "      <td>Parley's Burn</td>\n",
       "      <td>None</td>\n",
       "      <td>Overcast</td>\n",
       "      <td>Southwest</td>\n",
       "      <td>Light</td>\n",
       "      <td>Started at 0800 with SCT clouds and trended to...</td>\n",
       "      <td>12\"</td>\n",
       "      <td>...</td>\n",
       "      <td>The promise of quality powder skiing seemed da...</td>\n",
       "      <td>[Recent Avalanches, Heavy Snowfall, Wind Loadi...</td>\n",
       "      <td>These red flags were observed over the course ...</td>\n",
       "      <td>New Snow</td>\n",
       "      <td>Same</td>\n",
       "      <td>Primary concern was how the new snow was bondi...</td>\n",
       "      <td>As advertised, the warming temps pushed this p...</td>\n",
       "      <td>None</td>\n",
       "      <td>NaN</td>\n",
       "      <td>None</td>\n",
       "    </tr>\n",
       "    <tr>\n",
       "      <th>2</th>\n",
       "      <td>Pagnucco</td>\n",
       "      <td>3/31/2023</td>\n",
       "      <td>Logan » Beaver Mountain Backcountry</td>\n",
       "      <td>Beaver Backcountry</td>\n",
       "      <td>It felt like winter today though temps were mi...</td>\n",
       "      <td>Obscured</td>\n",
       "      <td>West</td>\n",
       "      <td>Moderate</td>\n",
       "      <td>Very wintery weather with deep snow (24\") and ...</td>\n",
       "      <td>2'</td>\n",
       "      <td>...</td>\n",
       "      <td>Cool temps kept the snow from getting dense th...</td>\n",
       "      <td>[Recent Avalanches, Heavy Snowfall, Wind Loading]</td>\n",
       "      <td>Biggest issue on exposed ridges is major wind ...</td>\n",
       "      <td>None</td>\n",
       "      <td>None</td>\n",
       "      <td>None</td>\n",
       "      <td>None</td>\n",
       "      <td>None</td>\n",
       "      <td>NaN</td>\n",
       "      <td>None</td>\n",
       "    </tr>\n",
       "    <tr>\n",
       "      <th>3</th>\n",
       "      <td>Gagne</td>\n",
       "      <td>3/30/2023</td>\n",
       "      <td>Salt Lake » Big Cottonwood Canyon » USA Bowl</td>\n",
       "      <td>USA Bowl - Monitors</td>\n",
       "      <td>None</td>\n",
       "      <td>Obscured</td>\n",
       "      <td>West</td>\n",
       "      <td>Moderate</td>\n",
       "      <td>Periods of light to moderate snowfall with occ...</td>\n",
       "      <td>14\"</td>\n",
       "      <td>...</td>\n",
       "      <td>30-40 cms settled storm snow. There was a brie...</td>\n",
       "      <td>[Recent Avalanches, Heavy Snowfall, Wind Loading]</td>\n",
       "      <td>Continued heavy snowfall and winds plus lots o...</td>\n",
       "      <td>New Snow</td>\n",
       "      <td>Increasing Danger</td>\n",
       "      <td>Lots of new snow with wind drifting. Plenty of...</td>\n",
       "      <td>Although we couldn't get onto any wind-loaded ...</td>\n",
       "      <td>None</td>\n",
       "      <td>NaN</td>\n",
       "      <td>None</td>\n",
       "    </tr>\n",
       "    <tr>\n",
       "      <th>4</th>\n",
       "      <td>Weed</td>\n",
       "      <td>3/28/2023</td>\n",
       "      <td>Logan » Logan River » Tony Grove Area</td>\n",
       "      <td>Tony Grove Lake Area</td>\n",
       "      <td>There is around 12' of snow on the ground arou...</td>\n",
       "      <td>Few</td>\n",
       "      <td>South</td>\n",
       "      <td>Strong</td>\n",
       "      <td>A nice warm day....windy in exposed terrain</td>\n",
       "      <td>2.5'</td>\n",
       "      <td>...</td>\n",
       "      <td>Nice powder conditions, especially in shady te...</td>\n",
       "      <td>[Wind Loading]</td>\n",
       "      <td>No sign of recent activity (since the weekend ...</td>\n",
       "      <td>Cornice</td>\n",
       "      <td>Increasing Danger</td>\n",
       "      <td>We stayed out from under and well away from th...</td>\n",
       "      <td>None</td>\n",
       "      <td>Southeast</td>\n",
       "      <td>7500.0</td>\n",
       "      <td>None</td>\n",
       "    </tr>\n",
       "  </tbody>\n",
       "</table>\n",
       "<p>5 rows × 22 columns</p>\n",
       "</div>"
      ],
      "text/plain": [
       "             Observer Name Observation Date  \\\n",
       "0            Ted  Scroggin         4/1/2023   \n",
       "1  Zimmerman-Wall/Matthews         4/1/2023   \n",
       "2                 Pagnucco        3/31/2023   \n",
       "3                    Gagne        3/30/2023   \n",
       "4                     Weed        3/28/2023   \n",
       "\n",
       "                                            Region Location Name or Route  \\\n",
       "0                           Uintas » Whitney Basin          Whitney Basin   \n",
       "1  Salt Lake » Parleys Canyon » Parleys Peak, Pass          Parley's Burn   \n",
       "2              Logan » Beaver Mountain Backcountry     Beaver Backcountry   \n",
       "3     Salt Lake » Big Cottonwood Canyon » USA Bowl    USA Bowl - Monitors   \n",
       "4            Logan » Logan River » Tony Grove Area   Tony Grove Lake Area   \n",
       "\n",
       "                                            Comments       Sky Wind Direction  \\\n",
       "0  A few photos of some of the natural activity a...       Few          South   \n",
       "1                                               None  Overcast      Southwest   \n",
       "2  It felt like winter today though temps were mi...  Obscured           West   \n",
       "3                                               None  Obscured           West   \n",
       "4  There is around 12' of snow on the ground arou...       Few          South   \n",
       "\n",
       "  Wind Speed                                   Weather Comments  \\\n",
       "0   Moderate  Mostly sunny this morning and temperatures wer...   \n",
       "1      Light  Started at 0800 with SCT clouds and trended to...   \n",
       "2   Moderate  Very wintery weather with deep snow (24\") and ...   \n",
       "3   Moderate  Periods of light to moderate snowfall with occ...   \n",
       "4     Strong        A nice warm day....windy in exposed terrain   \n",
       "\n",
       "  New Snow Depth  ...                      Snow Characteristics Comments  \\\n",
       "0             2'  ...  Man it has been snowing and blowing in the hig...   \n",
       "1            12\"  ...  The promise of quality powder skiing seemed da...   \n",
       "2             2'  ...  Cool temps kept the snow from getting dense th...   \n",
       "3            14\"  ...  30-40 cms settled storm snow. There was a brie...   \n",
       "4           2.5'  ...  Nice powder conditions, especially in shady te...   \n",
       "\n",
       "                                           Red Flags  \\\n",
       "0                  [Recent Avalanches, Wind Loading]   \n",
       "1  [Recent Avalanches, Heavy Snowfall, Wind Loadi...   \n",
       "2  [Recent Avalanches, Heavy Snowfall, Wind Loading]   \n",
       "3  [Recent Avalanches, Heavy Snowfall, Wind Loading]   \n",
       "4                                     [Wind Loading]   \n",
       "\n",
       "                                  Red Flags Comments            Problem  \\\n",
       "0  Looking around the Whitney area it was pretty ...  Wind Drifted Snow   \n",
       "1  These red flags were observed over the course ...           New Snow   \n",
       "2  Biggest issue on exposed ridges is major wind ...               None   \n",
       "3  Continued heavy snowfall and winds plus lots o...           New Snow   \n",
       "4  No sign of recent activity (since the weekend ...            Cornice   \n",
       "\n",
       "               Trend                                Problem #1 Comments  \\\n",
       "0               Same  The winds are the big red flag with so much ne...   \n",
       "1               Same  Primary concern was how the new snow was bondi...   \n",
       "2               None                                               None   \n",
       "3  Increasing Danger  Lots of new snow with wind drifting. Plenty of...   \n",
       "4  Increasing Danger  We stayed out from under and well away from th...   \n",
       "\n",
       "                                 Problem #2 Comments     Aspect Elevation  \\\n",
       "0  I think the new snow has settled out some give...       None       NaN   \n",
       "1  As advertised, the warming temps pushed this p...       None       NaN   \n",
       "2                                               None       None       NaN   \n",
       "3  Although we couldn't get onto any wind-loaded ...       None       NaN   \n",
       "4                                               None  Southeast    7500.0   \n",
       "\n",
       "  Slope Angle  \n",
       "0        None  \n",
       "1        None  \n",
       "2        None  \n",
       "3        None  \n",
       "4        None  \n",
       "\n",
       "[5 rows x 22 columns]"
      ]
     },
     "execution_count": 105,
     "metadata": {},
     "output_type": "execute_result"
    }
   ],
   "source": [
    "def get_observation_data(observation_table):\n",
    "    '''Takes a dataframe containing a list of links to general observations and returns\n",
    "    the data from each of those observations in a dataframe'''\n",
    "    general_observation_table = filter_general_observations(observation_table).reset_index(drop=True)\n",
    "    extensions = list(general_observation_table.extension)\n",
    "    print('Gathering Data from', len(extensions), 'general observations...')\n",
    "    data = []\n",
    "    err = [] #collect list of extensions that did not work\n",
    "    for extension in extensions:\n",
    "        try:\n",
    "            new_data = read_general_observation(avy_center_url + extension)\n",
    "            data.append(new_data)\n",
    "        except:\n",
    "            err.append(extension)\n",
    "    gen_obs_data = pd.DataFrame(data)\n",
    "    return gen_obs_data, err\n",
    "\n",
    "gen_obs, err = get_observation_data(season_obs)\n",
    "gen_obs.head()"
   ]
  },
  {
   "cell_type": "markdown",
   "id": "da0d0d8a-589f-4736-9411-96fef8da8d09",
   "metadata": {},
   "source": [
    "####"
   ]
  },
  {
   "cell_type": "markdown",
   "id": "1e1fa29f-30fb-4501-ab50-0331ba09d046",
   "metadata": {},
   "source": [
    "## Cataloging Data\n",
    "\n",
    "As you may notice the time it takes to perform these functions is quite long. In order to make the subsequent inquiries a little faster we will store the data locally on the computer. The process could be further improved, deleting an inquiry after a month or so would save local space or to store the data in a data repository that can be accessed with SQL. "
   ]
  },
  {
   "cell_type": "markdown",
   "id": "d7b0f80f-90b7-4a90-be7e-6ee3ee72bdb9",
   "metadata": {},
   "source": [
    "#### Ideas\n",
    "- Generate Forcast reports for each day and verify using actual report. \n",
    "- Analyze data from fatality reports\n",
    "- Using coodinates of avalanches, find the slope angle.\n",
    "\n",
    "#### TODO\n",
    "- Get location data -> not working using Beautiful soup, try different html parser -> see \"Setting up Selenium\"\n",
    "- Begin processing observation reports\n",
    "- Add the avalanche danger on each day (https://utahavalanchecenter.org/archives/forecasts)\n",
    "- Generate functions that quickly fetch plots for data\n",
    "- Store the data locally\n",
    "- Format the graphs better\n",
    "- Write a script for the web scraping before moving on to Forecasts\n"
   ]
  },
  {
   "cell_type": "code",
   "execution_count": null,
   "id": "6f4b8ab8-58aa-45b1-8330-a78f8e59734a",
   "metadata": {},
   "outputs": [],
   "source": []
  }
 ],
 "metadata": {
  "kernelspec": {
   "display_name": "Python 3 (ipykernel)",
   "language": "python",
   "name": "python3"
  },
  "language_info": {
   "codemirror_mode": {
    "name": "ipython",
    "version": 3
   },
   "file_extension": ".py",
   "mimetype": "text/x-python",
   "name": "python",
   "nbconvert_exporter": "python",
   "pygments_lexer": "ipython3",
   "version": "3.8.9"
  }
 },
 "nbformat": 4,
 "nbformat_minor": 5
}
