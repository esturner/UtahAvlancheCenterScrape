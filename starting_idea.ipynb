{
 "cells": [
  {
   "cell_type": "markdown",
   "id": "3871927b-f3b5-438e-bc49-3f4823e9fef1",
   "metadata": {},
   "source": [
    "# Avalanche Data Project"
   ]
  },
  {
   "cell_type": "markdown",
   "id": "7a67fdcb-b936-4461-af21-f94030ca6725",
   "metadata": {
    "tags": []
   },
   "source": [
    "## Introduction\n",
    "\n",
    "The main idea of this project is to generate a well calibrated avalanche report based on observations of winter conditions typically performed by backcountry skiers and snowboarders. These reports provide very valuable information for not only backcountry users but also highway management in mountainous terrain. Currently the reports are carried out by publically and government support. This avalanche project uses observations from the Utah Avalanche Center (UAC) Website (https://utahavalanchecenter.org) which hosts reports that cover the entire state. This document explains my thought process on  how to make a model for predicting the likelyhood of an avalanche based on previous day observations. "
   ]
  },
  {
   "cell_type": "code",
   "execution_count": 40,
   "id": "2d27fbbd-e623-47a3-a145-97d572b7d93c",
   "metadata": {},
   "outputs": [
    {
     "data": {
      "text/plain": [
       "'1.5.3'"
      ]
     },
     "execution_count": 40,
     "metadata": {},
     "output_type": "execute_result"
    }
   ],
   "source": [
    "import pandas as pd\n",
    "import os\n",
    "import requests\n",
    "import numpy as np\n",
    "import matplotlib.pyplot as plt\n",
    "from bs4 import BeautifulSoup\n",
    "import datetime\n",
    "import re\n",
    "\n",
    "from selenium import webdriver\n",
    "from selenium.webdriver.common.keys import Keys\n",
    "from selenium.webdriver.common.by import By\n",
    "from selenium.webdriver.support.ui import WebDriverWait\n",
    "from selenium.webdriver.support import expected_conditions as EC\n",
    "\n",
    "pd.__version__"
   ]
  },
  {
   "cell_type": "markdown",
   "id": "023825d2-b647-4549-b516-bd6f4cb92b67",
   "metadata": {},
   "source": [
    "I got some good infor on converting html files into pandas dataframes from this article, https://towardsdatascience.com/how-to-get-tables-from-websites-into-pandas-dataframes-e82bd8a0ac59. `"
   ]
  },
  {
   "cell_type": "markdown",
   "id": "90b025d5-f35f-4489-9106-c33095fea1a6",
   "metadata": {},
   "source": [
    "## Collecting Observation Data\n",
    "\n",
    "### Observations List"
   ]
  },
  {
   "cell_type": "markdown",
   "id": "2bb65d18-473b-4efc-9c9f-05c0a00e48ca",
   "metadata": {},
   "source": [
    "First we get a list of observations from the UAC's website before we draw out each avalanche/conditions observation and log that in a table of observations or catalog. Each observation in the catalog holds whatever data that observer reports (weather, tests, descriptions, avalanche, etc). First we need to extract a list of all the observations made on the site's observation site (https://utahavalanchecenter.org/observations)."
   ]
  },
  {
   "cell_type": "code",
   "execution_count": 41,
   "id": "76fde28d-fddd-4d5f-8764-aa041d135881",
   "metadata": {},
   "outputs": [
    {
     "data": {
      "text/html": [
       "<div>\n",
       "<style scoped>\n",
       "    .dataframe tbody tr th:only-of-type {\n",
       "        vertical-align: middle;\n",
       "    }\n",
       "\n",
       "    .dataframe tbody tr th {\n",
       "        vertical-align: top;\n",
       "    }\n",
       "\n",
       "    .dataframe thead th {\n",
       "        text-align: right;\n",
       "    }\n",
       "</style>\n",
       "<table border=\"1\" class=\"dataframe\">\n",
       "  <thead>\n",
       "    <tr style=\"text-align: right;\">\n",
       "      <th></th>\n",
       "      <th>(Date, None)</th>\n",
       "      <th>(Region, None)</th>\n",
       "      <th>(, None)</th>\n",
       "      <th>(Observer, None)</th>\n",
       "    </tr>\n",
       "  </thead>\n",
       "  <tbody>\n",
       "    <tr>\n",
       "      <th>0</th>\n",
       "      <td>(3/28/2023, None)</td>\n",
       "      <td>(Provo, None)</td>\n",
       "      <td>(Observation: Aspen Grove, /observation/77490)</td>\n",
       "      <td>(Owen, None)</td>\n",
       "    </tr>\n",
       "    <tr>\n",
       "      <th>1</th>\n",
       "      <td>(3/27/2023, None)</td>\n",
       "      <td>(Salt Lake, None)</td>\n",
       "      <td>(Avalanche: Butler Fork, /avalanche/77487)</td>\n",
       "      <td>(Patty Pow Pow, None)</td>\n",
       "    </tr>\n",
       "    <tr>\n",
       "      <th>2</th>\n",
       "      <td>(3/27/2023, None)</td>\n",
       "      <td>(Salt Lake, None)</td>\n",
       "      <td>(Accident: Oquirrh Mountains, /avalanche/77465)</td>\n",
       "      <td>(UAC Staff, None)</td>\n",
       "    </tr>\n",
       "    <tr>\n",
       "      <th>3</th>\n",
       "      <td>(3/27/2023, None)</td>\n",
       "      <td>(Salt Lake, None)</td>\n",
       "      <td>(Avalanche: Little Superior, /avalanche/77464)</td>\n",
       "      <td>(slp, None)</td>\n",
       "    </tr>\n",
       "    <tr>\n",
       "      <th>4</th>\n",
       "      <td>(3/27/2023, None)</td>\n",
       "      <td>(Salt Lake, None)</td>\n",
       "      <td>(Observation: South Face, /observation/77463)</td>\n",
       "      <td>(W Ambler, None)</td>\n",
       "    </tr>\n",
       "  </tbody>\n",
       "</table>\n",
       "</div>"
      ],
      "text/plain": [
       "        (Date, None)     (Region, None)  \\\n",
       "0  (3/28/2023, None)      (Provo, None)   \n",
       "1  (3/27/2023, None)  (Salt Lake, None)   \n",
       "2  (3/27/2023, None)  (Salt Lake, None)   \n",
       "3  (3/27/2023, None)  (Salt Lake, None)   \n",
       "4  (3/27/2023, None)  (Salt Lake, None)   \n",
       "\n",
       "                                          (, None)       (Observer, None)  \n",
       "0   (Observation: Aspen Grove, /observation/77490)           (Owen, None)  \n",
       "1       (Avalanche: Butler Fork, /avalanche/77487)  (Patty Pow Pow, None)  \n",
       "2  (Accident: Oquirrh Mountains, /avalanche/77465)      (UAC Staff, None)  \n",
       "3   (Avalanche: Little Superior, /avalanche/77464)            (slp, None)  \n",
       "4    (Observation: South Face, /observation/77463)       (W Ambler, None)  "
      ]
     },
     "execution_count": 41,
     "metadata": {},
     "output_type": "execute_result"
    }
   ],
   "source": [
    "avy_center_url = 'http://utahavalanchecenter.org'\n",
    "observations_url = avy_center_url + '/observations'\n",
    "page = requests.get(observations_url)\n",
    "soup = BeautifulSoup(page.content, 'html.parser')\n",
    "tbl = soup.find(\"table\")\n",
    "#print(tbl.dtype)\n",
    "page_obs = pd.read_html(str(tbl),extract_links ='all')[0]\n",
    "page_obs.head()"
   ]
  },
  {
   "cell_type": "markdown",
   "id": "6e113840-a65f-41af-ae9d-f6344c903cf3",
   "metadata": {},
   "source": [
    "The main problem with the extract_links is it converts everying into a tuple. We want to eliminate the tuples and rewrite the \"(,None)\" column as \"link_extensions\"."
   ]
  },
  {
   "cell_type": "code",
   "execution_count": 42,
   "id": "0c01b8a2-5ae5-4c57-bb05-038fe9c7f6d5",
   "metadata": {},
   "outputs": [],
   "source": [
    "old_columns = page_obs.columns"
   ]
  },
  {
   "cell_type": "code",
   "execution_count": 43,
   "id": "f64b53cc-c0d3-4efd-a954-3b35556a02e3",
   "metadata": {},
   "outputs": [
    {
     "data": {
      "text/html": [
       "<div>\n",
       "<style scoped>\n",
       "    .dataframe tbody tr th:only-of-type {\n",
       "        vertical-align: middle;\n",
       "    }\n",
       "\n",
       "    .dataframe tbody tr th {\n",
       "        vertical-align: top;\n",
       "    }\n",
       "\n",
       "    .dataframe thead th {\n",
       "        text-align: right;\n",
       "    }\n",
       "</style>\n",
       "<table border=\"1\" class=\"dataframe\">\n",
       "  <thead>\n",
       "    <tr style=\"text-align: right;\">\n",
       "      <th></th>\n",
       "      <th>Date</th>\n",
       "      <th>Region</th>\n",
       "      <th>Observation Title</th>\n",
       "      <th>extension</th>\n",
       "      <th>Observer</th>\n",
       "    </tr>\n",
       "  </thead>\n",
       "  <tbody>\n",
       "    <tr>\n",
       "      <th>0</th>\n",
       "      <td>3/28/2023</td>\n",
       "      <td>Provo</td>\n",
       "      <td>Observation: Aspen Grove</td>\n",
       "      <td>/observation/77490</td>\n",
       "      <td>Owen</td>\n",
       "    </tr>\n",
       "    <tr>\n",
       "      <th>1</th>\n",
       "      <td>3/27/2023</td>\n",
       "      <td>Salt Lake</td>\n",
       "      <td>Avalanche: Butler Fork</td>\n",
       "      <td>/avalanche/77487</td>\n",
       "      <td>Patty Pow Pow</td>\n",
       "    </tr>\n",
       "    <tr>\n",
       "      <th>2</th>\n",
       "      <td>3/27/2023</td>\n",
       "      <td>Salt Lake</td>\n",
       "      <td>Accident: Oquirrh Mountains</td>\n",
       "      <td>/avalanche/77465</td>\n",
       "      <td>UAC Staff</td>\n",
       "    </tr>\n",
       "    <tr>\n",
       "      <th>3</th>\n",
       "      <td>3/27/2023</td>\n",
       "      <td>Salt Lake</td>\n",
       "      <td>Avalanche: Little Superior</td>\n",
       "      <td>/avalanche/77464</td>\n",
       "      <td>slp</td>\n",
       "    </tr>\n",
       "    <tr>\n",
       "      <th>4</th>\n",
       "      <td>3/27/2023</td>\n",
       "      <td>Salt Lake</td>\n",
       "      <td>Observation: South Face</td>\n",
       "      <td>/observation/77463</td>\n",
       "      <td>W Ambler</td>\n",
       "    </tr>\n",
       "  </tbody>\n",
       "</table>\n",
       "</div>"
      ],
      "text/plain": [
       "        Date     Region            Observation Title           extension  \\\n",
       "0  3/28/2023      Provo     Observation: Aspen Grove  /observation/77490   \n",
       "1  3/27/2023  Salt Lake       Avalanche: Butler Fork    /avalanche/77487   \n",
       "2  3/27/2023  Salt Lake  Accident: Oquirrh Mountains    /avalanche/77465   \n",
       "3  3/27/2023  Salt Lake   Avalanche: Little Superior    /avalanche/77464   \n",
       "4  3/27/2023  Salt Lake      Observation: South Face  /observation/77463   \n",
       "\n",
       "        Observer  \n",
       "0           Owen  \n",
       "1  Patty Pow Pow  \n",
       "2      UAC Staff  \n",
       "3            slp  \n",
       "4       W Ambler  "
      ]
     },
     "execution_count": 43,
     "metadata": {},
     "output_type": "execute_result"
    }
   ],
   "source": [
    "#change names\n",
    "page_obs[['Date', 'a']]= pd.DataFrame(page_obs[old_columns[0]].tolist(), index=page_obs.index)\n",
    "page_obs[['Region', 'b']]= pd.DataFrame(page_obs[old_columns[1]].tolist(), index=page_obs.index) \n",
    "page_obs[['Observation Title', 'extension']]= pd.DataFrame(page_obs[old_columns[2]].tolist(), index=page_obs.index) \n",
    "page_obs[['Observer', 'd']]= pd.DataFrame(page_obs[old_columns[3]].tolist(), index=page_obs.index)\n",
    "\n",
    "#remove old columns & columns with none\n",
    "page_obs=page_obs.drop(old_columns, axis=1)\n",
    "page_obs=page_obs.drop(['a','b','d'], axis=1)\n",
    "page_obs.head()"
   ]
  },
  {
   "cell_type": "markdown",
   "id": "d242a4fe-a6d4-4610-a41f-54c0cf259991",
   "metadata": {},
   "source": [
    "Lets wrap that all into some nice functions."
   ]
  },
  {
   "cell_type": "code",
   "execution_count": 44,
   "id": "958eb8a1-acab-4d72-a4c9-cb470db19aa4",
   "metadata": {},
   "outputs": [
    {
     "data": {
      "text/html": [
       "<div>\n",
       "<style scoped>\n",
       "    .dataframe tbody tr th:only-of-type {\n",
       "        vertical-align: middle;\n",
       "    }\n",
       "\n",
       "    .dataframe tbody tr th {\n",
       "        vertical-align: top;\n",
       "    }\n",
       "\n",
       "    .dataframe thead th {\n",
       "        text-align: right;\n",
       "    }\n",
       "</style>\n",
       "<table border=\"1\" class=\"dataframe\">\n",
       "  <thead>\n",
       "    <tr style=\"text-align: right;\">\n",
       "      <th></th>\n",
       "      <th>Date</th>\n",
       "      <th>Region</th>\n",
       "      <th>Observation Title</th>\n",
       "      <th>extension</th>\n",
       "      <th>Observer</th>\n",
       "    </tr>\n",
       "  </thead>\n",
       "  <tbody>\n",
       "    <tr>\n",
       "      <th>0</th>\n",
       "      <td>3/28/2023</td>\n",
       "      <td>Provo</td>\n",
       "      <td>Observation: Aspen Grove</td>\n",
       "      <td>/observation/77490</td>\n",
       "      <td>Owen</td>\n",
       "    </tr>\n",
       "    <tr>\n",
       "      <th>1</th>\n",
       "      <td>3/27/2023</td>\n",
       "      <td>Salt Lake</td>\n",
       "      <td>Avalanche: Butler Fork</td>\n",
       "      <td>/avalanche/77487</td>\n",
       "      <td>Patty Pow Pow</td>\n",
       "    </tr>\n",
       "    <tr>\n",
       "      <th>2</th>\n",
       "      <td>3/27/2023</td>\n",
       "      <td>Salt Lake</td>\n",
       "      <td>Accident: Oquirrh Mountains</td>\n",
       "      <td>/avalanche/77465</td>\n",
       "      <td>UAC Staff</td>\n",
       "    </tr>\n",
       "    <tr>\n",
       "      <th>3</th>\n",
       "      <td>3/27/2023</td>\n",
       "      <td>Salt Lake</td>\n",
       "      <td>Avalanche: Little Superior</td>\n",
       "      <td>/avalanche/77464</td>\n",
       "      <td>slp</td>\n",
       "    </tr>\n",
       "    <tr>\n",
       "      <th>4</th>\n",
       "      <td>3/27/2023</td>\n",
       "      <td>Salt Lake</td>\n",
       "      <td>Observation: South Face</td>\n",
       "      <td>/observation/77463</td>\n",
       "      <td>W Ambler</td>\n",
       "    </tr>\n",
       "  </tbody>\n",
       "</table>\n",
       "</div>"
      ],
      "text/plain": [
       "        Date     Region            Observation Title           extension  \\\n",
       "0  3/28/2023      Provo     Observation: Aspen Grove  /observation/77490   \n",
       "1  3/27/2023  Salt Lake       Avalanche: Butler Fork    /avalanche/77487   \n",
       "2  3/27/2023  Salt Lake  Accident: Oquirrh Mountains    /avalanche/77465   \n",
       "3  3/27/2023  Salt Lake   Avalanche: Little Superior    /avalanche/77464   \n",
       "4  3/27/2023  Salt Lake      Observation: South Face  /observation/77463   \n",
       "\n",
       "        Observer  \n",
       "0           Owen  \n",
       "1  Patty Pow Pow  \n",
       "2      UAC Staff  \n",
       "3            slp  \n",
       "4       W Ambler  "
      ]
     },
     "execution_count": 44,
     "metadata": {},
     "output_type": "execute_result"
    }
   ],
   "source": [
    "def get_page_obs(url):\n",
    "    '''returns a dataframe of avalanche observations from url. Data in df\n",
    "    includes Date, Region, Avalanche/Observation, (url) extension, and\n",
    "    observor'''\n",
    "    page = requests.get(url)\n",
    "    soup = BeautifulSoup(page.content, 'html.parser')\n",
    "    tbl=soup.find(\"table\")\n",
    "    page_obs = pd.read_html(str(tbl), extract_links='all')[0]\n",
    "    page_obs = clean_page_obs(page_obs)\n",
    "    return page_obs\n",
    "\n",
    "def clean_page_obs(page_obs):\n",
    "    '''Cleans up the html parser's interpretation of the observation list'''\n",
    "    old_columns = page_obs.columns\n",
    "    #change names \n",
    "    page_obs[['Date', 'a']]= pd.DataFrame(page_obs[old_columns[0]].tolist(), index=page_obs.index)\n",
    "    page_obs[['Region', 'b']]= pd.DataFrame(page_obs[old_columns[1]].tolist(), index=page_obs.index)\n",
    "    page_obs[['Observation Title', 'extension']]= pd.DataFrame(page_obs[old_columns[2]].tolist(), index=page_obs.index)\n",
    "    page_obs[['Observer', 'd']]= pd.DataFrame(page_obs[old_columns[3]].tolist(), index=page_obs.index)\n",
    "    #remove old columns & columns with none\n",
    "    page_obs=page_obs.drop(old_columns, axis=1)\n",
    "    page_obs=page_obs.drop(['a','b','d'], axis=1)\n",
    "    return page_obs\n",
    "\n",
    "page_obs = get_page_obs(observations_url)\n",
    "page_obs.head()\n"
   ]
  },
  {
   "cell_type": "markdown",
   "id": "adabea2a-16d1-46e0-a123-e88a5b7c7dd5",
   "metadata": {},
   "source": [
    "Next lets try iterating through each of the pages. The starting page url is https://utahavalanchecenter.org/observations. When clicked on the next page we get https://utahavalanchecenter.org/observations?page=1. So lets just keep stepping up from there."
   ]
  },
  {
   "cell_type": "code",
   "execution_count": 45,
   "id": "c3299ecb-8ed2-4940-8e3a-021dc188a489",
   "metadata": {},
   "outputs": [
    {
     "name": "stdout",
     "output_type": "stream",
     "text": [
      "Entries started with (0, 0) and ended with (250, 5)\n",
      "Date                                3/28/2023\n",
      "Region                                  Provo\n",
      "Observation Title    Observation: Aspen Grove\n",
      "extension                  /observation/77490\n",
      "Observer                                 Owen\n",
      "Name: 0, dtype: object\n",
      "Date                               3/11/2023\n",
      "Region                                 Logan\n",
      "Observation Title    Avalanche: River Chutes\n",
      "extension                   /avalanche/76738\n",
      "Observer                            Pagnucco\n",
      "Name: 249, dtype: object\n"
     ]
    }
   ],
   "source": [
    "n_pages = 5\n",
    "page_obs = pd.DataFrame()\n",
    "entries_start= page_obs.shape\n",
    "for page in range(n_pages):\n",
    "    url = observations_url\n",
    "    if page != 0:\n",
    "        url = url + f\"?page={page}\"\n",
    "    page_obs_new = get_page_obs(url)\n",
    "    page_obs = pd.concat([page_obs, page_obs_new])\n",
    "page_obs = page_obs.reset_index(drop=True)\n",
    "entries_end = page_obs.shape\n",
    "print('Entries started with', entries_start,'and ended with', entries_end)\n",
    "print(page_obs.iloc[0])\n",
    "print(page_obs.iloc[-1])"
   ]
  },
  {
   "cell_type": "code",
   "execution_count": 46,
   "id": "55126c14-3577-4bfb-8ffd-7f64df5d5eb4",
   "metadata": {},
   "outputs": [
    {
     "data": {
      "text/html": [
       "<div>\n",
       "<style scoped>\n",
       "    .dataframe tbody tr th:only-of-type {\n",
       "        vertical-align: middle;\n",
       "    }\n",
       "\n",
       "    .dataframe tbody tr th {\n",
       "        vertical-align: top;\n",
       "    }\n",
       "\n",
       "    .dataframe thead th {\n",
       "        text-align: right;\n",
       "    }\n",
       "</style>\n",
       "<table border=\"1\" class=\"dataframe\">\n",
       "  <thead>\n",
       "    <tr style=\"text-align: right;\">\n",
       "      <th></th>\n",
       "      <th>Date</th>\n",
       "      <th>Region</th>\n",
       "      <th>Observation Title</th>\n",
       "      <th>extension</th>\n",
       "      <th>Observer</th>\n",
       "    </tr>\n",
       "  </thead>\n",
       "  <tbody>\n",
       "    <tr>\n",
       "      <th>0</th>\n",
       "      <td>3/28/2023</td>\n",
       "      <td>Provo</td>\n",
       "      <td>Observation: Aspen Grove</td>\n",
       "      <td>/observation/77490</td>\n",
       "      <td>Owen</td>\n",
       "    </tr>\n",
       "    <tr>\n",
       "      <th>1</th>\n",
       "      <td>3/27/2023</td>\n",
       "      <td>Salt Lake</td>\n",
       "      <td>Avalanche: Butler Fork</td>\n",
       "      <td>/avalanche/77487</td>\n",
       "      <td>Patty Pow Pow</td>\n",
       "    </tr>\n",
       "    <tr>\n",
       "      <th>2</th>\n",
       "      <td>3/27/2023</td>\n",
       "      <td>Salt Lake</td>\n",
       "      <td>Accident: Oquirrh Mountains</td>\n",
       "      <td>/avalanche/77465</td>\n",
       "      <td>UAC Staff</td>\n",
       "    </tr>\n",
       "    <tr>\n",
       "      <th>3</th>\n",
       "      <td>3/27/2023</td>\n",
       "      <td>Salt Lake</td>\n",
       "      <td>Avalanche: Little Superior</td>\n",
       "      <td>/avalanche/77464</td>\n",
       "      <td>slp</td>\n",
       "    </tr>\n",
       "    <tr>\n",
       "      <th>4</th>\n",
       "      <td>3/27/2023</td>\n",
       "      <td>Salt Lake</td>\n",
       "      <td>Observation: South Face</td>\n",
       "      <td>/observation/77463</td>\n",
       "      <td>W Ambler</td>\n",
       "    </tr>\n",
       "    <tr>\n",
       "      <th>...</th>\n",
       "      <td>...</td>\n",
       "      <td>...</td>\n",
       "      <td>...</td>\n",
       "      <td>...</td>\n",
       "      <td>...</td>\n",
       "    </tr>\n",
       "    <tr>\n",
       "      <th>245</th>\n",
       "      <td>3/12/2023</td>\n",
       "      <td>Logan</td>\n",
       "      <td>Observation: Cherry Creek Canyon</td>\n",
       "      <td>/observation/76605</td>\n",
       "      <td>William Rouse</td>\n",
       "    </tr>\n",
       "    <tr>\n",
       "      <th>246</th>\n",
       "      <td>3/11/2023</td>\n",
       "      <td>Skyline</td>\n",
       "      <td>Avalanche: Avalanche Alley</td>\n",
       "      <td>/avalanche/77134</td>\n",
       "      <td>Kobernik</td>\n",
       "    </tr>\n",
       "    <tr>\n",
       "      <th>247</th>\n",
       "      <td>3/11/2023</td>\n",
       "      <td>Skyline</td>\n",
       "      <td>Avalanche: Forks of the Huntington</td>\n",
       "      <td>/avalanche/76518</td>\n",
       "      <td>Brett Kobernik-Jeremy Larson</td>\n",
       "    </tr>\n",
       "    <tr>\n",
       "      <th>248</th>\n",
       "      <td>3/11/2023</td>\n",
       "      <td>Uintas</td>\n",
       "      <td>Avalanche: Upper Chalk Creek</td>\n",
       "      <td>/avalanche/76894</td>\n",
       "      <td>Torrey</td>\n",
       "    </tr>\n",
       "    <tr>\n",
       "      <th>249</th>\n",
       "      <td>3/11/2023</td>\n",
       "      <td>Logan</td>\n",
       "      <td>Avalanche: River Chutes</td>\n",
       "      <td>/avalanche/76738</td>\n",
       "      <td>Pagnucco</td>\n",
       "    </tr>\n",
       "  </tbody>\n",
       "</table>\n",
       "<p>250 rows × 5 columns</p>\n",
       "</div>"
      ],
      "text/plain": [
       "          Date     Region                   Observation Title  \\\n",
       "0    3/28/2023      Provo            Observation: Aspen Grove   \n",
       "1    3/27/2023  Salt Lake              Avalanche: Butler Fork   \n",
       "2    3/27/2023  Salt Lake         Accident: Oquirrh Mountains   \n",
       "3    3/27/2023  Salt Lake          Avalanche: Little Superior   \n",
       "4    3/27/2023  Salt Lake             Observation: South Face   \n",
       "..         ...        ...                                 ...   \n",
       "245  3/12/2023      Logan    Observation: Cherry Creek Canyon   \n",
       "246  3/11/2023    Skyline          Avalanche: Avalanche Alley   \n",
       "247  3/11/2023    Skyline  Avalanche: Forks of the Huntington   \n",
       "248  3/11/2023     Uintas        Avalanche: Upper Chalk Creek   \n",
       "249  3/11/2023      Logan             Avalanche: River Chutes   \n",
       "\n",
       "              extension                      Observer  \n",
       "0    /observation/77490                          Owen  \n",
       "1      /avalanche/77487                 Patty Pow Pow  \n",
       "2      /avalanche/77465                     UAC Staff  \n",
       "3      /avalanche/77464                           slp  \n",
       "4    /observation/77463                      W Ambler  \n",
       "..                  ...                           ...  \n",
       "245  /observation/76605                 William Rouse  \n",
       "246    /avalanche/77134                      Kobernik  \n",
       "247    /avalanche/76518  Brett Kobernik-Jeremy Larson  \n",
       "248    /avalanche/76894                        Torrey  \n",
       "249    /avalanche/76738                      Pagnucco  \n",
       "\n",
       "[250 rows x 5 columns]"
      ]
     },
     "execution_count": 46,
     "metadata": {},
     "output_type": "execute_result"
    }
   ],
   "source": [
    "page_obs"
   ]
  },
  {
   "cell_type": "markdown",
   "id": "695a84d2-d3b2-461e-840e-1d89cbe4b671",
   "metadata": {},
   "source": [
    "#### Custom Date Range\n",
    "Utah Avalanche also allows for you to look back into past season's avalanches using the custom date range. Given the range from 01/01/2021 to 12/01/2021 the output url is: https://utahavalanchecenter.org/observations?rid=All&term=All&fodv%5Bmin%5D%5Bdate%5D=01/01/2021&fodv%5Bmax%5D%5Bdate%5D=12/01/2021."
   ]
  },
  {
   "cell_type": "code",
   "execution_count": 47,
   "id": "b71e32cd-2e49-4954-813a-02cb1af4e489",
   "metadata": {},
   "outputs": [
    {
     "name": "stdout",
     "output_type": "stream",
     "text": [
      "365 days, 0:00:00\n",
      "<class 'datetime.datetime'>\n"
     ]
    }
   ],
   "source": [
    "start_date = datetime.datetime(2022, 1, 1)\n",
    "end_date = datetime.datetime(2023, 1, 1)\n",
    "print(end_date-start_date)\n",
    "print(type(start_date))"
   ]
  },
  {
   "cell_type": "code",
   "execution_count": 48,
   "id": "8f7c0ec5-4e0c-49b0-8fd3-6352a49b0da0",
   "metadata": {},
   "outputs": [
    {
     "name": "stdout",
     "output_type": "stream",
     "text": [
      "The urls match: https://utahavalanchecenter.org/observations?rid=All&term=All&fodv%5Bmin%5D%5Bdate%5D=01/01/2021&fodv%5Bmax%5D%5Bdate%5D=12/01/2021\n"
     ]
    }
   ],
   "source": [
    "def generate_url(start_date, end_date):\n",
    "    return f\"https://utahavalanchecenter.org/observations?rid=All&term=All&fodv%5Bmin%5D%5Bdate%5D={start_date.month:02d}/{start_date.day:02d}/{start_date.year}&fodv%5Bmax%5D%5Bdate%5D={end_date.month:02d}/{end_date.day:02d}/{end_date.year}\"\n",
    "    \n",
    "gen_url=generate_url(start_date = datetime.datetime(2021,1,1), end_date = datetime.datetime(2021, 12,1))\n",
    "if gen_url == 'https://utahavalanchecenter.org/observations?rid=All&term=All&fodv%5Bmin%5D%5Bdate%5D=01/01/2021&fodv%5Bmax%5D%5Bdate%5D=12/01/2021':\n",
    "    print('The urls match:', gen_url)\n",
    "else:\n",
    "    print('The urls failed:')\n",
    "    print(gen_url)\n",
    "    print('https://utahavalanchecenter.org/observations?rid=All&term=All&fodv%5Bmin%5D%5Bdate%5D=01/01/2021&fodv%5Bmax%5D%5Bdate%5D=12/01/2021')"
   ]
  },
  {
   "cell_type": "markdown",
   "id": "6532cbcd-1958-4f08-b67f-b6f1ff9b9823",
   "metadata": {},
   "source": [
    "For a large enough range there will be multiple pages and we will need to iterate through those. To step through the pages we just need to add the string '&page=page_num' to the generated url where page_num is the page number."
   ]
  },
  {
   "cell_type": "code",
   "execution_count": 49,
   "id": "87818681-694d-4107-9260-dd91d1c6c9fc",
   "metadata": {},
   "outputs": [
    {
     "data": {
      "text/html": [
       "<div>\n",
       "<style scoped>\n",
       "    .dataframe tbody tr th:only-of-type {\n",
       "        vertical-align: middle;\n",
       "    }\n",
       "\n",
       "    .dataframe tbody tr th {\n",
       "        vertical-align: top;\n",
       "    }\n",
       "\n",
       "    .dataframe thead th {\n",
       "        text-align: right;\n",
       "    }\n",
       "</style>\n",
       "<table border=\"1\" class=\"dataframe\">\n",
       "  <thead>\n",
       "    <tr style=\"text-align: right;\">\n",
       "      <th></th>\n",
       "      <th>Date</th>\n",
       "      <th>Region</th>\n",
       "      <th>Observation Title</th>\n",
       "      <th>extension</th>\n",
       "      <th>Observer</th>\n",
       "    </tr>\n",
       "  </thead>\n",
       "  <tbody>\n",
       "    <tr>\n",
       "      <th>0</th>\n",
       "      <td>12/31/2022</td>\n",
       "      <td>Ogden</td>\n",
       "      <td>Avalanche: Rodeo Ridge</td>\n",
       "      <td>/avalanche/72835</td>\n",
       "      <td>Bill Brandt</td>\n",
       "    </tr>\n",
       "    <tr>\n",
       "      <th>1</th>\n",
       "      <td>12/31/2022</td>\n",
       "      <td>Ogden</td>\n",
       "      <td>Avalanche: Cutler Basin</td>\n",
       "      <td>/avalanche/72774</td>\n",
       "      <td>Joe</td>\n",
       "    </tr>\n",
       "    <tr>\n",
       "      <th>2</th>\n",
       "      <td>12/31/2022</td>\n",
       "      <td>Logan</td>\n",
       "      <td>Observation: Beaver Mountain Backcountry</td>\n",
       "      <td>/observation/72698</td>\n",
       "      <td>weed, pagnucco</td>\n",
       "    </tr>\n",
       "    <tr>\n",
       "      <th>3</th>\n",
       "      <td>12/31/2022</td>\n",
       "      <td>Salt Lake</td>\n",
       "      <td>Avalanche: Willows</td>\n",
       "      <td>/avalanche/72713</td>\n",
       "      <td>McKay</td>\n",
       "    </tr>\n",
       "    <tr>\n",
       "      <th>4</th>\n",
       "      <td>12/31/2022</td>\n",
       "      <td>Provo</td>\n",
       "      <td>Avalanche: North Fork Provo R.</td>\n",
       "      <td>/avalanche/72726</td>\n",
       "      <td></td>\n",
       "    </tr>\n",
       "    <tr>\n",
       "      <th>...</th>\n",
       "      <td>...</td>\n",
       "      <td>...</td>\n",
       "      <td>...</td>\n",
       "      <td>...</td>\n",
       "      <td>...</td>\n",
       "    </tr>\n",
       "    <tr>\n",
       "      <th>519</th>\n",
       "      <td>12/1/2022</td>\n",
       "      <td>Provo</td>\n",
       "      <td>Observation: Provo</td>\n",
       "      <td>/observation/70921</td>\n",
       "      <td>Susan S</td>\n",
       "    </tr>\n",
       "    <tr>\n",
       "      <th>520</th>\n",
       "      <td>12/1/2022</td>\n",
       "      <td>Salt Lake</td>\n",
       "      <td>Observation: Brighton Perimeter</td>\n",
       "      <td>/observation/70924</td>\n",
       "      <td>Talty, Coyne, Gill</td>\n",
       "    </tr>\n",
       "    <tr>\n",
       "      <th>521</th>\n",
       "      <td>12/1/2022</td>\n",
       "      <td>Salt Lake</td>\n",
       "      <td>Observation: West ridge</td>\n",
       "      <td>/observation/70928</td>\n",
       "      <td>Will Ambler, Will Marin</td>\n",
       "    </tr>\n",
       "    <tr>\n",
       "      <th>522</th>\n",
       "      <td>12/1/2022</td>\n",
       "      <td>Salt Lake</td>\n",
       "      <td>Avalanche: Mineral Fork</td>\n",
       "      <td>/avalanche/70931</td>\n",
       "      <td>Julian Kallanian</td>\n",
       "    </tr>\n",
       "    <tr>\n",
       "      <th>523</th>\n",
       "      <td>12/1/2022</td>\n",
       "      <td>Salt Lake</td>\n",
       "      <td>Observation: Willows</td>\n",
       "      <td>/observation/70929</td>\n",
       "      <td>John Lemnotis</td>\n",
       "    </tr>\n",
       "  </tbody>\n",
       "</table>\n",
       "<p>524 rows × 5 columns</p>\n",
       "</div>"
      ],
      "text/plain": [
       "           Date     Region                         Observation Title  \\\n",
       "0    12/31/2022      Ogden                    Avalanche: Rodeo Ridge   \n",
       "1    12/31/2022      Ogden                   Avalanche: Cutler Basin   \n",
       "2    12/31/2022      Logan  Observation: Beaver Mountain Backcountry   \n",
       "3    12/31/2022  Salt Lake                        Avalanche: Willows   \n",
       "4    12/31/2022      Provo            Avalanche: North Fork Provo R.   \n",
       "..          ...        ...                                       ...   \n",
       "519   12/1/2022      Provo                        Observation: Provo   \n",
       "520   12/1/2022  Salt Lake           Observation: Brighton Perimeter   \n",
       "521   12/1/2022  Salt Lake                   Observation: West ridge   \n",
       "522   12/1/2022  Salt Lake                   Avalanche: Mineral Fork   \n",
       "523   12/1/2022  Salt Lake                      Observation: Willows   \n",
       "\n",
       "              extension                 Observer  \n",
       "0      /avalanche/72835              Bill Brandt  \n",
       "1      /avalanche/72774                      Joe  \n",
       "2    /observation/72698           weed, pagnucco  \n",
       "3      /avalanche/72713                    McKay  \n",
       "4      /avalanche/72726                           \n",
       "..                  ...                      ...  \n",
       "519  /observation/70921                  Susan S  \n",
       "520  /observation/70924       Talty, Coyne, Gill  \n",
       "521  /observation/70928  Will Ambler, Will Marin  \n",
       "522    /avalanche/70931         Julian Kallanian  \n",
       "523  /observation/70929            John Lemnotis  \n",
       "\n",
       "[524 rows x 5 columns]"
      ]
     },
     "execution_count": 49,
     "metadata": {},
     "output_type": "execute_result"
    }
   ],
   "source": [
    "#collect the reports from December 2022. \n",
    "start_date = datetime.datetime(2022, 12,1)\n",
    "end_date = datetime.datetime(2022, 12, 31)\n",
    "start_url = generate_url(start_date, end_date)\n",
    "page_num = 0\n",
    "observations = pd.DataFrame()\n",
    "while True:\n",
    "    try:\n",
    "        if page_num != 0:\n",
    "            data_url = start_url + f\"&page={page_num}\"\n",
    "        else:\n",
    "            data_url = start_url\n",
    "        page_obs_new = get_page_obs(data_url)\n",
    "        observations = pd.concat([observations, page_obs_new])\n",
    "        page_num += 1\n",
    "    except:\n",
    "        break\n",
    "observations = observations.reset_index(drop=True)\n",
    "observations"
   ]
  },
  {
   "cell_type": "code",
   "execution_count": 50,
   "id": "2e7291d1-e7b9-4bd9-9643-f64ce29f2a85",
   "metadata": {},
   "outputs": [],
   "source": [
    "#lets put that in a function\n",
    "def get_obs(start_date, end_date):\n",
    "    '''returns a dataframe of the observations on the UAC website. '''\n",
    "    start_url = generate_url(start_date, end_date)\n",
    "    page_num = 0\n",
    "    observations = pd.DataFrame()\n",
    "    while True:\n",
    "        try:\n",
    "            if page_num != 0:\n",
    "                data_url = start_url + f\"&page={page_num}\"\n",
    "            else:\n",
    "                data_url = start_url\n",
    "            page_obs_new = get_page_obs(data_url)\n",
    "            observations = pd.concat([observations, page_obs_new])\n",
    "            page_num += 1\n",
    "        except:\n",
    "            #if the page can't be loaded then we've reached the end of available obs\n",
    "            break\n",
    "    observations = observations.reset_index(drop=True)\n",
    "    #TODO: if no start date or end date give this season's observations\n",
    "    return observations"
   ]
  },
  {
   "cell_type": "markdown",
   "id": "b9f7ca99-e0a2-4bbc-8d0d-a23554768a89",
   "metadata": {},
   "source": [
    "#### Season Data\n",
    "In general a ski season in the Wasatch typically lasts from the late fall (October or November) to mid spring (April or May). Therefore we can define a season easily between the dry months of July and August. If we wanted to collect the data from the current season we need only to look between \"today\" and the beginning of that season. "
   ]
  },
  {
   "cell_type": "code",
   "execution_count": 51,
   "id": "11711afb-21c3-4b7a-87a3-b4f3b9d082cd",
   "metadata": {},
   "outputs": [
    {
     "name": "stdout",
     "output_type": "stream",
     "text": [
      "2023-03-28 <class 'datetime.date'>\n",
      "2022-08-01 00:00:00\n"
     ]
    }
   ],
   "source": [
    "today = datetime.date.today()\n",
    "print(today, type(today))\n",
    "def get_season_start(date):\n",
    "    '''returns the beginning of the season as defined between the last August and the end of July'''\n",
    "    start_day = 1\n",
    "    start_month = 8\n",
    "    end_month = 7\n",
    "    if date.month < 7:\n",
    "        start_year = date.year-1\n",
    "    else:\n",
    "        start_year = date.year\n",
    "    return datetime.datetime(start_year, start_month, start_day)\n",
    "print(get_season_start(today))"
   ]
  },
  {
   "cell_type": "code",
   "execution_count": 52,
   "id": "99b342ea-1cec-4af8-94d2-25b4c016f3cd",
   "metadata": {},
   "outputs": [
    {
     "data": {
      "text/html": [
       "<div>\n",
       "<style scoped>\n",
       "    .dataframe tbody tr th:only-of-type {\n",
       "        vertical-align: middle;\n",
       "    }\n",
       "\n",
       "    .dataframe tbody tr th {\n",
       "        vertical-align: top;\n",
       "    }\n",
       "\n",
       "    .dataframe thead th {\n",
       "        text-align: right;\n",
       "    }\n",
       "</style>\n",
       "<table border=\"1\" class=\"dataframe\">\n",
       "  <thead>\n",
       "    <tr style=\"text-align: right;\">\n",
       "      <th></th>\n",
       "      <th>Date</th>\n",
       "      <th>Region</th>\n",
       "      <th>Observation Title</th>\n",
       "      <th>extension</th>\n",
       "      <th>Observer</th>\n",
       "    </tr>\n",
       "  </thead>\n",
       "  <tbody>\n",
       "    <tr>\n",
       "      <th>0</th>\n",
       "      <td>3/28/2023</td>\n",
       "      <td>Provo</td>\n",
       "      <td>Observation: Aspen Grove</td>\n",
       "      <td>/observation/77490</td>\n",
       "      <td>Owen</td>\n",
       "    </tr>\n",
       "    <tr>\n",
       "      <th>1</th>\n",
       "      <td>3/27/2023</td>\n",
       "      <td>Salt Lake</td>\n",
       "      <td>Avalanche: Butler Fork</td>\n",
       "      <td>/avalanche/77487</td>\n",
       "      <td>Patty Pow Pow</td>\n",
       "    </tr>\n",
       "    <tr>\n",
       "      <th>2</th>\n",
       "      <td>3/27/2023</td>\n",
       "      <td>Salt Lake</td>\n",
       "      <td>Accident: Oquirrh Mountains</td>\n",
       "      <td>/avalanche/77465</td>\n",
       "      <td>UAC Staff</td>\n",
       "    </tr>\n",
       "    <tr>\n",
       "      <th>3</th>\n",
       "      <td>3/27/2023</td>\n",
       "      <td>Salt Lake</td>\n",
       "      <td>Avalanche: Little Superior</td>\n",
       "      <td>/avalanche/77464</td>\n",
       "      <td>slp</td>\n",
       "    </tr>\n",
       "    <tr>\n",
       "      <th>4</th>\n",
       "      <td>3/27/2023</td>\n",
       "      <td>Salt Lake</td>\n",
       "      <td>Observation: South Face</td>\n",
       "      <td>/observation/77463</td>\n",
       "      <td>W Ambler</td>\n",
       "    </tr>\n",
       "    <tr>\n",
       "      <th>...</th>\n",
       "      <td>...</td>\n",
       "      <td>...</td>\n",
       "      <td>...</td>\n",
       "      <td>...</td>\n",
       "      <td>...</td>\n",
       "    </tr>\n",
       "    <tr>\n",
       "      <th>2073</th>\n",
       "      <td>10/24/2022</td>\n",
       "      <td>Salt Lake</td>\n",
       "      <td>Observation: Little Cottonwood Canyon</td>\n",
       "      <td>/observation/69799</td>\n",
       "      <td></td>\n",
       "    </tr>\n",
       "    <tr>\n",
       "      <th>2074</th>\n",
       "      <td>10/23/2022</td>\n",
       "      <td>Salt Lake</td>\n",
       "      <td>Avalanche: High Greeley</td>\n",
       "      <td>/avalanche/69798</td>\n",
       "      <td>Nate Fillnow</td>\n",
       "    </tr>\n",
       "    <tr>\n",
       "      <th>2075</th>\n",
       "      <td>10/23/2022</td>\n",
       "      <td>Salt Lake</td>\n",
       "      <td>Avalanche: Cardiac Ridge</td>\n",
       "      <td>/avalanche/69797</td>\n",
       "      <td>UAC Staff</td>\n",
       "    </tr>\n",
       "    <tr>\n",
       "      <th>2076</th>\n",
       "      <td>10/23/2022</td>\n",
       "      <td>Salt Lake</td>\n",
       "      <td>Avalanche: Baldy</td>\n",
       "      <td>/avalanche/69788</td>\n",
       "      <td>UAC Staff - Meisenheimer</td>\n",
       "    </tr>\n",
       "    <tr>\n",
       "      <th>2077</th>\n",
       "      <td>10/22/2022</td>\n",
       "      <td>Salt Lake</td>\n",
       "      <td>Observation: Emma Ridges</td>\n",
       "      <td>/observation/69777</td>\n",
       "      <td>Glew</td>\n",
       "    </tr>\n",
       "  </tbody>\n",
       "</table>\n",
       "<p>2078 rows × 5 columns</p>\n",
       "</div>"
      ],
      "text/plain": [
       "            Date     Region                      Observation Title  \\\n",
       "0      3/28/2023      Provo               Observation: Aspen Grove   \n",
       "1      3/27/2023  Salt Lake                 Avalanche: Butler Fork   \n",
       "2      3/27/2023  Salt Lake            Accident: Oquirrh Mountains   \n",
       "3      3/27/2023  Salt Lake             Avalanche: Little Superior   \n",
       "4      3/27/2023  Salt Lake                Observation: South Face   \n",
       "...          ...        ...                                    ...   \n",
       "2073  10/24/2022  Salt Lake  Observation: Little Cottonwood Canyon   \n",
       "2074  10/23/2022  Salt Lake                Avalanche: High Greeley   \n",
       "2075  10/23/2022  Salt Lake               Avalanche: Cardiac Ridge   \n",
       "2076  10/23/2022  Salt Lake                       Avalanche: Baldy   \n",
       "2077  10/22/2022  Salt Lake               Observation: Emma Ridges   \n",
       "\n",
       "               extension                  Observer  \n",
       "0     /observation/77490                      Owen  \n",
       "1       /avalanche/77487             Patty Pow Pow  \n",
       "2       /avalanche/77465                 UAC Staff  \n",
       "3       /avalanche/77464                       slp  \n",
       "4     /observation/77463                  W Ambler  \n",
       "...                  ...                       ...  \n",
       "2073  /observation/69799                            \n",
       "2074    /avalanche/69798              Nate Fillnow  \n",
       "2075    /avalanche/69797                 UAC Staff  \n",
       "2076    /avalanche/69788  UAC Staff - Meisenheimer  \n",
       "2077  /observation/69777                      Glew  \n",
       "\n",
       "[2078 rows x 5 columns]"
      ]
     },
     "execution_count": 52,
     "metadata": {},
     "output_type": "execute_result"
    }
   ],
   "source": [
    "def get_season_obs(date = datetime.date.today()):\n",
    "    '''fetches the observations of the season for the date specified'''\n",
    "    season_start = get_season_start(date)\n",
    "    return get_obs(season_start, date)\n",
    "season_obs = get_season_obs()\n",
    "season_obs"
   ]
  },
  {
   "cell_type": "markdown",
   "id": "085ca151-e2e3-4331-9da6-e1330b8e2347",
   "metadata": {},
   "source": [
    "### Sorting Observations\n",
    "Filtering for regions, avalanches vs observations, and others. "
   ]
  },
  {
   "cell_type": "code",
   "execution_count": 53,
   "id": "0eb7edb8-a6ac-4228-b6a9-8489aea64c3e",
   "metadata": {},
   "outputs": [
    {
     "data": {
      "text/plain": [
       "2078"
      ]
     },
     "execution_count": 53,
     "metadata": {},
     "output_type": "execute_result"
    }
   ],
   "source": [
    "season_obs.shape[0]"
   ]
  },
  {
   "cell_type": "markdown",
   "id": "54348dbc-d8a8-4d29-8381-f6111ef3c78b",
   "metadata": {},
   "source": [
    "#### Filter Regions"
   ]
  },
  {
   "cell_type": "code",
   "execution_count": 54,
   "id": "b1325bdb-f1f9-47b0-93f4-101a21409481",
   "metadata": {},
   "outputs": [
    {
     "name": "stdout",
     "output_type": "stream",
     "text": [
      "Salt Lake     1013\n",
      "Logan          311\n",
      "Ogden          188\n",
      "Uintas         186\n",
      "Provo          181\n",
      "Moab           107\n",
      "Skyline         54\n",
      "Southwest       22\n",
      "Abajos          10\n",
      "SE Idaho         5\n",
      "State-wide       1\n",
      "Name: Region, dtype: int64\n"
     ]
    }
   ],
   "source": [
    "#What are the avalanche regions that got avalanches this season?\n",
    "print(season_obs.Region.value_counts())"
   ]
  },
  {
   "cell_type": "code",
   "execution_count": 55,
   "id": "5ef13452-254c-46a4-864a-765e3521294e",
   "metadata": {},
   "outputs": [
    {
     "data": {
      "text/html": [
       "<div>\n",
       "<style scoped>\n",
       "    .dataframe tbody tr th:only-of-type {\n",
       "        vertical-align: middle;\n",
       "    }\n",
       "\n",
       "    .dataframe tbody tr th {\n",
       "        vertical-align: top;\n",
       "    }\n",
       "\n",
       "    .dataframe thead th {\n",
       "        text-align: right;\n",
       "    }\n",
       "</style>\n",
       "<table border=\"1\" class=\"dataframe\">\n",
       "  <thead>\n",
       "    <tr style=\"text-align: right;\">\n",
       "      <th></th>\n",
       "      <th>Date</th>\n",
       "      <th>Region</th>\n",
       "      <th>Observation Title</th>\n",
       "      <th>extension</th>\n",
       "      <th>Observer</th>\n",
       "    </tr>\n",
       "  </thead>\n",
       "  <tbody>\n",
       "    <tr>\n",
       "      <th>1</th>\n",
       "      <td>3/27/2023</td>\n",
       "      <td>Salt Lake</td>\n",
       "      <td>Avalanche: Butler Fork</td>\n",
       "      <td>/avalanche/77487</td>\n",
       "      <td>Patty Pow Pow</td>\n",
       "    </tr>\n",
       "    <tr>\n",
       "      <th>2</th>\n",
       "      <td>3/27/2023</td>\n",
       "      <td>Salt Lake</td>\n",
       "      <td>Accident: Oquirrh Mountains</td>\n",
       "      <td>/avalanche/77465</td>\n",
       "      <td>UAC Staff</td>\n",
       "    </tr>\n",
       "    <tr>\n",
       "      <th>3</th>\n",
       "      <td>3/27/2023</td>\n",
       "      <td>Salt Lake</td>\n",
       "      <td>Avalanche: Little Superior</td>\n",
       "      <td>/avalanche/77464</td>\n",
       "      <td>slp</td>\n",
       "    </tr>\n",
       "    <tr>\n",
       "      <th>4</th>\n",
       "      <td>3/27/2023</td>\n",
       "      <td>Salt Lake</td>\n",
       "      <td>Observation: South Face</td>\n",
       "      <td>/observation/77463</td>\n",
       "      <td>W Ambler</td>\n",
       "    </tr>\n",
       "    <tr>\n",
       "      <th>5</th>\n",
       "      <td>3/27/2023</td>\n",
       "      <td>Salt Lake</td>\n",
       "      <td>Avalanche: Long John Silver</td>\n",
       "      <td>/avalanche/77461</td>\n",
       "      <td>VR</td>\n",
       "    </tr>\n",
       "    <tr>\n",
       "      <th>...</th>\n",
       "      <td>...</td>\n",
       "      <td>...</td>\n",
       "      <td>...</td>\n",
       "      <td>...</td>\n",
       "      <td>...</td>\n",
       "    </tr>\n",
       "    <tr>\n",
       "      <th>2073</th>\n",
       "      <td>10/24/2022</td>\n",
       "      <td>Salt Lake</td>\n",
       "      <td>Observation: Little Cottonwood Canyon</td>\n",
       "      <td>/observation/69799</td>\n",
       "      <td></td>\n",
       "    </tr>\n",
       "    <tr>\n",
       "      <th>2074</th>\n",
       "      <td>10/23/2022</td>\n",
       "      <td>Salt Lake</td>\n",
       "      <td>Avalanche: High Greeley</td>\n",
       "      <td>/avalanche/69798</td>\n",
       "      <td>Nate Fillnow</td>\n",
       "    </tr>\n",
       "    <tr>\n",
       "      <th>2075</th>\n",
       "      <td>10/23/2022</td>\n",
       "      <td>Salt Lake</td>\n",
       "      <td>Avalanche: Cardiac Ridge</td>\n",
       "      <td>/avalanche/69797</td>\n",
       "      <td>UAC Staff</td>\n",
       "    </tr>\n",
       "    <tr>\n",
       "      <th>2076</th>\n",
       "      <td>10/23/2022</td>\n",
       "      <td>Salt Lake</td>\n",
       "      <td>Avalanche: Baldy</td>\n",
       "      <td>/avalanche/69788</td>\n",
       "      <td>UAC Staff - Meisenheimer</td>\n",
       "    </tr>\n",
       "    <tr>\n",
       "      <th>2077</th>\n",
       "      <td>10/22/2022</td>\n",
       "      <td>Salt Lake</td>\n",
       "      <td>Observation: Emma Ridges</td>\n",
       "      <td>/observation/69777</td>\n",
       "      <td>Glew</td>\n",
       "    </tr>\n",
       "  </tbody>\n",
       "</table>\n",
       "<p>1013 rows × 5 columns</p>\n",
       "</div>"
      ],
      "text/plain": [
       "            Date     Region                      Observation Title  \\\n",
       "1      3/27/2023  Salt Lake                 Avalanche: Butler Fork   \n",
       "2      3/27/2023  Salt Lake            Accident: Oquirrh Mountains   \n",
       "3      3/27/2023  Salt Lake             Avalanche: Little Superior   \n",
       "4      3/27/2023  Salt Lake                Observation: South Face   \n",
       "5      3/27/2023  Salt Lake            Avalanche: Long John Silver   \n",
       "...          ...        ...                                    ...   \n",
       "2073  10/24/2022  Salt Lake  Observation: Little Cottonwood Canyon   \n",
       "2074  10/23/2022  Salt Lake                Avalanche: High Greeley   \n",
       "2075  10/23/2022  Salt Lake               Avalanche: Cardiac Ridge   \n",
       "2076  10/23/2022  Salt Lake                       Avalanche: Baldy   \n",
       "2077  10/22/2022  Salt Lake               Observation: Emma Ridges   \n",
       "\n",
       "               extension                  Observer  \n",
       "1       /avalanche/77487             Patty Pow Pow  \n",
       "2       /avalanche/77465                 UAC Staff  \n",
       "3       /avalanche/77464                       slp  \n",
       "4     /observation/77463                  W Ambler  \n",
       "5       /avalanche/77461                        VR  \n",
       "...                  ...                       ...  \n",
       "2073  /observation/69799                            \n",
       "2074    /avalanche/69798              Nate Fillnow  \n",
       "2075    /avalanche/69797                 UAC Staff  \n",
       "2076    /avalanche/69788  UAC Staff - Meisenheimer  \n",
       "2077  /observation/69777                      Glew  \n",
       "\n",
       "[1013 rows x 5 columns]"
      ]
     },
     "execution_count": 55,
     "metadata": {},
     "output_type": "execute_result"
    }
   ],
   "source": [
    "#This season I'm generally staying in the Salt Lake region of the Wasatch\n",
    "saltLake_obs = season_obs.loc[season_obs.Region == \"Salt Lake\"]\n",
    "saltLake_obs"
   ]
  },
  {
   "cell_type": "markdown",
   "id": "f79a72b3-a689-46f9-9f4e-ce10e108ba1f",
   "metadata": {},
   "source": [
    "#### Filter Avalanche vs Observation"
   ]
  },
  {
   "cell_type": "code",
   "execution_count": 56,
   "id": "6ca13fec-39f3-4f8e-94b6-fdffe534e02b",
   "metadata": {},
   "outputs": [
    {
     "data": {
      "text/plain": [
       "0       Observation\n",
       "1         Avalanche\n",
       "2          Accident\n",
       "3         Avalanche\n",
       "4       Observation\n",
       "           ...     \n",
       "2073    Observation\n",
       "2074      Avalanche\n",
       "2075      Avalanche\n",
       "2076      Avalanche\n",
       "2077    Observation\n",
       "Name: Observation Title, Length: 2078, dtype: object"
      ]
     },
     "execution_count": 56,
     "metadata": {},
     "output_type": "execute_result"
    }
   ],
   "source": [
    "season_obs['Observation Title'].str.split(':').str[0]"
   ]
  },
  {
   "cell_type": "code",
   "execution_count": 57,
   "id": "75d91b07-505b-4129-9d5e-e7c7b3ff2268",
   "metadata": {},
   "outputs": [
    {
     "name": "stdout",
     "output_type": "stream",
     "text": [
      "            Date     Region              Observation Title         extension  \\\n",
      "1      3/27/2023  Salt Lake         Avalanche: Butler Fork  /avalanche/77487   \n",
      "3      3/27/2023  Salt Lake     Avalanche: Little Superior  /avalanche/77464   \n",
      "5      3/27/2023  Salt Lake    Avalanche: Long John Silver  /avalanche/77461   \n",
      "9      3/27/2023  Salt Lake           Avalanche: Flanigans  /avalanche/77454   \n",
      "10     3/27/2023      Provo          Avalanche: Timpanogos  /avalanche/77453   \n",
      "...          ...        ...                            ...               ...   \n",
      "2057   11/2/2022  Salt Lake  Avalanche: Upper Collins area  /avalanche/69916   \n",
      "2069  10/25/2022       Moab    Avalanche: Gravel Pit Lanes  /avalanche/72748   \n",
      "2074  10/23/2022  Salt Lake        Avalanche: High Greeley  /avalanche/69798   \n",
      "2075  10/23/2022  Salt Lake       Avalanche: Cardiac Ridge  /avalanche/69797   \n",
      "2076  10/23/2022  Salt Lake               Avalanche: Baldy  /avalanche/69788   \n",
      "\n",
      "                      Observer  \n",
      "1                Patty Pow Pow  \n",
      "3                          slp  \n",
      "5                           VR  \n",
      "9                         Cdec  \n",
      "10         Sundance ski patrol  \n",
      "...                        ...  \n",
      "2057                  C. Alden  \n",
      "2069                 Trenbeath  \n",
      "2074              Nate Fillnow  \n",
      "2075                 UAC Staff  \n",
      "2076  UAC Staff - Meisenheimer  \n",
      "\n",
      "[959 rows x 5 columns]\n"
     ]
    }
   ],
   "source": [
    "def filter_avalanche(observations):\n",
    "    '''filters pandas dataframe for just avalanche entries'''\n",
    "    return observations.loc[observations['Observation Title'].str.split(':').str[0] == 'Avalanche']\n",
    "    \n",
    "season_avys = filter_avalanche(season_obs)\n",
    "print(season_avys)"
   ]
  },
  {
   "cell_type": "markdown",
   "id": "b67ebd1d-dc8d-4b8e-ad05-c2e5fdbdc07e",
   "metadata": {},
   "source": [
    "### Avalanche and Observation Data"
   ]
  },
  {
   "cell_type": "markdown",
   "id": "fb31e811-d519-46c9-97a0-f84baa4f42a6",
   "metadata": {},
   "source": [
    "This looks great! Now let's try inspecting the extension and try extracting information from the observation table. Avalanche and General Observations are useful for tracking avalanches and conditions that could potentially result in avalanches. These observations are stuctured differently on the website, let's look at those differences.\n",
    "\n",
    "#### Avalanche Observations\n",
    "- Name\n",
    "- Email\n",
    "- Obs Date\n",
    "- Avy Date\n",
    "- Location (Region, Name/Route, Lat/Long?)\n",
    "- Elevation\n",
    "- Aspect\n",
    "- Trigger (natural or skier)\n",
    "- Depth\n",
    "- Width\n",
    "- Carried\n",
    "- Snow Profile\n",
    "- Comments\n",
    "\n",
    "There seems to be some similarities and differences. As I parse through the various Reports I will first focus on the avalanche attributes. Lets start with just Observation Title, Observor Name, Observation Date, Location, Observation or Avalanche and Comments."
   ]
  },
  {
   "cell_type": "markdown",
   "id": "b7475431-a38d-4986-ab0c-7528a7b11815",
   "metadata": {},
   "source": [
    "##### Web Scraping"
   ]
  },
  {
   "cell_type": "code",
   "execution_count": 58,
   "id": "ef06e3af-fde5-4c6c-b993-a334fbc5a8b0",
   "metadata": {},
   "outputs": [
    {
     "data": {
      "text/html": [
       "<div>\n",
       "<style scoped>\n",
       "    .dataframe tbody tr th:only-of-type {\n",
       "        vertical-align: middle;\n",
       "    }\n",
       "\n",
       "    .dataframe tbody tr th {\n",
       "        vertical-align: top;\n",
       "    }\n",
       "\n",
       "    .dataframe thead th {\n",
       "        text-align: right;\n",
       "    }\n",
       "</style>\n",
       "<table border=\"1\" class=\"dataframe\">\n",
       "  <thead>\n",
       "    <tr style=\"text-align: right;\">\n",
       "      <th></th>\n",
       "      <th>index</th>\n",
       "      <th>Date</th>\n",
       "      <th>Region</th>\n",
       "      <th>Observation Title</th>\n",
       "      <th>extension</th>\n",
       "      <th>Observer</th>\n",
       "    </tr>\n",
       "  </thead>\n",
       "  <tbody>\n",
       "    <tr>\n",
       "      <th>0</th>\n",
       "      <td>1</td>\n",
       "      <td>3/27/2023</td>\n",
       "      <td>Salt Lake</td>\n",
       "      <td>Avalanche: Butler Fork</td>\n",
       "      <td>/avalanche/77487</td>\n",
       "      <td>Patty Pow Pow</td>\n",
       "    </tr>\n",
       "    <tr>\n",
       "      <th>1</th>\n",
       "      <td>3</td>\n",
       "      <td>3/27/2023</td>\n",
       "      <td>Salt Lake</td>\n",
       "      <td>Avalanche: Little Superior</td>\n",
       "      <td>/avalanche/77464</td>\n",
       "      <td>slp</td>\n",
       "    </tr>\n",
       "    <tr>\n",
       "      <th>2</th>\n",
       "      <td>5</td>\n",
       "      <td>3/27/2023</td>\n",
       "      <td>Salt Lake</td>\n",
       "      <td>Avalanche: Long John Silver</td>\n",
       "      <td>/avalanche/77461</td>\n",
       "      <td>VR</td>\n",
       "    </tr>\n",
       "    <tr>\n",
       "      <th>3</th>\n",
       "      <td>9</td>\n",
       "      <td>3/27/2023</td>\n",
       "      <td>Salt Lake</td>\n",
       "      <td>Avalanche: Flanigans</td>\n",
       "      <td>/avalanche/77454</td>\n",
       "      <td>Cdec</td>\n",
       "    </tr>\n",
       "    <tr>\n",
       "      <th>4</th>\n",
       "      <td>10</td>\n",
       "      <td>3/27/2023</td>\n",
       "      <td>Provo</td>\n",
       "      <td>Avalanche: Timpanogos</td>\n",
       "      <td>/avalanche/77453</td>\n",
       "      <td>Sundance ski patrol</td>\n",
       "    </tr>\n",
       "  </tbody>\n",
       "</table>\n",
       "</div>"
      ],
      "text/plain": [
       "   index       Date     Region            Observation Title         extension  \\\n",
       "0      1  3/27/2023  Salt Lake       Avalanche: Butler Fork  /avalanche/77487   \n",
       "1      3  3/27/2023  Salt Lake   Avalanche: Little Superior  /avalanche/77464   \n",
       "2      5  3/27/2023  Salt Lake  Avalanche: Long John Silver  /avalanche/77461   \n",
       "3      9  3/27/2023  Salt Lake         Avalanche: Flanigans  /avalanche/77454   \n",
       "4     10  3/27/2023      Provo        Avalanche: Timpanogos  /avalanche/77453   \n",
       "\n",
       "              Observer  \n",
       "0        Patty Pow Pow  \n",
       "1                  slp  \n",
       "2                   VR  \n",
       "3                 Cdec  \n",
       "4  Sundance ski patrol  "
      ]
     },
     "execution_count": 58,
     "metadata": {},
     "output_type": "execute_result"
    }
   ],
   "source": [
    "page_avys = filter_avalanche(page_obs).reset_index()\n",
    "page_avys.head()"
   ]
  },
  {
   "cell_type": "code",
   "execution_count": 59,
   "id": "129f1b53-393c-4bbc-9e19-033cc744be94",
   "metadata": {},
   "outputs": [
    {
     "name": "stdout",
     "output_type": "stream",
     "text": [
      "http://utahavalanchecenter.org/avalanche/77487\n"
     ]
    }
   ],
   "source": [
    "extension = page_avys.loc[0, 'extension']\n",
    "print(avy_center_url+extension)\n",
    "page = requests.get(avy_center_url + extension)\n",
    "soup = BeautifulSoup(page.content, 'html.parser')"
   ]
  },
  {
   "cell_type": "code",
   "execution_count": 60,
   "id": "550b1736-7102-4620-8ff7-a8fa7bb86f50",
   "metadata": {},
   "outputs": [
    {
     "name": "stdout",
     "output_type": "stream",
     "text": [
      "Observation title is: Avalanche: Butler Fork\n",
      "Observer Name is: Patty Pow Pow\n",
      "Observation Date is: Monday, March 27, 2023\n",
      "Region is: Salt Lake » Big Cottonwood Canyon » Butler Fork\n",
      "Location Name or Route is: Butler Fork\n",
      "Snow Profile is: None\n",
      "Comments is: None\n"
     ]
    }
   ],
   "source": [
    "title_class='page-title'\n",
    "fields = ['Observer Name', 'Observation Date', 'Region', 'Location Name or Route', 'Snow Profile','Comments']\n",
    "observation_title = soup.find(class_='page-title').string\n",
    "print('Observation title is:', observation_title)\n",
    "\n",
    "for field in fields:\n",
    "    try:\n",
    "        datum = soup.find(string=field).parent.next_sibling.next_sibling.string\n",
    "    except:\n",
    "        datum = None\n",
    "    print(field, 'is:',datum)"
   ]
  },
  {
   "cell_type": "markdown",
   "id": "2ef543d4-255a-40fc-8239-e7c6e4aab62d",
   "metadata": {},
   "source": [
    "Observations generally have more complex data with a Weather section, Red Flags, Avalanche Problem, etc. So lets try and extract all the info we can from an a report ONLY if it's an avalanche report"
   ]
  },
  {
   "cell_type": "markdown",
   "id": "a52a9e83-8a6c-4994-b982-a8c54014fb9d",
   "metadata": {},
   "source": [
    "##### Location Data\n",
    "\n",
    "Now I will collect location data from the avalance observation."
   ]
  },
  {
   "cell_type": "markdown",
   "id": "b0c729ff-6f83-4e9d-9882-8078501d3522",
   "metadata": {},
   "source": [
    "##### Numeric Data\n",
    "Currently all the numerical data is listed as strings where Elevation is for example \"8,500'\" when we really want an elevation category in feet with a numerical value as the entry. To solve this we will use regular expressions."
   ]
  },
  {
   "cell_type": "code",
   "execution_count": 61,
   "id": "311aa38d-ad23-48ba-b342-5b807beede16",
   "metadata": {},
   "outputs": [
    {
     "name": "stdout",
     "output_type": "stream",
     "text": [
      "130000\n"
     ]
    }
   ],
   "source": [
    "r = re.compile(r\"([0-9]*),([0-9]*)'\")\n",
    "m = r.match(\"130,000'\")\n",
    "print(int(m.group(1))*1000+ int(m.group(2)))"
   ]
  },
  {
   "cell_type": "code",
   "execution_count": 62,
   "id": "92999151-9daf-4756-b379-341100206593",
   "metadata": {},
   "outputs": [
    {
     "name": "stdout",
     "output_type": "stream",
     "text": [
      "40.0\n"
     ]
    }
   ],
   "source": [
    "r = re.compile(r\"([0-9]*)\\\"\")\n",
    "m = r.match(\"40\\\"\")\n",
    "print(float(m.group(1)))"
   ]
  },
  {
   "cell_type": "code",
   "execution_count": 63,
   "id": "352fd2cf-592f-46eb-8de0-1df57ccf2f6e",
   "metadata": {},
   "outputs": [
    {
     "name": "stdout",
     "output_type": "stream",
     "text": [
      "Test elevation: 15,567' -> 15567.0\n",
      "Test depth: 18\" -> 18.0\n",
      "Test width: 5' -> 5.0\n"
     ]
    }
   ],
   "source": [
    "#here are all the fields that we have\n",
    "re_fields = {}\n",
    "re_fields['Elevation']=re.compile(r\"([0-9]*),([0-9]*)'\")\n",
    "re_fields['Depth'] = re.compile(r\"([0-9]*)\\\"\")\n",
    "re_fields['Width'] = re.compile(r\"([0-9]*)\\'\")\n",
    "\n",
    "def convert_to_numeric(raw_string, field):\n",
    "    r = re_fields[field]\n",
    "    m = r.match(raw_string)\n",
    "    if field == 'Elevation':\n",
    "        return float(m.group(1))*1000 + float(m.group(2))\n",
    "    else:\n",
    "        return float(m.group(1))\n",
    "\n",
    "def test_re():\n",
    "    elevation = \"15,567'\"\n",
    "    depth = \"18\\\"\"\n",
    "    width = \"5'\"\n",
    "    num_elevation = convert_to_numeric(elevation, 'Elevation')\n",
    "    num_depth = convert_to_numeric(depth, 'Depth')\n",
    "    num_width = convert_to_numeric(width, 'Width')\n",
    "    print('Test elevation:', elevation, '->', num_elevation)\n",
    "    print('Test depth:', depth, '->', num_depth)\n",
    "    print('Test width:', width, '->', num_width)\n",
    "    return\n",
    "\n",
    "test_re()\n",
    "    "
   ]
  },
  {
   "cell_type": "code",
   "execution_count": 64,
   "id": "39c653fe-2e3d-4009-905d-2b0119912e98",
   "metadata": {},
   "outputs": [],
   "source": [
    "def get_avalanche_data(url, verbose = False):\n",
    "    '''Extracts avalanche data from avalanche reports'''\n",
    "    page = requests.get(url)\n",
    "    soup = BeautifulSoup(page.content, 'html.parser')\n",
    "    title_class='page-title'\n",
    "    fields = ['Observer Name', 'Observation Date', 'Region', 'Location Name or Route', 'Snow Profile','Comments']\n",
    "    avy_fields = ['Elevation', 'Aspect', 'Trigger', 'Depth', 'Width', 'Carried']\n",
    "    numeric_fields = ['Elevation', 'Depth', 'Width']\n",
    "    avalanche_data = {}\n",
    "    observation_title = soup.find(class_='page-title').string\n",
    "    if observation_title.split(':')[0] == 'Avalanche':\n",
    "        fields = fields + avy_fields\n",
    "        for field in fields:\n",
    "            try:\n",
    "                datum = soup.find(string=field).parent.next_sibling.next_sibling.string\n",
    "                if field in numeric_fields:\n",
    "                    datum = convert_to_numeric(datum, field)\n",
    "            except:\n",
    "                datum = None\n",
    "            if verbose:\n",
    "                print(field, 'is:',datum)\n",
    "            avalanche_data[field] = datum\n",
    "    return avalanche_data"
   ]
  },
  {
   "cell_type": "code",
   "execution_count": 65,
   "id": "2a706cfa-dd02-4aeb-90ef-b34ef755600e",
   "metadata": {},
   "outputs": [
    {
     "name": "stdout",
     "output_type": "stream",
     "text": [
      "http://utahavalanchecenter.org/avalanche/77487\n",
      "Observer Name is: Patty Pow Pow\n",
      "Observation Date is: Monday, March 27, 2023\n",
      "Region is: Salt Lake » Big Cottonwood Canyon » Butler Fork\n",
      "Location Name or Route is: Butler Fork\n",
      "Snow Profile is: None\n",
      "Comments is: None\n",
      "Elevation is: 9200.0\n",
      "Aspect is: South\n",
      "Trigger is: Natural\n",
      "Depth is: None\n",
      "Width is: None\n",
      "Carried is: None\n"
     ]
    },
    {
     "data": {
      "text/plain": [
       "{'Observer Name': 'Patty Pow Pow',\n",
       " 'Observation Date': 'Monday, March 27, 2023',\n",
       " 'Region': 'Salt Lake » Big Cottonwood Canyon » Butler Fork',\n",
       " 'Location Name or Route': 'Butler Fork',\n",
       " 'Snow Profile': None,\n",
       " 'Comments': None,\n",
       " 'Elevation': 9200.0,\n",
       " 'Aspect': 'South',\n",
       " 'Trigger': 'Natural',\n",
       " 'Depth': None,\n",
       " 'Width': None,\n",
       " 'Carried': None}"
      ]
     },
     "execution_count": 65,
     "metadata": {},
     "output_type": "execute_result"
    }
   ],
   "source": [
    "extension = page_avys.loc[0, 'extension']\n",
    "print(avy_center_url+extension)\n",
    "get_avalanche_data(avy_center_url + extension, verbose=True)"
   ]
  },
  {
   "cell_type": "markdown",
   "id": "58b065eb-d153-478a-af6b-3d8c34e4f30b",
   "metadata": {},
   "source": [
    "##### Compiling Observation Data\n",
    "Now we want to compile data from multiple reports. Lets first start by compiling JUST avalanches from this season. We sorted these out earlier. In the end we want to have a data table with each avalanche observation from the list of observations requested. "
   ]
  },
  {
   "cell_type": "code",
   "execution_count": 66,
   "id": "42870232-2ffe-45d5-9a64-87d6661f2e10",
   "metadata": {},
   "outputs": [
    {
     "data": {
      "text/html": [
       "<div>\n",
       "<style scoped>\n",
       "    .dataframe tbody tr th:only-of-type {\n",
       "        vertical-align: middle;\n",
       "    }\n",
       "\n",
       "    .dataframe tbody tr th {\n",
       "        vertical-align: top;\n",
       "    }\n",
       "\n",
       "    .dataframe thead th {\n",
       "        text-align: right;\n",
       "    }\n",
       "</style>\n",
       "<table border=\"1\" class=\"dataframe\">\n",
       "  <thead>\n",
       "    <tr style=\"text-align: right;\">\n",
       "      <th></th>\n",
       "      <th>Date</th>\n",
       "      <th>Region</th>\n",
       "      <th>Observation Title</th>\n",
       "      <th>extension</th>\n",
       "      <th>Observer</th>\n",
       "    </tr>\n",
       "  </thead>\n",
       "  <tbody>\n",
       "    <tr>\n",
       "      <th>0</th>\n",
       "      <td>3/27/2023</td>\n",
       "      <td>Salt Lake</td>\n",
       "      <td>Avalanche: Butler Fork</td>\n",
       "      <td>/avalanche/77487</td>\n",
       "      <td>Patty Pow Pow</td>\n",
       "    </tr>\n",
       "    <tr>\n",
       "      <th>1</th>\n",
       "      <td>3/27/2023</td>\n",
       "      <td>Salt Lake</td>\n",
       "      <td>Avalanche: Little Superior</td>\n",
       "      <td>/avalanche/77464</td>\n",
       "      <td>slp</td>\n",
       "    </tr>\n",
       "    <tr>\n",
       "      <th>2</th>\n",
       "      <td>3/27/2023</td>\n",
       "      <td>Salt Lake</td>\n",
       "      <td>Avalanche: Long John Silver</td>\n",
       "      <td>/avalanche/77461</td>\n",
       "      <td>VR</td>\n",
       "    </tr>\n",
       "    <tr>\n",
       "      <th>3</th>\n",
       "      <td>3/27/2023</td>\n",
       "      <td>Salt Lake</td>\n",
       "      <td>Avalanche: Flanigans</td>\n",
       "      <td>/avalanche/77454</td>\n",
       "      <td>Cdec</td>\n",
       "    </tr>\n",
       "    <tr>\n",
       "      <th>4</th>\n",
       "      <td>3/27/2023</td>\n",
       "      <td>Provo</td>\n",
       "      <td>Avalanche: Timpanogos</td>\n",
       "      <td>/avalanche/77453</td>\n",
       "      <td>Sundance ski patrol</td>\n",
       "    </tr>\n",
       "  </tbody>\n",
       "</table>\n",
       "</div>"
      ],
      "text/plain": [
       "        Date     Region            Observation Title         extension  \\\n",
       "0  3/27/2023  Salt Lake       Avalanche: Butler Fork  /avalanche/77487   \n",
       "1  3/27/2023  Salt Lake   Avalanche: Little Superior  /avalanche/77464   \n",
       "2  3/27/2023  Salt Lake  Avalanche: Long John Silver  /avalanche/77461   \n",
       "3  3/27/2023  Salt Lake         Avalanche: Flanigans  /avalanche/77454   \n",
       "4  3/27/2023      Provo        Avalanche: Timpanogos  /avalanche/77453   \n",
       "\n",
       "              Observer  \n",
       "0        Patty Pow Pow  \n",
       "1                  slp  \n",
       "2                   VR  \n",
       "3                 Cdec  \n",
       "4  Sundance ski patrol  "
      ]
     },
     "execution_count": 66,
     "metadata": {},
     "output_type": "execute_result"
    }
   ],
   "source": [
    "season_obs = get_season_obs()\n",
    "season_avys = filter_avalanche(season_obs).reset_index(drop=True)\n",
    "season_avys.head()"
   ]
  },
  {
   "cell_type": "code",
   "execution_count": 68,
   "id": "311775b4-f365-4ab3-b1ac-69c47ee274da",
   "metadata": {
    "tags": []
   },
   "outputs": [
    {
     "name": "stdout",
     "output_type": "stream",
     "text": [
      "[]\n"
     ]
    }
   ],
   "source": [
    "extensions = list(season_avys.extension)\n",
    "data = []\n",
    "err = []\n",
    "for extension in extensions:\n",
    "    try:\n",
    "        new_data = get_avalanche_data(avy_center_url+extension)\n",
    "        data.append(new_data)\n",
    "    except:\n",
    "        err.append(extension)\n",
    "avy_data = pd.DataFrame(data)\n",
    "avy_data.head()\n",
    "print(err)"
   ]
  },
  {
   "cell_type": "code",
   "execution_count": null,
   "id": "e399a459-1832-4305-9480-cfa7496a8418",
   "metadata": {},
   "outputs": [],
   "source": []
  },
  {
   "cell_type": "code",
   "execution_count": 29,
   "id": "dbe6d402-0482-4301-9456-394a06c6e6ba",
   "metadata": {},
   "outputs": [
    {
     "name": "stdout",
     "output_type": "stream",
     "text": [
      "[]\n"
     ]
    }
   ],
   "source": [
    "print(err)"
   ]
  },
  {
   "cell_type": "markdown",
   "id": "04c7ca71-eb4c-48af-8212-ea9566336244",
   "metadata": {},
   "source": [
    "##### Data Summary\n",
    "Now we can finally look at some stats from this season"
   ]
  },
  {
   "cell_type": "code",
   "execution_count": 30,
   "id": "0a5fcc9f-cbc2-42df-b98c-88007752cdf7",
   "metadata": {
    "tags": []
   },
   "outputs": [
    {
     "data": {
      "text/plain": [
       "Northeast    252\n",
       "East         210\n",
       "North        185\n",
       "Southeast     79\n",
       "Northwest     76\n",
       "South         60\n",
       "West          52\n",
       "Southwest     26\n",
       "Name: Aspect, dtype: int64"
      ]
     },
     "execution_count": 30,
     "metadata": {},
     "output_type": "execute_result"
    }
   ],
   "source": [
    "#which aspects are there more avalanches?\n",
    "avy_data.Aspect.value_counts()"
   ]
  },
  {
   "cell_type": "code",
   "execution_count": 31,
   "id": "6252fc60-a71b-4986-9961-7e9267c8b64e",
   "metadata": {},
   "outputs": [
    {
     "data": {
      "text/plain": [
       "<AxesSubplot:>"
      ]
     },
     "execution_count": 31,
     "metadata": {},
     "output_type": "execute_result"
    },
    {
     "data": {
      "image/png": "[encoded data removed]",
      "text/plain": [
       "<Figure size 432x288 with 1 Axes>"
      ]
     },
     "metadata": {
      "needs_background": "light"
     },
     "output_type": "display_data"
    }
   ],
   "source": [
    "#how does avalanche likelyhood increase with elevation?\n",
    "avy_data.Elevation.hist()"
   ]
  },
  {
   "cell_type": "code",
   "execution_count": 32,
   "id": "7abe9676-f3e3-47df-b831-a7f52e075aac",
   "metadata": {},
   "outputs": [
    {
     "data": {
      "text/plain": [
       "<AxesSubplot:>"
      ]
     },
     "execution_count": 32,
     "metadata": {},
     "output_type": "execute_result"
    },
    {
     "data": {
      "image/png": "[encoded data removed]",
      "text/plain": [
       "<Figure size 432x288 with 1 Axes>"
      ]
     },
     "metadata": {
      "needs_background": "light"
     },
     "output_type": "display_data"
    }
   ],
   "source": [
    "#what is the width of avalanches\n",
    "avy_data.Width.hist()"
   ]
  },
  {
   "cell_type": "code",
   "execution_count": 33,
   "id": "b13a04b7-b669-4e52-9d63-0ce0a3dc0604",
   "metadata": {},
   "outputs": [
    {
     "data": {
      "text/plain": [
       "<AxesSubplot:>"
      ]
     },
     "execution_count": 33,
     "metadata": {},
     "output_type": "execute_result"
    },
    {
     "data": {
      "image/png": "[encoded data removed]",
      "text/plain": [
       "<Figure size 432x288 with 1 Axes>"
      ]
     },
     "metadata": {
      "needs_background": "light"
     },
     "output_type": "display_data"
    }
   ],
   "source": [
    "#what are the depths of avalanches this season\n",
    "avy_data.Depth.hist()"
   ]
  },
  {
   "cell_type": "code",
   "execution_count": 34,
   "id": "d22ab544-4374-41af-b54c-216a923869c6",
   "metadata": {},
   "outputs": [
    {
     "data": {
      "text/plain": [
       "weed                              38\n",
       "Trenbeath                         21\n",
       "Bill Nalli                        16\n",
       "Brett Kobernik                    13\n",
       "B                                 12\n",
       "Toby Weed                         11\n",
       "Staples et al                      8\n",
       "Torrey                             8\n",
       "Weed                               8\n",
       "Chris Benson                       7\n",
       "Bill Brandt                        7\n",
       "weed, pagnucco                     6\n",
       "Katz                               6\n",
       "Staples                            6\n",
       "Wolford                            6\n",
       "Staples/Osbourne/Deutschlander     5\n",
       "CB                                 5\n",
       "Joe                                5\n",
       "Dave Jarvis                        5\n",
       "UAC Staff                          5\n",
       "Name: Observer Name, dtype: int64"
      ]
     },
     "execution_count": 34,
     "metadata": {},
     "output_type": "execute_result"
    }
   ],
   "source": [
    "#who observed the most avalanches\n",
    "avy_data['Observer Name'].value_counts().head(20)"
   ]
  },
  {
   "cell_type": "code",
   "execution_count": 35,
   "id": "6c2ad754-ac12-41f2-985d-c6abdae985e2",
   "metadata": {},
   "outputs": [
    {
     "data": {
      "text/plain": [
       "<AxesSubplot:>"
      ]
     },
     "execution_count": 35,
     "metadata": {},
     "output_type": "execute_result"
    },
    {
     "data": {
      "image/png": "[encoded data removed]",
      "text/plain": [
       "<Figure size 432x288 with 1 Axes>"
      ]
     },
     "metadata": {
      "needs_background": "light"
     },
     "output_type": "display_data"
    }
   ],
   "source": [
    "#What triggered these avalanches\n",
    "avy_data['Trigger'].hist(xrot=45)"
   ]
  },
  {
   "cell_type": "code",
   "execution_count": 36,
   "id": "343c0a7e-6445-43ce-8afa-e5fd0f927e4a",
   "metadata": {},
   "outputs": [
    {
     "data": {
      "text/plain": [
       "<AxesSubplot:>"
      ]
     },
     "execution_count": 36,
     "metadata": {},
     "output_type": "execute_result"
    },
    {
     "data": {
      "image/png": "[encoded data removed]",
      "text/plain": [
       "<Figure size 432x288 with 1 Axes>"
      ]
     },
     "metadata": {
      "needs_background": "light"
     },
     "output_type": "display_data"
    }
   ],
   "source": [
    "#closer look at Skier vs natural avalanches.\n",
    "avy_data[avy_data['Trigger'].isin(['Skier', 'Natural'])]['Trigger'].hist()"
   ]
  },
  {
   "cell_type": "code",
   "execution_count": 37,
   "id": "ed8cd072-ce52-499c-b133-4dbd0fb0d8c6",
   "metadata": {},
   "outputs": [
    {
     "name": "stdout",
     "output_type": "stream",
     "text": [
      "Out of 959 reported avalanches, there were 55 people caught and carried.\n",
      "Out of 271 skier triggered avalanches, 39 of those skiers were carried by an avalanche.\n"
     ]
    }
   ],
   "source": [
    "# Out of the avalanches how many are carried\n",
    "n_carried = avy_data['Carried'].value_counts().sum()\n",
    "n_avalanches = avy_data.shape[0]\n",
    "print(f\"Out of {n_avalanches} reported avalanches, there were {n_carried} people caught and carried.\")\n",
    "\n",
    "# How many skier triggered avalanches result in a person being carried. \n",
    "skier_triggered = avy_data[avy_data['Trigger'] == 'Skier'].shape[0]\n",
    "skier_triggered_carried = avy_data[avy_data['Trigger'] == 'Skier']['Carried'].value_counts().sum()\n",
    "print(f\"Out of {skier_triggered} skier triggered avalanches, {skier_triggered_carried} of those skiers were carried by an avalanche.\")"
   ]
  },
  {
   "cell_type": "markdown",
   "id": "e38d2d0b-43eb-4c4c-929b-2712a3f99672",
   "metadata": {},
   "source": [
    "#### General Observations\n",
    "- Name\n",
    "- Email\n",
    "- Obs Date\n",
    "- Location\n",
    "- Weather\n",
    "- Red Flags\n",
    "- Avalanche Problem #1\n",
    "- Avalanche Problem #2\n",
    "- Snow Profile\n",
    "- Comments\n",
    "\n",
    "Observations generally have more complex data with a Weather section, Red Flags, Avalanche Problem, etc. So lets try and extract all the info we can from an a report ONLY if it's an avalanche report"
   ]
  },
  {
   "cell_type": "markdown",
   "id": "2610c6d8-1bb5-43f3-92d6-094833aeca0a",
   "metadata": {},
   "source": [
    "## Collecting Avalanche Forecasts\n",
    "\n",
    "Avalanche forecasts are quantized risk factors that are determined by the avalanche forecast professionals of the UAC. The risk factors range between 1-5 in severity: Low (1, Green), Moderate (2, Yellow), Considerable (3, Orange), High (4, Red), and Extreme! (5, Black). These are calculated by weighing various avalanche problems such as large storms which leads to storm slabs, persistant weak layers from weather variations, and sudden warming conditions which leads to wet slides. Each avalanche problem posted includes the information:\n",
    "\n",
    "- Type (Rising Temps, New Snow, Depth Hoar)\n",
    "- Location (Aspect and elevation in form of the compass rose. )\n",
    "- Likelihood (5-point scale from Unlikely (1) to Likely (3) to Certain (5))\n",
    "- Size (5-point scale from Small (1) to Medium (3) to Large (5))\n",
    "- Description\n",
    "\n",
    "This is the primary format of avalanche centers throughout the states and would be the most familiar one to present the findings and assesments we hope to generate from observations in a given day. To pick apart this we need to first figure out how to web scrape the Forecast page and the Archived forecast page which has forecasts accross the state starting from 2001 (https://utahavalanchecenter.org/archives/forecasts). The current forecasts are also displayed here.  "
   ]
  },
  {
   "cell_type": "markdown",
   "id": "ef7a35e1-9bbb-41c0-a79e-7384da9f9efa",
   "metadata": {},
   "source": [
    "### Forecast List\n",
    "\n",
    "Using the archive link (https://utahavalanchecenter.org/archives/forecasts) we can get forecasts from the present day to 2018. "
   ]
  },
  {
   "cell_type": "code",
   "execution_count": 38,
   "id": "eef8ab2c-086b-46c5-b4fb-99fb637976a8",
   "metadata": {},
   "outputs": [
    {
     "data": {
      "text/html": [
       "<div>\n",
       "<style scoped>\n",
       "    .dataframe tbody tr th:only-of-type {\n",
       "        vertical-align: middle;\n",
       "    }\n",
       "\n",
       "    .dataframe tbody tr th {\n",
       "        vertical-align: top;\n",
       "    }\n",
       "\n",
       "    .dataframe thead th {\n",
       "        text-align: right;\n",
       "    }\n",
       "</style>\n",
       "<table border=\"1\" class=\"dataframe\">\n",
       "  <thead>\n",
       "    <tr style=\"text-align: right;\">\n",
       "      <th></th>\n",
       "      <th>(Issued, None)</th>\n",
       "      <th>(, None)</th>\n",
       "      <th>(Forecaster, None)</th>\n",
       "    </tr>\n",
       "  </thead>\n",
       "  <tbody>\n",
       "    <tr>\n",
       "      <th>0</th>\n",
       "      <td>(3/28/2023, None)</td>\n",
       "      <td>(Forecast: Provo Area Mountains, /forecast/pro...</td>\n",
       "      <td>(Drew Hardesty, None)</td>\n",
       "    </tr>\n",
       "    <tr>\n",
       "      <th>1</th>\n",
       "      <td>(3/28/2023, None)</td>\n",
       "      <td>(Forecast: Skyline Area Mountains, /forecast/s...</td>\n",
       "      <td>(Brett Kobernik, None)</td>\n",
       "    </tr>\n",
       "    <tr>\n",
       "      <th>2</th>\n",
       "      <td>(3/28/2023, None)</td>\n",
       "      <td>(Forecast: Ogden Area Mountains, /forecast/ogd...</td>\n",
       "      <td>(Drew Hardesty, None)</td>\n",
       "    </tr>\n",
       "    <tr>\n",
       "      <th>3</th>\n",
       "      <td>(3/28/2023, None)</td>\n",
       "      <td>(Forecast: Moab Area Mountains, /forecast/moab...</td>\n",
       "      <td>(Dave Garcia, None)</td>\n",
       "    </tr>\n",
       "    <tr>\n",
       "      <th>4</th>\n",
       "      <td>(3/28/2023, None)</td>\n",
       "      <td>(Forecast: Salt Lake Area Mountains, /forecast...</td>\n",
       "      <td>(Drew Hardesty, None)</td>\n",
       "    </tr>\n",
       "  </tbody>\n",
       "</table>\n",
       "</div>"
      ],
      "text/plain": [
       "      (Issued, None)                                           (, None)  \\\n",
       "0  (3/28/2023, None)  (Forecast: Provo Area Mountains, /forecast/pro...   \n",
       "1  (3/28/2023, None)  (Forecast: Skyline Area Mountains, /forecast/s...   \n",
       "2  (3/28/2023, None)  (Forecast: Ogden Area Mountains, /forecast/ogd...   \n",
       "3  (3/28/2023, None)  (Forecast: Moab Area Mountains, /forecast/moab...   \n",
       "4  (3/28/2023, None)  (Forecast: Salt Lake Area Mountains, /forecast...   \n",
       "\n",
       "       (Forecaster, None)  \n",
       "0   (Drew Hardesty, None)  \n",
       "1  (Brett Kobernik, None)  \n",
       "2   (Drew Hardesty, None)  \n",
       "3     (Dave Garcia, None)  \n",
       "4   (Drew Hardesty, None)  "
      ]
     },
     "execution_count": 38,
     "metadata": {},
     "output_type": "execute_result"
    }
   ],
   "source": [
    "avy_center_url = 'http://utahavalanchecenter.org'\n",
    "forecast_archive_url = avy_center_url + '/archives/forecasts'\n",
    "page = requests.get(forecast_archive_url)\n",
    "soup = BeautifulSoup(page.content, 'html.parser')\n",
    "tbl = soup.find(\"table\")\n",
    "#print(tbl.dtype)\n",
    "page_forecasts = pd.read_html(str(tbl),extract_links ='all')[0]\n",
    "page_forecasts.head()"
   ]
  },
  {
   "cell_type": "markdown",
   "id": "e63d48c2-0ad8-4756-8926-6473d6df22d2",
   "metadata": {},
   "source": [
    "This is practically the same as collecting observation data except we just substitute the different urls. We had get_table_obs() before so lets make a get_forecasts()"
   ]
  },
  {
   "cell_type": "code",
   "execution_count": 39,
   "id": "b6d18000-d2e4-4101-9e2c-d05874464162",
   "metadata": {},
   "outputs": [
    {
     "data": {
      "text/html": [
       "<div>\n",
       "<style scoped>\n",
       "    .dataframe tbody tr th:only-of-type {\n",
       "        vertical-align: middle;\n",
       "    }\n",
       "\n",
       "    .dataframe tbody tr th {\n",
       "        vertical-align: top;\n",
       "    }\n",
       "\n",
       "    .dataframe thead th {\n",
       "        text-align: right;\n",
       "    }\n",
       "</style>\n",
       "<table border=\"1\" class=\"dataframe\">\n",
       "  <thead>\n",
       "    <tr style=\"text-align: right;\">\n",
       "      <th></th>\n",
       "      <th>Date</th>\n",
       "      <th>Region</th>\n",
       "      <th>Observation Title</th>\n",
       "      <th>extension</th>\n",
       "      <th>Observer</th>\n",
       "    </tr>\n",
       "  </thead>\n",
       "  <tbody>\n",
       "    <tr>\n",
       "      <th>0</th>\n",
       "      <td>3/27/2023</td>\n",
       "      <td>Salt Lake</td>\n",
       "      <td>Avalanche: Butler Fork</td>\n",
       "      <td>/avalanche/77487</td>\n",
       "      <td>Patty Pow Pow</td>\n",
       "    </tr>\n",
       "    <tr>\n",
       "      <th>1</th>\n",
       "      <td>3/27/2023</td>\n",
       "      <td>Salt Lake</td>\n",
       "      <td>Accident: Oquirrh Mountains</td>\n",
       "      <td>/avalanche/77465</td>\n",
       "      <td>UAC Staff</td>\n",
       "    </tr>\n",
       "    <tr>\n",
       "      <th>2</th>\n",
       "      <td>3/27/2023</td>\n",
       "      <td>Salt Lake</td>\n",
       "      <td>Avalanche: Little Superior</td>\n",
       "      <td>/avalanche/77464</td>\n",
       "      <td>slp</td>\n",
       "    </tr>\n",
       "    <tr>\n",
       "      <th>3</th>\n",
       "      <td>3/27/2023</td>\n",
       "      <td>Salt Lake</td>\n",
       "      <td>Observation: South Face</td>\n",
       "      <td>/observation/77463</td>\n",
       "      <td>W Ambler</td>\n",
       "    </tr>\n",
       "    <tr>\n",
       "      <th>4</th>\n",
       "      <td>3/27/2023</td>\n",
       "      <td>Salt Lake</td>\n",
       "      <td>Avalanche: Long John Silver</td>\n",
       "      <td>/avalanche/77461</td>\n",
       "      <td>VR</td>\n",
       "    </tr>\n",
       "  </tbody>\n",
       "</table>\n",
       "</div>"
      ],
      "text/plain": [
       "        Date     Region            Observation Title           extension  \\\n",
       "0  3/27/2023  Salt Lake       Avalanche: Butler Fork    /avalanche/77487   \n",
       "1  3/27/2023  Salt Lake  Accident: Oquirrh Mountains    /avalanche/77465   \n",
       "2  3/27/2023  Salt Lake   Avalanche: Little Superior    /avalanche/77464   \n",
       "3  3/27/2023  Salt Lake      Observation: South Face  /observation/77463   \n",
       "4  3/27/2023  Salt Lake  Avalanche: Long John Silver    /avalanche/77461   \n",
       "\n",
       "        Observer  \n",
       "0  Patty Pow Pow  \n",
       "1      UAC Staff  \n",
       "2            slp  \n",
       "3       W Ambler  \n",
       "4             VR  "
      ]
     },
     "execution_count": 39,
     "metadata": {},
     "output_type": "execute_result"
    }
   ],
   "source": [
    "def get_page_table(url):\n",
    "    '''returns a dataframe of avalanche observations from url. Data in df\n",
    "    includes Date, Region, Avalanche/Observation, (url) extension, and\n",
    "    observor'''\n",
    "    page = requests.get(url)\n",
    "    soup = BeautifulSoup(page.content, 'html.parser')\n",
    "    tbl=soup.find(\"table\")\n",
    "    page_obs = pd.read_html(str(tbl), extract_links='all')[0]\n",
    "    page_obs = clean_page_obs(page_obs)\n",
    "    return page_obs\n",
    "\n",
    "def clean_page_obs(page_obs):\n",
    "    '''Cleans up the html parser's interpretation of the observation list'''\n",
    "    old_columns = page_obs.columns\n",
    "    #change names \n",
    "    page_obs[['Date', 'a']]= pd.DataFrame(page_obs[old_columns[0]].tolist(), index=page_obs.index)\n",
    "    page_obs[['Region', 'b']]= pd.DataFrame(page_obs[old_columns[1]].tolist(), index=page_obs.index)\n",
    "    page_obs[['Observation Title', 'extension']]= pd.DataFrame(page_obs[old_columns[2]].tolist(), index=page_obs.index)\n",
    "    page_obs[['Observer', 'd']]= pd.DataFrame(page_obs[old_columns[3]].tolist(), index=page_obs.index)\n",
    "    #remove old columns & columns with none\n",
    "    page_obs=page_obs.drop(old_columns, axis=1)\n",
    "    page_obs=page_obs.drop(['a','b','d'], axis=1)\n",
    "    return page_obs\n",
    "\n",
    "page_obs = get_page_obs(observations_url)\n",
    "page_obs.head()\n",
    "\n"
   ]
  },
  {
   "cell_type": "code",
   "execution_count": null,
   "id": "1653fd47-e8ce-4603-a40d-4f124bc1f351",
   "metadata": {},
   "outputs": [],
   "source": []
  },
  {
   "cell_type": "markdown",
   "id": "1e1fa29f-30fb-4501-ab50-0331ba09d046",
   "metadata": {},
   "source": [
    "## Cataloging Data\n",
    "\n",
    "As you may notice the time it takes to perform these functions is quite long. In order to make the subsequent inquiries a little faster we will store the data locally on the computer. The process could be further improved, deleting an inquiry after a month or so would save local space or to store the data in a data repository that can be accessed with SQL. "
   ]
  },
  {
   "cell_type": "markdown",
   "id": "d7b0f80f-90b7-4a90-be7e-6ee3ee72bdb9",
   "metadata": {},
   "source": [
    "#### Ideas\n",
    "- Generate Forcast reports for each day and verify using actual report. \n",
    "- Analyze data from fatality reports\n",
    "- Using coodinates of avalanches, find the slope angle.\n",
    "\n",
    "#### TODO\n",
    "- Get location data -> not working using Beautiful soup, try different html parser\n",
    "- Begin processing observation reports\n",
    "- Add the avalanche danger on each day (https://utahavalanchecenter.org/archives/forecasts)\n",
    "- Generate functions that quickly fetch plots for data\n",
    "- Store the data locally\n",
    "- Format the graphs better\n",
    "- Write a script for the web scraping before moving on to Forecasts\n"
   ]
  },
  {
   "cell_type": "code",
   "execution_count": null,
   "id": "6f4b8ab8-58aa-45b1-8330-a78f8e59734a",
   "metadata": {},
   "outputs": [],
   "source": []
  }
 ],
 "metadata": {
  "kernelspec": {
   "display_name": "Python 3 (ipykernel)",
   "language": "python",
   "name": "python3"
  },
  "language_info": {
   "codemirror_mode": {
    "name": "ipython",
    "version": 3
   },
   "file_extension": ".py",
   "mimetype": "text/x-python",
   "name": "python",
   "nbconvert_exporter": "python",
   "pygments_lexer": "ipython3",
   "version": "3.8.9"
  }
 },
 "nbformat": 4,
 "nbformat_minor": 5
}
